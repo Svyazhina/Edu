{
 "cells": [
  {
   "cell_type": "markdown",
   "id": "66d3d3ae",
   "metadata": {
    "toc": true
   },
   "source": [
    "<h1>Table of Contents<span class=\"tocSkip\"></span></h1>\n",
    "<div class=\"toc\"><ul class=\"toc-item\"><li><span><a href=\"#Материалы\" data-toc-modified-id=\"Материалы-1\"><span class=\"toc-item-num\">1&nbsp;&nbsp;</span>Материалы</a></span></li><li><span><a href=\"#Загрузка--и-обзор-данных\" data-toc-modified-id=\"Загрузка--и-обзор-данных-2\"><span class=\"toc-item-num\">2&nbsp;&nbsp;</span>Загрузка  и обзор данных</a></span><ul class=\"toc-item\"><li><span><a href=\"#Загрузка-данных-и-вывод-информации-о-датасетах\" data-toc-modified-id=\"Загрузка-данных-и-вывод-информации-о-датасетах-2.1\"><span class=\"toc-item-num\">2.1&nbsp;&nbsp;</span>Загрузка данных и вывод информации о датасетах</a></span></li><li><span><a href=\"#Корректировка-названия-столбцов-и-типов-данных\" data-toc-modified-id=\"Корректировка-названия-столбцов-и-типов-данных-2.2\"><span class=\"toc-item-num\">2.2&nbsp;&nbsp;</span>Корректировка названия столбцов и типов данных</a></span></li><li><span><a href=\"#Обзор-данных\" data-toc-modified-id=\"Обзор-данных-2.3\"><span class=\"toc-item-num\">2.3&nbsp;&nbsp;</span>Обзор данных</a></span></li></ul></li><li><span><a href=\"#Предобработка-данных\" data-toc-modified-id=\"Предобработка-данных-3\"><span class=\"toc-item-num\">3&nbsp;&nbsp;</span>Предобработка данных</a></span><ul class=\"toc-item\"><li><span><a href=\"#Пропуски\" data-toc-modified-id=\"Пропуски-3.1\"><span class=\"toc-item-num\">3.1&nbsp;&nbsp;</span>Пропуски</a></span></li><li><span><a href=\"#Дубликаты\" data-toc-modified-id=\"Дубликаты-3.2\"><span class=\"toc-item-num\">3.2&nbsp;&nbsp;</span>Дубликаты</a></span></li><li><span><a href=\"#Объеденинение-датасетов\" data-toc-modified-id=\"Объеденинение-датасетов-3.3\"><span class=\"toc-item-num\">3.3&nbsp;&nbsp;</span>Объеденинение датасетов</a></span></li></ul></li><li><span><a href=\"#Анализ-поведения-пользователей\" data-toc-modified-id=\"Анализ-поведения-пользователей-4\"><span class=\"toc-item-num\">4&nbsp;&nbsp;</span>Анализ поведения пользователей</a></span><ul class=\"toc-item\"><li><span><a href=\"#Retention-rate\" data-toc-modified-id=\"Retention-rate-4.1\"><span class=\"toc-item-num\">4.1&nbsp;&nbsp;</span>Retention rate</a></span><ul class=\"toc-item\"><li><span><a href=\"#удержание-пользователей-в-разрезе-источников\" data-toc-modified-id=\"удержание-пользователей-в-разрезе-источников-4.1.1\"><span class=\"toc-item-num\">4.1.1&nbsp;&nbsp;</span>удержание пользователей в разрезе источников</a></span></li></ul></li><li><span><a href=\"#Время,-проведенное-в-приложении\" data-toc-modified-id=\"Время,-проведенное-в-приложении-4.2\"><span class=\"toc-item-num\">4.2&nbsp;&nbsp;</span>Время, проведенное в приложении</a></span></li><li><span><a href=\"#Частота-действий\" data-toc-modified-id=\"Частота-действий-4.3\"><span class=\"toc-item-num\">4.3&nbsp;&nbsp;</span>Частота действий</a></span><ul class=\"toc-item\"><li><span><a href=\"#Анализ-количество-событий\" data-toc-modified-id=\"Анализ-количество-событий-4.3.1\"><span class=\"toc-item-num\">4.3.1&nbsp;&nbsp;</span>Анализ количество событий</a></span></li><li><span><a href=\"#Анализ-количества-сессий\" data-toc-modified-id=\"Анализ-количества-сессий-4.3.2\"><span class=\"toc-item-num\">4.3.2&nbsp;&nbsp;</span>Анализ количества сессий</a></span></li></ul></li><li><span><a href=\"#Уникальные-пользователели\" data-toc-modified-id=\"Уникальные-пользователели-4.4\"><span class=\"toc-item-num\">4.4&nbsp;&nbsp;</span>Уникальные пользователели</a></span></li><li><span><a href=\"#Конверсия-в-целевое-действие---просмотр-контактов\" data-toc-modified-id=\"Конверсия-в-целевое-действие---просмотр-контактов-4.5\"><span class=\"toc-item-num\">4.5&nbsp;&nbsp;</span>Конверсия в целевое действие - просмотр контактов</a></span></li></ul></li><li><span><a href=\"#Сегментация-пользователей\" data-toc-modified-id=\"Сегментация-пользователей-5\"><span class=\"toc-item-num\">5&nbsp;&nbsp;</span>Сегментация пользователей</a></span></li><li><span><a href=\"#Проверка-статистических-гипотез\" data-toc-modified-id=\"Проверка-статистических-гипотез-6\"><span class=\"toc-item-num\">6&nbsp;&nbsp;</span>Проверка статистических гипотез</a></span><ul class=\"toc-item\"><li><span><a href=\"#Проверка-гипотезы:-две-группы-пользователей,-одна-группа-установила-приложение-по-ссылке-из-yandex-,-другая---из-google,-демонстируют-разную-конверсию-в-просмотры-контактов.\" data-toc-modified-id=\"Проверка-гипотезы:-две-группы-пользователей,-одна-группа-установила-приложение-по-ссылке-из-yandex-,-другая---из-google,-демонстируют-разную-конверсию-в-просмотры-контактов.-6.1\"><span class=\"toc-item-num\">6.1&nbsp;&nbsp;</span>Проверка гипотезы: две группы пользователей, одна группа установила приложение по ссылке из yandex , другая - из google, демонстируют разную конверсию в просмотры контактов.</a></span></li><li><span><a href=\"#Проверка-гипотезы:проверить-гипотезу,-что-группы-пользователей,-добавляющие-объявления-в-избранное-и-не-добавляющие-в-избранное,-демонстриуют-разную-конверсию-в-просмотры-контактов\" data-toc-modified-id=\"Проверка-гипотезы:проверить-гипотезу,-что-группы-пользователей,-добавляющие-объявления-в-избранное-и-не-добавляющие-в-избранное,-демонстриуют-разную-конверсию-в-просмотры-контактов-6.2\"><span class=\"toc-item-num\">6.2&nbsp;&nbsp;</span>Проверка гипотезы:проверить гипотезу, что группы пользователей, добавляющие объявления в избранное и не добавляющие в избранное, демонстриуют разную конверсию в просмотры контактов</a></span></li></ul></li><li><span><a href=\"#Общий-вывод-по-исследованию\" data-toc-modified-id=\"Общий-вывод-по-исследованию-7\"><span class=\"toc-item-num\">7&nbsp;&nbsp;</span>Общий вывод по исследованию</a></span></li></ul></div>"
   ]
  },
  {
   "cell_type": "markdown",
   "id": "63063586",
   "metadata": {},
   "source": [
    "## Материалы\n",
    "презентация https://drive.google.com/file/d/1cncwFPt87nZonB8Zz4AO8-i1m9Sb6tZD/view?usp=share_link   \n",
    "дашборд https://public.tableau.com/app/profile/ekaterina4292/viz/Mobil_16801186925880/Dashboard1\n"
   ]
  },
  {
   "cell_type": "markdown",
   "id": "d3fce77b",
   "metadata": {},
   "source": [
    "# Анализ поведения пользователей мобильного приложения"
   ]
  },
  {
   "cell_type": "markdown",
   "id": "a7db328f",
   "metadata": {},
   "source": [
    "Для команды приложения \"Ненужные вещи\", в котором пользователи продают свои ненужные вещи, размещая их на доске объявлений,  необходимо проанализровать поведение пользователей и дать рекомендации для улучшения приложения. Для этого необходимо выделить группы пользователей, , которые различаются по метрикам:\n",
    "1. retention rate,\n",
    "2. время, проведённое в приложении, \n",
    "3. частота действий, \n",
    "4. конверсия в целевое действие — просмотр контактов.  \n",
    "\n",
    "Так же необходимо проверить следующие гипотезы:  \n",
    "1. Некоторые пользователи установили приложение по ссылке из `yandex`, другие — из `google`. Проверьте гипотезу: две эти группы демонстрируют разную конверсию в просмотры контактов.  \n",
    "2. Что группы пользователей, добавляющие объявления в избранное и не добавляющие в избранное, демонстируют разную конверсию в просмотры контактов.\n",
    " \n",
    " <b>Цель исследования:<b>\n",
    "    \n",
    "    - проанализировать поведение пользователей.\n",
    "    - Сегментировать пользователей на группы.\n",
    "    - Проверить статистические гипотезы.\n",
    "    \n",
    "Данные для анализа представлены в двух датасетах.  В датасете mobile_dataset.csv содержатся данные пользователей, впервые совершивших действия в приложении после 7 октября 2019 года. Датасет mobile_sources.csv  содержит информация об источнике, с которого пользователь установил приложение.Перед тем, как приступить к целям исследования, нужно провести обзор данных, по возможности исправить ошибки в данных, если они будут.\n",
    " По итогам исследования необходимо подготовить презентацию и дашборд.\n",
    " Исследование будет включать следующие этапы:"
   ]
  },
  {
   "cell_type": "markdown",
   "id": "7d522033",
   "metadata": {},
   "source": [
    "Декомпозиция:\n",
    "\n",
    "1. Загрузка  и обзор данных.  \n",
    "  1.1. Загрузка данных и вывод информации о датасетах.  \n",
    "  1.2. Корректировка названия столбцов и типов данных.  \n",
    "  1.3. Обзор данных.  \n",
    "2. Предобработка данных.  \n",
    "  2.1. Пропуски.    \n",
    "  2.2. Дубликаты.  \n",
    "  2.3. Объеденинение датасетов.  \n",
    "3. Анализ поведения пользователей.  \n",
    "  3.1. Retention rate.  \n",
    "  3.2. Время, проведенное в приложении.  \n",
    "  3.3. Частота действий.  \n",
    "  3.4. Конверсия в целевое действие - просмотр контактов.  \n",
    "4. Сегментация пользователей.   \n",
    "  4.1. Пользователи какой группы склонны часто возвращаться в мобильное приложение (Retention rate).  \n",
    "  4.2. Пользователи какой группы чаще делают целевое событие (конверсия в цеелевое событие).  \n",
    "5. Проверка статистических гипотез.  \n",
    "  5.1. Проверка гипотезы: две группы пользователей, одна группа установила приложение по ссылке из yandex , другая - из google, демонстируют разную конверсию в просмотры контактов.  \n",
    "  5.2. Проверка гипотезы:проверить гипотезу, что группы пользователей, добавляющие объявления в избранное и не добавляющие в избранное, демонстируют разную конверсию в просмотры контактов. \n",
    "6. Общий вывод по исследованию.\n",
    "7. Презентация по итогам работы.\n",
    "8. Дашборд."
   ]
  },
  {
   "cell_type": "markdown",
   "id": "e08e6061",
   "metadata": {},
   "source": [
    "## Загрузка  и обзор данных"
   ]
  },
  {
   "cell_type": "markdown",
   "id": "c760cbb2",
   "metadata": {},
   "source": [
    "###  Загрузка данных и вывод информации о датасетах"
   ]
  },
  {
   "cell_type": "code",
   "execution_count": 2,
   "id": "b28f849d",
   "metadata": {},
   "outputs": [],
   "source": [
    "import pandas as pd\n",
    "import numpy as np\n",
    "import datetime as dt\n",
    "import seaborn as sns\n",
    "import matplotlib.pyplot as plt\n",
    "import itertools\n",
    "\n",
    "from sklearn.preprocessing import StandardScaler\n",
    "from sklearn.cluster import KMeans\n",
    "import math as mth\n",
    "from scipy import stats as st"
   ]
  },
  {
   "cell_type": "code",
   "execution_count": 3,
   "id": "9baccf0b",
   "metadata": {},
   "outputs": [],
   "source": [
    "pd.options.display.float_format = '{:.2f}'.format"
   ]
  },
  {
   "cell_type": "code",
   "execution_count": 4,
   "id": "d59f0e56",
   "metadata": {},
   "outputs": [],
   "source": [
    "df_d = pd.read_csv('/Users/svyazhina/yandex_practicum/Выпускной проект/mobile_dataset.csv')\n",
    "df_s = pd.read_csv('/Users/svyazhina/yandex_practicum/Выпускной проект/mobile_sourсes.csv')\n"
   ]
  },
  {
   "cell_type": "code",
   "execution_count": 5,
   "id": "e109ae6f",
   "metadata": {},
   "outputs": [
    {
     "name": "stdout",
     "output_type": "stream",
     "text": [
      "Датафрейм df_d\n"
     ]
    },
    {
     "data": {
      "text/html": [
       "<div>\n",
       "<style scoped>\n",
       "    .dataframe tbody tr th:only-of-type {\n",
       "        vertical-align: middle;\n",
       "    }\n",
       "\n",
       "    .dataframe tbody tr th {\n",
       "        vertical-align: top;\n",
       "    }\n",
       "\n",
       "    .dataframe thead th {\n",
       "        text-align: right;\n",
       "    }\n",
       "</style>\n",
       "<table border=\"1\" class=\"dataframe\">\n",
       "  <thead>\n",
       "    <tr style=\"text-align: right;\">\n",
       "      <th></th>\n",
       "      <th>event.time</th>\n",
       "      <th>event.name</th>\n",
       "      <th>user.id</th>\n",
       "    </tr>\n",
       "  </thead>\n",
       "  <tbody>\n",
       "    <tr>\n",
       "      <th>0</th>\n",
       "      <td>2019-10-07 00:00:00.431357</td>\n",
       "      <td>advert_open</td>\n",
       "      <td>020292ab-89bc-4156-9acf-68bc2783f894</td>\n",
       "    </tr>\n",
       "    <tr>\n",
       "      <th>1</th>\n",
       "      <td>2019-10-07 00:00:01.236320</td>\n",
       "      <td>tips_show</td>\n",
       "      <td>020292ab-89bc-4156-9acf-68bc2783f894</td>\n",
       "    </tr>\n",
       "    <tr>\n",
       "      <th>2</th>\n",
       "      <td>2019-10-07 00:00:02.245341</td>\n",
       "      <td>tips_show</td>\n",
       "      <td>cf7eda61-9349-469f-ac27-e5b6f5ec475c</td>\n",
       "    </tr>\n",
       "    <tr>\n",
       "      <th>3</th>\n",
       "      <td>2019-10-07 00:00:07.039334</td>\n",
       "      <td>tips_show</td>\n",
       "      <td>020292ab-89bc-4156-9acf-68bc2783f894</td>\n",
       "    </tr>\n",
       "    <tr>\n",
       "      <th>4</th>\n",
       "      <td>2019-10-07 00:00:56.319813</td>\n",
       "      <td>advert_open</td>\n",
       "      <td>cf7eda61-9349-469f-ac27-e5b6f5ec475c</td>\n",
       "    </tr>\n",
       "  </tbody>\n",
       "</table>\n",
       "</div>"
      ],
      "text/plain": [
       "                   event.time   event.name  \\\n",
       "0  2019-10-07 00:00:00.431357  advert_open   \n",
       "1  2019-10-07 00:00:01.236320    tips_show   \n",
       "2  2019-10-07 00:00:02.245341    tips_show   \n",
       "3  2019-10-07 00:00:07.039334    tips_show   \n",
       "4  2019-10-07 00:00:56.319813  advert_open   \n",
       "\n",
       "                                user.id  \n",
       "0  020292ab-89bc-4156-9acf-68bc2783f894  \n",
       "1  020292ab-89bc-4156-9acf-68bc2783f894  \n",
       "2  cf7eda61-9349-469f-ac27-e5b6f5ec475c  \n",
       "3  020292ab-89bc-4156-9acf-68bc2783f894  \n",
       "4  cf7eda61-9349-469f-ac27-e5b6f5ec475c  "
      ]
     },
     "metadata": {},
     "output_type": "display_data"
    },
    {
     "name": "stdout",
     "output_type": "stream",
     "text": [
      "\n",
      "<class 'pandas.core.frame.DataFrame'>\n",
      "RangeIndex: 74197 entries, 0 to 74196\n",
      "Data columns (total 3 columns):\n",
      " #   Column      Non-Null Count  Dtype \n",
      "---  ------      --------------  ----- \n",
      " 0   event.time  74197 non-null  object\n",
      " 1   event.name  74197 non-null  object\n",
      " 2   user.id     74197 non-null  object\n",
      "dtypes: object(3)\n",
      "memory usage: 1.7+ MB\n",
      "None\n",
      "\n",
      "Количество cтрок-дубликатов: 0\n",
      "\n",
      "Датафрейм df_s\n"
     ]
    },
    {
     "data": {
      "text/html": [
       "<div>\n",
       "<style scoped>\n",
       "    .dataframe tbody tr th:only-of-type {\n",
       "        vertical-align: middle;\n",
       "    }\n",
       "\n",
       "    .dataframe tbody tr th {\n",
       "        vertical-align: top;\n",
       "    }\n",
       "\n",
       "    .dataframe thead th {\n",
       "        text-align: right;\n",
       "    }\n",
       "</style>\n",
       "<table border=\"1\" class=\"dataframe\">\n",
       "  <thead>\n",
       "    <tr style=\"text-align: right;\">\n",
       "      <th></th>\n",
       "      <th>userId</th>\n",
       "      <th>source</th>\n",
       "    </tr>\n",
       "  </thead>\n",
       "  <tbody>\n",
       "    <tr>\n",
       "      <th>0</th>\n",
       "      <td>020292ab-89bc-4156-9acf-68bc2783f894</td>\n",
       "      <td>other</td>\n",
       "    </tr>\n",
       "    <tr>\n",
       "      <th>1</th>\n",
       "      <td>cf7eda61-9349-469f-ac27-e5b6f5ec475c</td>\n",
       "      <td>yandex</td>\n",
       "    </tr>\n",
       "    <tr>\n",
       "      <th>2</th>\n",
       "      <td>8c356c42-3ba9-4cb6-80b8-3f868d0192c3</td>\n",
       "      <td>yandex</td>\n",
       "    </tr>\n",
       "    <tr>\n",
       "      <th>3</th>\n",
       "      <td>d9b06b47-0f36-419b-bbb0-3533e582a6cb</td>\n",
       "      <td>other</td>\n",
       "    </tr>\n",
       "    <tr>\n",
       "      <th>4</th>\n",
       "      <td>f32e1e2a-3027-4693-b793-b7b3ff274439</td>\n",
       "      <td>google</td>\n",
       "    </tr>\n",
       "  </tbody>\n",
       "</table>\n",
       "</div>"
      ],
      "text/plain": [
       "                                 userId  source\n",
       "0  020292ab-89bc-4156-9acf-68bc2783f894   other\n",
       "1  cf7eda61-9349-469f-ac27-e5b6f5ec475c  yandex\n",
       "2  8c356c42-3ba9-4cb6-80b8-3f868d0192c3  yandex\n",
       "3  d9b06b47-0f36-419b-bbb0-3533e582a6cb   other\n",
       "4  f32e1e2a-3027-4693-b793-b7b3ff274439  google"
      ]
     },
     "metadata": {},
     "output_type": "display_data"
    },
    {
     "name": "stdout",
     "output_type": "stream",
     "text": [
      "\n",
      "<class 'pandas.core.frame.DataFrame'>\n",
      "RangeIndex: 4293 entries, 0 to 4292\n",
      "Data columns (total 2 columns):\n",
      " #   Column  Non-Null Count  Dtype \n",
      "---  ------  --------------  ----- \n",
      " 0   userId  4293 non-null   object\n",
      " 1   source  4293 non-null   object\n",
      "dtypes: object(2)\n",
      "memory usage: 67.2+ KB\n",
      "None\n",
      "\n",
      "Количество cтрок-дубликатов: 0\n",
      "\n"
     ]
    }
   ],
   "source": [
    "# Выводим информацию о датафреймах\n",
    "dataframes = {\n",
    "    'df_d': df_d,\n",
    "    'df_s': df_s,\n",
    "    }\n",
    "\n",
    "for name, df in dataframes.items():\n",
    "    print('Датафрейм', name)\n",
    "    display(df.head(5))\n",
    "    print('')\n",
    "    print(df.info())\n",
    "    print('')\n",
    "    print('Количество cтрок-дубликатов:', df.duplicated().sum())\n",
    "    print('')"
   ]
  },
  {
   "cell_type": "markdown",
   "id": "1302214a",
   "metadata": {},
   "source": [
    "Датасет df_d  содержит информацию о событиях, совершенными пользователями.    \n",
    "В нем 74197  строк и 3 столбца:    \n",
    "event.time — время совершения;  \n",
    "event.name — название события;  \n",
    "user.id — идентификатор пользователя.  \n",
    "\n",
    "Нзавания столбцов необходимо превести к змеиному регистру.  \n",
    "В столбце  'event.time'  неверный тип данных - объект, изменить на datatime    \n",
    "Пропущенных значений нет.    \n",
    "Строк дубликатов нет."
   ]
  },
  {
   "cell_type": "markdown",
   "id": "23eadd74",
   "metadata": {},
   "source": [
    "Датасет df_s  содержит информацию об источнике, с которого пользователь установил приложение.  \n",
    "В нем 4293  строк и 2 столбца:    \n",
    "userId — идентификатор пользователя;  \n",
    "source — источник, с которого пользователь установил приложение.  \n",
    "\n",
    "Нзавания столбца 'userId' необходимо превести к змеиному регистру.  \n",
    "Пропущенных значений нет.    \n",
    "Строк дубликатов нет.  "
   ]
  },
  {
   "cell_type": "markdown",
   "id": "fd45c28e",
   "metadata": {},
   "source": [
    "### Корректировка названия столбцов и типов данных"
   ]
  },
  {
   "cell_type": "markdown",
   "id": "b02b2682",
   "metadata": {},
   "source": [
    "Приведем названия столбцов к змеиному регистру"
   ]
  },
  {
   "cell_type": "code",
   "execution_count": 6,
   "id": "6da3c4d5",
   "metadata": {},
   "outputs": [],
   "source": [
    "df_d = df_d.rename(columns={'event.time': 'event_time', 'event.name': 'event_name', 'user.id': 'user_id'})\n",
    "df_s = df_s.rename(columns={'userId': 'user_id'})"
   ]
  },
  {
   "cell_type": "markdown",
   "id": "fd816138",
   "metadata": {},
   "source": [
    "Изменим тип данных в столбце с датами"
   ]
  },
  {
   "cell_type": "code",
   "execution_count": 7,
   "id": "d50a60b6",
   "metadata": {},
   "outputs": [
    {
     "data": {
      "text/plain": [
       "0       2019-10-07 00:00:00\n",
       "1       2019-10-07 00:00:01\n",
       "2       2019-10-07 00:00:02\n",
       "3       2019-10-07 00:00:07\n",
       "4       2019-10-07 00:00:56\n",
       "                ...        \n",
       "74192   2019-11-03 23:53:30\n",
       "74193   2019-11-03 23:54:00\n",
       "74194   2019-11-03 23:56:57\n",
       "74195   2019-11-03 23:57:06\n",
       "74196   2019-11-03 23:58:13\n",
       "Name: event_time, Length: 74197, dtype: datetime64[ns]"
      ]
     },
     "execution_count": 7,
     "metadata": {},
     "output_type": "execute_result"
    }
   ],
   "source": [
    "df_d['event_time'] = pd.to_datetime(df_d['event_time'], format='%Y-%m-%d %H:%M:%S').dt.round('S')\n",
    "df_d['event_time']"
   ]
  },
  {
   "cell_type": "markdown",
   "id": "9430f81a",
   "metadata": {},
   "source": [
    "### Обзор данных"
   ]
  },
  {
   "cell_type": "markdown",
   "id": "b16ace63",
   "metadata": {},
   "source": [
    "Посмотрим данные датасетов"
   ]
  },
  {
   "cell_type": "code",
   "execution_count": 8,
   "id": "d4ab71fe",
   "metadata": {},
   "outputs": [
    {
     "data": {
      "text/plain": [
       "array(['advert_open', 'tips_show', 'map', 'contacts_show', 'search_4',\n",
       "       'search_5', 'tips_click', 'photos_show', 'search_1', 'search_2',\n",
       "       'search_3', 'favorites_add', 'contacts_call', 'search_6',\n",
       "       'search_7', 'show_contacts'], dtype=object)"
      ]
     },
     "execution_count": 8,
     "metadata": {},
     "output_type": "execute_result"
    }
   ],
   "source": [
    "df_d['event_name'].unique()"
   ]
  },
  {
   "cell_type": "code",
   "execution_count": 9,
   "id": "bb4ba9b4",
   "metadata": {},
   "outputs": [
    {
     "data": {
      "text/plain": [
       "16"
      ]
     },
     "execution_count": 9,
     "metadata": {},
     "output_type": "execute_result"
    }
   ],
   "source": [
    "df_d['event_name'].nunique()"
   ]
  },
  {
   "cell_type": "markdown",
   "id": "85d68bfc",
   "metadata": {},
   "source": [
    "В столбце 'event_name' 16 наименований событий.  \n",
    "Расшифровки событий:\n",
    "advert_open — открытие карточки объявления  \n",
    "photos_show — просмотр фотографий в объявлении  \n",
    "tips_show — пользователь увидел рекомендованные объявления  \n",
    "tips_click — пользователь кликнул по рекомендованному объявлению  \n",
    "contacts_show и show_contacts — пользователь нажал на кнопку \"посмотреть номер телефона\" на карточке объявления  \n",
    "contacts_call — пользователь позвонил по номеру телефона на карточке объявления  \n",
    "map — пользователь открыл карту размещенных объявлений  \n",
    "search_1 — search_7 — разные события, связанные с поиском по сайту  \n",
    "favorites_add — добавление объявления в избранное.\n",
    "\n",
    "События contacts_show и show_contacts обозначают одно действие, необходимо назвать их одинаково.  \n",
    "События search_1 — search_7 то же объединим в один search.\n",
    "    \n",
    "\n",
    "\n"
   ]
  },
  {
   "cell_type": "markdown",
   "id": "32999a1c",
   "metadata": {},
   "source": [
    "Посмотрим распределение количества событий"
   ]
  },
  {
   "cell_type": "code",
   "execution_count": 10,
   "id": "f37776c8",
   "metadata": {},
   "outputs": [
    {
     "data": {
      "text/plain": [
       "tips_show        40055\n",
       "photos_show      10012\n",
       "advert_open       6164\n",
       "contacts_show     4450\n",
       "map               3881\n",
       "search_1          3506\n",
       "favorites_add     1417\n",
       "search_5          1049\n",
       "tips_click         814\n",
       "search_4           701\n",
       "contacts_call      541\n",
       "search_3           522\n",
       "search_6           460\n",
       "search_2           324\n",
       "search_7           222\n",
       "show_contacts       79\n",
       "Name: event_name, dtype: int64"
      ]
     },
     "execution_count": 10,
     "metadata": {},
     "output_type": "execute_result"
    }
   ],
   "source": [
    "df_d['event_name'].value_counts()"
   ]
  },
  {
   "cell_type": "markdown",
   "id": "8f70fb2e",
   "metadata": {},
   "source": [
    "Самое популярное событие tips_show - показ рекомендованных сообщений. Эту страницу видят пользователи, когда заходят в приложение."
   ]
  },
  {
   "cell_type": "markdown",
   "id": "3e688ebd",
   "metadata": {},
   "source": [
    "Переименуем событие show_contacts, которых меньше, в contacts_show и объединим поиски в один поиск."
   ]
  },
  {
   "cell_type": "code",
   "execution_count": 11,
   "id": "5d1a80cf",
   "metadata": {},
   "outputs": [],
   "source": [
    "df_d['event_name'] = df_d['event_name'].replace('show_contacts','contacts_show')"
   ]
  },
  {
   "cell_type": "code",
   "execution_count": 12,
   "id": "7e085436",
   "metadata": {},
   "outputs": [],
   "source": [
    "df_d['event_name'] = df_d['event_name'].replace(['search_1', 'search_2', 'search_3', 'search_4','search_5','search_6', 'search_7'],'search')"
   ]
  },
  {
   "cell_type": "markdown",
   "id": "bae11255",
   "metadata": {},
   "source": [
    "Посмотрим распределение событий после корректировки"
   ]
  },
  {
   "cell_type": "code",
   "execution_count": 13,
   "id": "4ab17b06",
   "metadata": {},
   "outputs": [
    {
     "data": {
      "text/plain": [
       "tips_show        40055\n",
       "photos_show      10012\n",
       "search            6784\n",
       "advert_open       6164\n",
       "contacts_show     4529\n",
       "map               3881\n",
       "favorites_add     1417\n",
       "tips_click         814\n",
       "contacts_call      541\n",
       "Name: event_name, dtype: int64"
      ]
     },
     "execution_count": 13,
     "metadata": {},
     "output_type": "execute_result"
    }
   ],
   "source": [
    "df_d['event_name'].value_counts()"
   ]
  },
  {
   "cell_type": "markdown",
   "id": "7816ead2",
   "metadata": {},
   "source": [
    "Посомтрим количество событий после объединения событий"
   ]
  },
  {
   "cell_type": "code",
   "execution_count": 14,
   "id": "f5405bb3",
   "metadata": {},
   "outputs": [
    {
     "data": {
      "text/plain": [
       "9"
      ]
     },
     "execution_count": 14,
     "metadata": {},
     "output_type": "execute_result"
    }
   ],
   "source": [
    "df_d['event_name'].nunique()"
   ]
  },
  {
   "cell_type": "markdown",
   "id": "f063421d",
   "metadata": {},
   "source": [
    "После объединения событий  contacts_show и show_contacts и search_1 — search_7 осталось 9 наименований событий."
   ]
  },
  {
   "cell_type": "markdown",
   "id": "58e5cae8",
   "metadata": {},
   "source": [
    "Самое популярное событие - tips_show, на втором месте -просмотр фото, на третьем - поиск."
   ]
  },
  {
   "cell_type": "markdown",
   "id": "6e9a47da",
   "metadata": {},
   "source": [
    "Посмотрим, минимальную и максимальную дату в данных"
   ]
  },
  {
   "cell_type": "code",
   "execution_count": 15,
   "id": "c50810ec",
   "metadata": {},
   "outputs": [
    {
     "data": {
      "text/html": [
       "<div>\n",
       "<style scoped>\n",
       "    .dataframe tbody tr th:only-of-type {\n",
       "        vertical-align: middle;\n",
       "    }\n",
       "\n",
       "    .dataframe tbody tr th {\n",
       "        vertical-align: top;\n",
       "    }\n",
       "\n",
       "    .dataframe thead th {\n",
       "        text-align: right;\n",
       "    }\n",
       "</style>\n",
       "<table border=\"1\" class=\"dataframe\">\n",
       "  <thead>\n",
       "    <tr style=\"text-align: right;\">\n",
       "      <th></th>\n",
       "      <th>event_time</th>\n",
       "    </tr>\n",
       "  </thead>\n",
       "  <tbody>\n",
       "    <tr>\n",
       "      <th>min</th>\n",
       "      <td>2019-10-07 00:00:00</td>\n",
       "    </tr>\n",
       "    <tr>\n",
       "      <th>max</th>\n",
       "      <td>2019-11-03 23:58:13</td>\n",
       "    </tr>\n",
       "  </tbody>\n",
       "</table>\n",
       "</div>"
      ],
      "text/plain": [
       "             event_time\n",
       "min 2019-10-07 00:00:00\n",
       "max 2019-11-03 23:58:13"
      ]
     },
     "execution_count": 15,
     "metadata": {},
     "output_type": "execute_result"
    }
   ],
   "source": [
    "df_d.agg({'event_time': ['min', 'max']})"
   ]
  },
  {
   "cell_type": "code",
   "execution_count": 16,
   "id": "7e53c9b4",
   "metadata": {},
   "outputs": [
    {
     "data": {
      "text/plain": [
       "Timedelta('27 days 23:58:13')"
      ]
     },
     "execution_count": 16,
     "metadata": {},
     "output_type": "execute_result"
    }
   ],
   "source": [
    "df_d['event_time'].max()-df_d['event_time'].min()"
   ]
  },
  {
   "cell_type": "markdown",
   "id": "50801c7c",
   "metadata": {},
   "source": [
    "Данны в датасете представлены за период с 07.10.2019 по 03.11.2019, что составляет 28 дней (4 недели).  \n",
    "Даты соотвествуют условию задачи - \"в датасете содержатся данные пользователей, впервые совершивших действия в приложении после 7 октября 2019 года\"."
   ]
  },
  {
   "cell_type": "markdown",
   "id": "df049a83",
   "metadata": {},
   "source": [
    "Посмотрим количество уникальных пользователей в датасетах"
   ]
  },
  {
   "cell_type": "code",
   "execution_count": 17,
   "id": "867b1115",
   "metadata": {},
   "outputs": [
    {
     "data": {
      "text/plain": [
       "4293"
      ]
     },
     "execution_count": 17,
     "metadata": {},
     "output_type": "execute_result"
    }
   ],
   "source": [
    "df_d['user_id'].nunique()"
   ]
  },
  {
   "cell_type": "code",
   "execution_count": 18,
   "id": "913462cd",
   "metadata": {},
   "outputs": [
    {
     "data": {
      "text/plain": [
       "4293"
      ]
     },
     "execution_count": 18,
     "metadata": {},
     "output_type": "execute_result"
    }
   ],
   "source": [
    "df_s['user_id'].nunique()"
   ]
  },
  {
   "cell_type": "markdown",
   "id": "76fa170a",
   "metadata": {},
   "source": [
    "Количество уникальных пользователей в датасетах совпадает и равно 4293."
   ]
  },
  {
   "cell_type": "markdown",
   "id": "9a5453d4",
   "metadata": {},
   "source": [
    "Посмотрим данные в столбце 'source' "
   ]
  },
  {
   "cell_type": "code",
   "execution_count": 19,
   "id": "2d7c4f2a",
   "metadata": {},
   "outputs": [
    {
     "data": {
      "text/plain": [
       "array(['other', 'yandex', 'google'], dtype=object)"
      ]
     },
     "execution_count": 19,
     "metadata": {},
     "output_type": "execute_result"
    }
   ],
   "source": [
    "df_s['source'].unique()"
   ]
  },
  {
   "cell_type": "markdown",
   "id": "14de629b",
   "metadata": {},
   "source": [
    "Посмотрим, количество пользователей из разных источников"
   ]
  },
  {
   "cell_type": "code",
   "execution_count": 20,
   "id": "ecb606ee",
   "metadata": {},
   "outputs": [
    {
     "data": {
      "text/plain": [
       "yandex    1934\n",
       "other     1230\n",
       "google    1129\n",
       "Name: source, dtype: int64"
      ]
     },
     "execution_count": 20,
     "metadata": {},
     "output_type": "execute_result"
    }
   ],
   "source": [
    "df_s['source'].value_counts()"
   ]
  },
  {
   "cell_type": "markdown",
   "id": "816bfa19",
   "metadata": {},
   "source": [
    "В датасете данные по трем источникам - yandex, google и other, что соответствует условиям проекта. Больше всего пользователей пришло из yandex - 1934, из других источников пришло - 1230 пользователей, из google - 1129."
   ]
  },
  {
   "cell_type": "markdown",
   "id": "fc3dce0b",
   "metadata": {},
   "source": [
    "Вывод по разделу 1:  \n",
    "Названия столбцов приведены в соотвествие стилевым правилам. Тип данных изменен на верный. Объединены одинаковые события, после объединения получилось 9 событий. \n",
    "Проанализированы данные: пропущенные значений и строки дубликаты отсутствуют, ошибок в написании событий, источников нет, даты начала и конца сессий соответсвуют условиям проекта.\n",
    "Данные представлены за период с 7 октября 2019 года по 3 ноября 2019 года (4 недели), уникальных пользователей - 4293, которые установили приложение из трех источников - yandex, google и other. Больше всего пользователей пришло из yandex - 1934, из других источников пришло - 1230 пользователей, из google - 1129.\n"
   ]
  },
  {
   "cell_type": "markdown",
   "id": "366066cf",
   "metadata": {},
   "source": [
    "## Предобработка данных"
   ]
  },
  {
   "cell_type": "markdown",
   "id": "be986df7",
   "metadata": {},
   "source": [
    "###  Пропуски"
   ]
  },
  {
   "cell_type": "markdown",
   "id": "0af9481a",
   "metadata": {},
   "source": [
    "На этапа загрузки и обзора данных посмотрели, что пропущенных значений в данных нет."
   ]
  },
  {
   "cell_type": "markdown",
   "id": "8c4455f7",
   "metadata": {},
   "source": [
    "### Дубликаты"
   ]
  },
  {
   "cell_type": "markdown",
   "id": "ac973219",
   "metadata": {},
   "source": [
    "Проверим еще раз данные на дубликаты после корректировки даты и объединения событий"
   ]
  },
  {
   "cell_type": "code",
   "execution_count": 21,
   "id": "3b0ef9bc",
   "metadata": {},
   "outputs": [
    {
     "data": {
      "text/plain": [
       "1190"
      ]
     },
     "execution_count": 21,
     "metadata": {},
     "output_type": "execute_result"
    }
   ],
   "source": [
    "df_d.duplicated().sum()"
   ]
  },
  {
   "cell_type": "markdown",
   "id": "d99b3ece",
   "metadata": {},
   "source": [
    "Посмотрим, какие события попали в дублирующие строки"
   ]
  },
  {
   "cell_type": "code",
   "execution_count": 22,
   "id": "1b65fd95",
   "metadata": {},
   "outputs": [
    {
     "data": {
      "text/plain": [
       "photos_show      640\n",
       "tips_show        163\n",
       "contacts_show    148\n",
       "map              121\n",
       "search            90\n",
       "advert_open       19\n",
       "tips_click         3\n",
       "contacts_call      3\n",
       "favorites_add      3\n",
       "Name: event_name, dtype: int64"
      ]
     },
     "execution_count": 22,
     "metadata": {},
     "output_type": "execute_result"
    }
   ],
   "source": [
    "df_d[df_d.duplicated()]['event_name'].value_counts()"
   ]
  },
  {
   "cell_type": "markdown",
   "id": "eaeaf305",
   "metadata": {},
   "source": [
    "После объединения событий и корректировки даты (округление до секунд) появилось 1190 одинаковых строк. Но, учитывая, что первоначально данные по событияем были представелны с точностью до миллисекунд, возможно, что в течение одной секунд пользователь совершил несколько одинаковых действий.  Поэтому удалять эти дубликаты не нужно."
   ]
  },
  {
   "cell_type": "markdown",
   "id": "9d4f20a2",
   "metadata": {},
   "source": [
    "### Объеденинение датасетов"
   ]
  },
  {
   "cell_type": "markdown",
   "id": "e1514414",
   "metadata": {},
   "source": [
    "Для дальнейшей работы с данными объединим два датасета в один по столбцу user_ID"
   ]
  },
  {
   "cell_type": "code",
   "execution_count": 23,
   "id": "5b9c05f0",
   "metadata": {},
   "outputs": [
    {
     "data": {
      "text/html": [
       "<div>\n",
       "<style scoped>\n",
       "    .dataframe tbody tr th:only-of-type {\n",
       "        vertical-align: middle;\n",
       "    }\n",
       "\n",
       "    .dataframe tbody tr th {\n",
       "        vertical-align: top;\n",
       "    }\n",
       "\n",
       "    .dataframe thead th {\n",
       "        text-align: right;\n",
       "    }\n",
       "</style>\n",
       "<table border=\"1\" class=\"dataframe\">\n",
       "  <thead>\n",
       "    <tr style=\"text-align: right;\">\n",
       "      <th></th>\n",
       "      <th>event_time</th>\n",
       "      <th>event_name</th>\n",
       "      <th>user_id</th>\n",
       "      <th>source</th>\n",
       "    </tr>\n",
       "  </thead>\n",
       "  <tbody>\n",
       "    <tr>\n",
       "      <th>0</th>\n",
       "      <td>2019-10-07 00:00:00</td>\n",
       "      <td>advert_open</td>\n",
       "      <td>020292ab-89bc-4156-9acf-68bc2783f894</td>\n",
       "      <td>other</td>\n",
       "    </tr>\n",
       "    <tr>\n",
       "      <th>1</th>\n",
       "      <td>2019-10-07 00:00:01</td>\n",
       "      <td>tips_show</td>\n",
       "      <td>020292ab-89bc-4156-9acf-68bc2783f894</td>\n",
       "      <td>other</td>\n",
       "    </tr>\n",
       "    <tr>\n",
       "      <th>2</th>\n",
       "      <td>2019-10-07 00:00:02</td>\n",
       "      <td>tips_show</td>\n",
       "      <td>cf7eda61-9349-469f-ac27-e5b6f5ec475c</td>\n",
       "      <td>yandex</td>\n",
       "    </tr>\n",
       "    <tr>\n",
       "      <th>3</th>\n",
       "      <td>2019-10-07 00:00:07</td>\n",
       "      <td>tips_show</td>\n",
       "      <td>020292ab-89bc-4156-9acf-68bc2783f894</td>\n",
       "      <td>other</td>\n",
       "    </tr>\n",
       "    <tr>\n",
       "      <th>4</th>\n",
       "      <td>2019-10-07 00:00:56</td>\n",
       "      <td>advert_open</td>\n",
       "      <td>cf7eda61-9349-469f-ac27-e5b6f5ec475c</td>\n",
       "      <td>yandex</td>\n",
       "    </tr>\n",
       "  </tbody>\n",
       "</table>\n",
       "</div>"
      ],
      "text/plain": [
       "           event_time   event_name                               user_id  \\\n",
       "0 2019-10-07 00:00:00  advert_open  020292ab-89bc-4156-9acf-68bc2783f894   \n",
       "1 2019-10-07 00:00:01    tips_show  020292ab-89bc-4156-9acf-68bc2783f894   \n",
       "2 2019-10-07 00:00:02    tips_show  cf7eda61-9349-469f-ac27-e5b6f5ec475c   \n",
       "3 2019-10-07 00:00:07    tips_show  020292ab-89bc-4156-9acf-68bc2783f894   \n",
       "4 2019-10-07 00:00:56  advert_open  cf7eda61-9349-469f-ac27-e5b6f5ec475c   \n",
       "\n",
       "   source  \n",
       "0   other  \n",
       "1   other  \n",
       "2  yandex  \n",
       "3   other  \n",
       "4  yandex  "
      ]
     },
     "execution_count": 23,
     "metadata": {},
     "output_type": "execute_result"
    }
   ],
   "source": [
    "df = df_d.merge(df_s, on = 'user_id', how = 'left')\n",
    "df.head()"
   ]
  },
  {
   "cell_type": "code",
   "execution_count": 24,
   "id": "d496fc61",
   "metadata": {},
   "outputs": [],
   "source": [
    "df.to_csv('df_mobil.csv', index = False)"
   ]
  },
  {
   "cell_type": "markdown",
   "id": "33b7677d",
   "metadata": {},
   "source": [
    "Вывод по разделу 2:  \n",
    "данные подготовлены для анализа.\n"
   ]
  },
  {
   "cell_type": "markdown",
   "id": "e278c07a",
   "metadata": {},
   "source": [
    "## Анализ поведения пользователей"
   ]
  },
  {
   "cell_type": "code",
   "execution_count": 25,
   "id": "c8cb0cab",
   "metadata": {},
   "outputs": [
    {
     "data": {
      "text/html": [
       "<div>\n",
       "<style scoped>\n",
       "    .dataframe tbody tr th:only-of-type {\n",
       "        vertical-align: middle;\n",
       "    }\n",
       "\n",
       "    .dataframe tbody tr th {\n",
       "        vertical-align: top;\n",
       "    }\n",
       "\n",
       "    .dataframe thead th {\n",
       "        text-align: right;\n",
       "    }\n",
       "</style>\n",
       "<table border=\"1\" class=\"dataframe\">\n",
       "  <thead>\n",
       "    <tr style=\"text-align: right;\">\n",
       "      <th></th>\n",
       "      <th>event_time</th>\n",
       "      <th>event_name</th>\n",
       "      <th>user_id</th>\n",
       "      <th>source</th>\n",
       "    </tr>\n",
       "  </thead>\n",
       "  <tbody>\n",
       "    <tr>\n",
       "      <th>0</th>\n",
       "      <td>2019-10-07 00:00:00</td>\n",
       "      <td>advert_open</td>\n",
       "      <td>020292ab-89bc-4156-9acf-68bc2783f894</td>\n",
       "      <td>other</td>\n",
       "    </tr>\n",
       "    <tr>\n",
       "      <th>1</th>\n",
       "      <td>2019-10-07 00:00:01</td>\n",
       "      <td>tips_show</td>\n",
       "      <td>020292ab-89bc-4156-9acf-68bc2783f894</td>\n",
       "      <td>other</td>\n",
       "    </tr>\n",
       "    <tr>\n",
       "      <th>2</th>\n",
       "      <td>2019-10-07 00:00:02</td>\n",
       "      <td>tips_show</td>\n",
       "      <td>cf7eda61-9349-469f-ac27-e5b6f5ec475c</td>\n",
       "      <td>yandex</td>\n",
       "    </tr>\n",
       "    <tr>\n",
       "      <th>3</th>\n",
       "      <td>2019-10-07 00:00:07</td>\n",
       "      <td>tips_show</td>\n",
       "      <td>020292ab-89bc-4156-9acf-68bc2783f894</td>\n",
       "      <td>other</td>\n",
       "    </tr>\n",
       "    <tr>\n",
       "      <th>4</th>\n",
       "      <td>2019-10-07 00:00:56</td>\n",
       "      <td>advert_open</td>\n",
       "      <td>cf7eda61-9349-469f-ac27-e5b6f5ec475c</td>\n",
       "      <td>yandex</td>\n",
       "    </tr>\n",
       "  </tbody>\n",
       "</table>\n",
       "</div>"
      ],
      "text/plain": [
       "           event_time   event_name                               user_id  \\\n",
       "0 2019-10-07 00:00:00  advert_open  020292ab-89bc-4156-9acf-68bc2783f894   \n",
       "1 2019-10-07 00:00:01    tips_show  020292ab-89bc-4156-9acf-68bc2783f894   \n",
       "2 2019-10-07 00:00:02    tips_show  cf7eda61-9349-469f-ac27-e5b6f5ec475c   \n",
       "3 2019-10-07 00:00:07    tips_show  020292ab-89bc-4156-9acf-68bc2783f894   \n",
       "4 2019-10-07 00:00:56  advert_open  cf7eda61-9349-469f-ac27-e5b6f5ec475c   \n",
       "\n",
       "   source  \n",
       "0   other  \n",
       "1   other  \n",
       "2  yandex  \n",
       "3   other  \n",
       "4  yandex  "
      ]
     },
     "execution_count": 25,
     "metadata": {},
     "output_type": "execute_result"
    }
   ],
   "source": [
    "df.head()"
   ]
  },
  {
   "cell_type": "markdown",
   "id": "15e6248f",
   "metadata": {},
   "source": [
    "### Retention rate"
   ]
  },
  {
   "cell_type": "markdown",
   "id": "57f37209",
   "metadata": {},
   "source": [
    "Для расчету коэффиента удержания необходимо определить дату начала пользования приложением, которая совпадает с датой первого события пользователя за анализируемый период"
   ]
  },
  {
   "cell_type": "code",
   "execution_count": 26,
   "id": "f27b7d57",
   "metadata": {},
   "outputs": [],
   "source": [
    "# отсортируем данные по пользователю и дате событий\n",
    "df = df.sort_values(['user_id', 'event_time'])"
   ]
  },
  {
   "cell_type": "markdown",
   "id": "47ca5377",
   "metadata": {},
   "source": [
    "Добавим столбец с датой первого события в датасет df"
   ]
  },
  {
   "cell_type": "code",
   "execution_count": 27,
   "id": "c6d96d36",
   "metadata": {},
   "outputs": [
    {
     "data": {
      "text/html": [
       "<div>\n",
       "<style scoped>\n",
       "    .dataframe tbody tr th:only-of-type {\n",
       "        vertical-align: middle;\n",
       "    }\n",
       "\n",
       "    .dataframe tbody tr th {\n",
       "        vertical-align: top;\n",
       "    }\n",
       "\n",
       "    .dataframe thead th {\n",
       "        text-align: right;\n",
       "    }\n",
       "</style>\n",
       "<table border=\"1\" class=\"dataframe\">\n",
       "  <thead>\n",
       "    <tr style=\"text-align: right;\">\n",
       "      <th></th>\n",
       "      <th>event_time</th>\n",
       "      <th>event_name</th>\n",
       "      <th>user_id</th>\n",
       "      <th>source</th>\n",
       "      <th>first_ts</th>\n",
       "      <th>dt</th>\n",
       "    </tr>\n",
       "  </thead>\n",
       "  <tbody>\n",
       "    <tr>\n",
       "      <th>0</th>\n",
       "      <td>2019-10-07 13:39:46</td>\n",
       "      <td>tips_show</td>\n",
       "      <td>0001b1d5-b74a-4cbf-aeb0-7df5947bf349</td>\n",
       "      <td>other</td>\n",
       "      <td>2019-10-07 13:39:46</td>\n",
       "      <td>2019-10-07</td>\n",
       "    </tr>\n",
       "    <tr>\n",
       "      <th>1</th>\n",
       "      <td>2019-10-07 13:40:31</td>\n",
       "      <td>tips_show</td>\n",
       "      <td>0001b1d5-b74a-4cbf-aeb0-7df5947bf349</td>\n",
       "      <td>other</td>\n",
       "      <td>2019-10-07 13:39:46</td>\n",
       "      <td>2019-10-07</td>\n",
       "    </tr>\n",
       "    <tr>\n",
       "      <th>2</th>\n",
       "      <td>2019-10-07 13:41:06</td>\n",
       "      <td>tips_show</td>\n",
       "      <td>0001b1d5-b74a-4cbf-aeb0-7df5947bf349</td>\n",
       "      <td>other</td>\n",
       "      <td>2019-10-07 13:39:46</td>\n",
       "      <td>2019-10-07</td>\n",
       "    </tr>\n",
       "    <tr>\n",
       "      <th>3</th>\n",
       "      <td>2019-10-07 13:43:21</td>\n",
       "      <td>tips_show</td>\n",
       "      <td>0001b1d5-b74a-4cbf-aeb0-7df5947bf349</td>\n",
       "      <td>other</td>\n",
       "      <td>2019-10-07 13:39:46</td>\n",
       "      <td>2019-10-07</td>\n",
       "    </tr>\n",
       "    <tr>\n",
       "      <th>4</th>\n",
       "      <td>2019-10-07 13:45:31</td>\n",
       "      <td>tips_show</td>\n",
       "      <td>0001b1d5-b74a-4cbf-aeb0-7df5947bf349</td>\n",
       "      <td>other</td>\n",
       "      <td>2019-10-07 13:39:46</td>\n",
       "      <td>2019-10-07</td>\n",
       "    </tr>\n",
       "  </tbody>\n",
       "</table>\n",
       "</div>"
      ],
      "text/plain": [
       "           event_time event_name                               user_id source  \\\n",
       "0 2019-10-07 13:39:46  tips_show  0001b1d5-b74a-4cbf-aeb0-7df5947bf349  other   \n",
       "1 2019-10-07 13:40:31  tips_show  0001b1d5-b74a-4cbf-aeb0-7df5947bf349  other   \n",
       "2 2019-10-07 13:41:06  tips_show  0001b1d5-b74a-4cbf-aeb0-7df5947bf349  other   \n",
       "3 2019-10-07 13:43:21  tips_show  0001b1d5-b74a-4cbf-aeb0-7df5947bf349  other   \n",
       "4 2019-10-07 13:45:31  tips_show  0001b1d5-b74a-4cbf-aeb0-7df5947bf349  other   \n",
       "\n",
       "             first_ts          dt  \n",
       "0 2019-10-07 13:39:46  2019-10-07  \n",
       "1 2019-10-07 13:39:46  2019-10-07  \n",
       "2 2019-10-07 13:39:46  2019-10-07  \n",
       "3 2019-10-07 13:39:46  2019-10-07  \n",
       "4 2019-10-07 13:39:46  2019-10-07  "
      ]
     },
     "execution_count": 27,
     "metadata": {},
     "output_type": "execute_result"
    }
   ],
   "source": [
    "df = df.merge((df.groupby('user_id').agg(first_ts = ('event_time','min'))\\\n",
    "               .reset_index()), on = 'user_id', how = 'left')\n",
    "#переведем столбуц с датой первого события в формат даты\n",
    "df['dt'] = df['first_ts'].dt.date\n",
    "df.head()"
   ]
  },
  {
   "cell_type": "markdown",
   "id": "e18bc54f",
   "metadata": {},
   "source": [
    "Выделим сессий пользователей, посчитав разницу между событиями, и если разница больше 40 минут, то обозначим это как  начало новой сессий"
   ]
  },
  {
   "cell_type": "code",
   "execution_count": 27,
   "id": "bf503d33",
   "metadata": {},
   "outputs": [],
   "source": [
    "# Разница временных меток в секундах\n",
    "diff_timestamp = df.groupby('user_id')['event_time'].diff()\n",
    "#diff_timestamp.head(20)\n",
    "#print((diff_timestamp > '00:40:00').head(20))"
   ]
  },
  {
   "cell_type": "code",
   "execution_count": 28,
   "id": "e2fa5897",
   "metadata": {},
   "outputs": [],
   "source": [
    "# индексы, где будет создан новый session_id\n",
    "new_session = (diff_timestamp.isnull()) | (diff_timestamp > '00:40:00')\n",
    "#new_session"
   ]
  },
  {
   "cell_type": "code",
   "execution_count": 29,
   "id": "10564f86",
   "metadata": {},
   "outputs": [],
   "source": [
    "# Создайте уникальный индефикатор для сессий каждого пользователя\n",
    "df['session_id'] = df.loc[new_session, ['user_id', 'event_time']] \\\n",
    "    .groupby('user_id').rank(method='first').astype(int)"
   ]
  },
  {
   "cell_type": "code",
   "execution_count": 30,
   "id": "483b8a83",
   "metadata": {},
   "outputs": [],
   "source": [
    "# Распространить последнее действительное наблюдение вперед (заменить NaN)\n",
    "df['session_id'] = df['session_id'].fillna(method='ffill').astype(int)"
   ]
  },
  {
   "cell_type": "code",
   "execution_count": 31,
   "id": "ca32517d",
   "metadata": {},
   "outputs": [],
   "source": [
    "# Распространить последнее действительное наблюдение вперед (заменить NaN)\n",
    "df['session_id'] = df['session_id'].fillna(method='ffill').astype(int)"
   ]
  },
  {
   "cell_type": "code",
   "execution_count": 32,
   "id": "23e8f6bf",
   "metadata": {},
   "outputs": [
    {
     "data": {
      "text/html": [
       "<div>\n",
       "<style scoped>\n",
       "    .dataframe tbody tr th:only-of-type {\n",
       "        vertical-align: middle;\n",
       "    }\n",
       "\n",
       "    .dataframe tbody tr th {\n",
       "        vertical-align: top;\n",
       "    }\n",
       "\n",
       "    .dataframe thead th {\n",
       "        text-align: right;\n",
       "    }\n",
       "</style>\n",
       "<table border=\"1\" class=\"dataframe\">\n",
       "  <thead>\n",
       "    <tr style=\"text-align: right;\">\n",
       "      <th></th>\n",
       "      <th>event_time</th>\n",
       "      <th>event_name</th>\n",
       "      <th>user_id</th>\n",
       "      <th>source</th>\n",
       "      <th>first_ts</th>\n",
       "      <th>dt</th>\n",
       "      <th>session_id</th>\n",
       "    </tr>\n",
       "  </thead>\n",
       "  <tbody>\n",
       "    <tr>\n",
       "      <th>0</th>\n",
       "      <td>2019-10-07 13:39:46</td>\n",
       "      <td>tips_show</td>\n",
       "      <td>0001b1d5-b74a-4cbf-aeb0-7df5947bf349</td>\n",
       "      <td>other</td>\n",
       "      <td>2019-10-07 13:39:46</td>\n",
       "      <td>2019-10-07</td>\n",
       "      <td>1</td>\n",
       "    </tr>\n",
       "    <tr>\n",
       "      <th>1</th>\n",
       "      <td>2019-10-07 13:40:31</td>\n",
       "      <td>tips_show</td>\n",
       "      <td>0001b1d5-b74a-4cbf-aeb0-7df5947bf349</td>\n",
       "      <td>other</td>\n",
       "      <td>2019-10-07 13:39:46</td>\n",
       "      <td>2019-10-07</td>\n",
       "      <td>1</td>\n",
       "    </tr>\n",
       "    <tr>\n",
       "      <th>2</th>\n",
       "      <td>2019-10-07 13:41:06</td>\n",
       "      <td>tips_show</td>\n",
       "      <td>0001b1d5-b74a-4cbf-aeb0-7df5947bf349</td>\n",
       "      <td>other</td>\n",
       "      <td>2019-10-07 13:39:46</td>\n",
       "      <td>2019-10-07</td>\n",
       "      <td>1</td>\n",
       "    </tr>\n",
       "    <tr>\n",
       "      <th>3</th>\n",
       "      <td>2019-10-07 13:43:21</td>\n",
       "      <td>tips_show</td>\n",
       "      <td>0001b1d5-b74a-4cbf-aeb0-7df5947bf349</td>\n",
       "      <td>other</td>\n",
       "      <td>2019-10-07 13:39:46</td>\n",
       "      <td>2019-10-07</td>\n",
       "      <td>1</td>\n",
       "    </tr>\n",
       "    <tr>\n",
       "      <th>4</th>\n",
       "      <td>2019-10-07 13:45:31</td>\n",
       "      <td>tips_show</td>\n",
       "      <td>0001b1d5-b74a-4cbf-aeb0-7df5947bf349</td>\n",
       "      <td>other</td>\n",
       "      <td>2019-10-07 13:39:46</td>\n",
       "      <td>2019-10-07</td>\n",
       "      <td>1</td>\n",
       "    </tr>\n",
       "    <tr>\n",
       "      <th>...</th>\n",
       "      <td>...</td>\n",
       "      <td>...</td>\n",
       "      <td>...</td>\n",
       "      <td>...</td>\n",
       "      <td>...</td>\n",
       "      <td>...</td>\n",
       "      <td>...</td>\n",
       "    </tr>\n",
       "    <tr>\n",
       "      <th>74192</th>\n",
       "      <td>2019-11-03 15:51:24</td>\n",
       "      <td>tips_show</td>\n",
       "      <td>fffb9e79-b927-4dbb-9b48-7fd09b23a62b</td>\n",
       "      <td>google</td>\n",
       "      <td>2019-10-12 00:57:21</td>\n",
       "      <td>2019-10-12</td>\n",
       "      <td>30</td>\n",
       "    </tr>\n",
       "    <tr>\n",
       "      <th>74193</th>\n",
       "      <td>2019-11-03 15:51:58</td>\n",
       "      <td>contacts_show</td>\n",
       "      <td>fffb9e79-b927-4dbb-9b48-7fd09b23a62b</td>\n",
       "      <td>google</td>\n",
       "      <td>2019-10-12 00:57:21</td>\n",
       "      <td>2019-10-12</td>\n",
       "      <td>30</td>\n",
       "    </tr>\n",
       "    <tr>\n",
       "      <th>74194</th>\n",
       "      <td>2019-11-03 16:07:41</td>\n",
       "      <td>tips_show</td>\n",
       "      <td>fffb9e79-b927-4dbb-9b48-7fd09b23a62b</td>\n",
       "      <td>google</td>\n",
       "      <td>2019-10-12 00:57:21</td>\n",
       "      <td>2019-10-12</td>\n",
       "      <td>30</td>\n",
       "    </tr>\n",
       "    <tr>\n",
       "      <th>74195</th>\n",
       "      <td>2019-11-03 16:08:18</td>\n",
       "      <td>tips_show</td>\n",
       "      <td>fffb9e79-b927-4dbb-9b48-7fd09b23a62b</td>\n",
       "      <td>google</td>\n",
       "      <td>2019-10-12 00:57:21</td>\n",
       "      <td>2019-10-12</td>\n",
       "      <td>30</td>\n",
       "    </tr>\n",
       "    <tr>\n",
       "      <th>74196</th>\n",
       "      <td>2019-11-03 16:08:25</td>\n",
       "      <td>tips_show</td>\n",
       "      <td>fffb9e79-b927-4dbb-9b48-7fd09b23a62b</td>\n",
       "      <td>google</td>\n",
       "      <td>2019-10-12 00:57:21</td>\n",
       "      <td>2019-10-12</td>\n",
       "      <td>30</td>\n",
       "    </tr>\n",
       "  </tbody>\n",
       "</table>\n",
       "<p>74197 rows × 7 columns</p>\n",
       "</div>"
      ],
      "text/plain": [
       "               event_time     event_name  \\\n",
       "0     2019-10-07 13:39:46      tips_show   \n",
       "1     2019-10-07 13:40:31      tips_show   \n",
       "2     2019-10-07 13:41:06      tips_show   \n",
       "3     2019-10-07 13:43:21      tips_show   \n",
       "4     2019-10-07 13:45:31      tips_show   \n",
       "...                   ...            ...   \n",
       "74192 2019-11-03 15:51:24      tips_show   \n",
       "74193 2019-11-03 15:51:58  contacts_show   \n",
       "74194 2019-11-03 16:07:41      tips_show   \n",
       "74195 2019-11-03 16:08:18      tips_show   \n",
       "74196 2019-11-03 16:08:25      tips_show   \n",
       "\n",
       "                                    user_id  source            first_ts  \\\n",
       "0      0001b1d5-b74a-4cbf-aeb0-7df5947bf349   other 2019-10-07 13:39:46   \n",
       "1      0001b1d5-b74a-4cbf-aeb0-7df5947bf349   other 2019-10-07 13:39:46   \n",
       "2      0001b1d5-b74a-4cbf-aeb0-7df5947bf349   other 2019-10-07 13:39:46   \n",
       "3      0001b1d5-b74a-4cbf-aeb0-7df5947bf349   other 2019-10-07 13:39:46   \n",
       "4      0001b1d5-b74a-4cbf-aeb0-7df5947bf349   other 2019-10-07 13:39:46   \n",
       "...                                     ...     ...                 ...   \n",
       "74192  fffb9e79-b927-4dbb-9b48-7fd09b23a62b  google 2019-10-12 00:57:21   \n",
       "74193  fffb9e79-b927-4dbb-9b48-7fd09b23a62b  google 2019-10-12 00:57:21   \n",
       "74194  fffb9e79-b927-4dbb-9b48-7fd09b23a62b  google 2019-10-12 00:57:21   \n",
       "74195  fffb9e79-b927-4dbb-9b48-7fd09b23a62b  google 2019-10-12 00:57:21   \n",
       "74196  fffb9e79-b927-4dbb-9b48-7fd09b23a62b  google 2019-10-12 00:57:21   \n",
       "\n",
       "               dt  session_id  \n",
       "0      2019-10-07           1  \n",
       "1      2019-10-07           1  \n",
       "2      2019-10-07           1  \n",
       "3      2019-10-07           1  \n",
       "4      2019-10-07           1  \n",
       "...           ...         ...  \n",
       "74192  2019-10-12          30  \n",
       "74193  2019-10-12          30  \n",
       "74194  2019-10-12          30  \n",
       "74195  2019-10-12          30  \n",
       "74196  2019-10-12          30  \n",
       "\n",
       "[74197 rows x 7 columns]"
      ]
     },
     "execution_count": 32,
     "metadata": {},
     "output_type": "execute_result"
    }
   ],
   "source": [
    "df"
   ]
  },
  {
   "cell_type": "markdown",
   "id": "2d0347ef",
   "metadata": {},
   "source": [
    "Добавим столбцы с датой начала и окончания сессии"
   ]
  },
  {
   "cell_type": "code",
   "execution_count": 33,
   "id": "2528c290",
   "metadata": {},
   "outputs": [
    {
     "data": {
      "text/html": [
       "<div>\n",
       "<style scoped>\n",
       "    .dataframe tbody tr th:only-of-type {\n",
       "        vertical-align: middle;\n",
       "    }\n",
       "\n",
       "    .dataframe tbody tr th {\n",
       "        vertical-align: top;\n",
       "    }\n",
       "\n",
       "    .dataframe thead th {\n",
       "        text-align: right;\n",
       "    }\n",
       "</style>\n",
       "<table border=\"1\" class=\"dataframe\">\n",
       "  <thead>\n",
       "    <tr style=\"text-align: right;\">\n",
       "      <th></th>\n",
       "      <th>event_time</th>\n",
       "      <th>event_name</th>\n",
       "      <th>user_id</th>\n",
       "      <th>source</th>\n",
       "      <th>first_ts</th>\n",
       "      <th>dt</th>\n",
       "      <th>session_id</th>\n",
       "      <th>session_start</th>\n",
       "      <th>session_end</th>\n",
       "    </tr>\n",
       "  </thead>\n",
       "  <tbody>\n",
       "    <tr>\n",
       "      <th>0</th>\n",
       "      <td>2019-10-07 13:39:46</td>\n",
       "      <td>tips_show</td>\n",
       "      <td>0001b1d5-b74a-4cbf-aeb0-7df5947bf349</td>\n",
       "      <td>other</td>\n",
       "      <td>2019-10-07 13:39:46</td>\n",
       "      <td>2019-10-07</td>\n",
       "      <td>1</td>\n",
       "      <td>2019-10-07 13:39:46</td>\n",
       "      <td>2019-10-07 13:49:42</td>\n",
       "    </tr>\n",
       "    <tr>\n",
       "      <th>1</th>\n",
       "      <td>2019-10-07 13:40:31</td>\n",
       "      <td>tips_show</td>\n",
       "      <td>0001b1d5-b74a-4cbf-aeb0-7df5947bf349</td>\n",
       "      <td>other</td>\n",
       "      <td>2019-10-07 13:39:46</td>\n",
       "      <td>2019-10-07</td>\n",
       "      <td>1</td>\n",
       "      <td>2019-10-07 13:39:46</td>\n",
       "      <td>2019-10-07 13:49:42</td>\n",
       "    </tr>\n",
       "    <tr>\n",
       "      <th>2</th>\n",
       "      <td>2019-10-07 13:41:06</td>\n",
       "      <td>tips_show</td>\n",
       "      <td>0001b1d5-b74a-4cbf-aeb0-7df5947bf349</td>\n",
       "      <td>other</td>\n",
       "      <td>2019-10-07 13:39:46</td>\n",
       "      <td>2019-10-07</td>\n",
       "      <td>1</td>\n",
       "      <td>2019-10-07 13:39:46</td>\n",
       "      <td>2019-10-07 13:49:42</td>\n",
       "    </tr>\n",
       "    <tr>\n",
       "      <th>3</th>\n",
       "      <td>2019-10-07 13:43:21</td>\n",
       "      <td>tips_show</td>\n",
       "      <td>0001b1d5-b74a-4cbf-aeb0-7df5947bf349</td>\n",
       "      <td>other</td>\n",
       "      <td>2019-10-07 13:39:46</td>\n",
       "      <td>2019-10-07</td>\n",
       "      <td>1</td>\n",
       "      <td>2019-10-07 13:39:46</td>\n",
       "      <td>2019-10-07 13:49:42</td>\n",
       "    </tr>\n",
       "    <tr>\n",
       "      <th>4</th>\n",
       "      <td>2019-10-07 13:45:31</td>\n",
       "      <td>tips_show</td>\n",
       "      <td>0001b1d5-b74a-4cbf-aeb0-7df5947bf349</td>\n",
       "      <td>other</td>\n",
       "      <td>2019-10-07 13:39:46</td>\n",
       "      <td>2019-10-07</td>\n",
       "      <td>1</td>\n",
       "      <td>2019-10-07 13:39:46</td>\n",
       "      <td>2019-10-07 13:49:42</td>\n",
       "    </tr>\n",
       "  </tbody>\n",
       "</table>\n",
       "</div>"
      ],
      "text/plain": [
       "           event_time event_name                               user_id source  \\\n",
       "0 2019-10-07 13:39:46  tips_show  0001b1d5-b74a-4cbf-aeb0-7df5947bf349  other   \n",
       "1 2019-10-07 13:40:31  tips_show  0001b1d5-b74a-4cbf-aeb0-7df5947bf349  other   \n",
       "2 2019-10-07 13:41:06  tips_show  0001b1d5-b74a-4cbf-aeb0-7df5947bf349  other   \n",
       "3 2019-10-07 13:43:21  tips_show  0001b1d5-b74a-4cbf-aeb0-7df5947bf349  other   \n",
       "4 2019-10-07 13:45:31  tips_show  0001b1d5-b74a-4cbf-aeb0-7df5947bf349  other   \n",
       "\n",
       "             first_ts          dt  session_id       session_start  \\\n",
       "0 2019-10-07 13:39:46  2019-10-07           1 2019-10-07 13:39:46   \n",
       "1 2019-10-07 13:39:46  2019-10-07           1 2019-10-07 13:39:46   \n",
       "2 2019-10-07 13:39:46  2019-10-07           1 2019-10-07 13:39:46   \n",
       "3 2019-10-07 13:39:46  2019-10-07           1 2019-10-07 13:39:46   \n",
       "4 2019-10-07 13:39:46  2019-10-07           1 2019-10-07 13:39:46   \n",
       "\n",
       "          session_end  \n",
       "0 2019-10-07 13:49:42  \n",
       "1 2019-10-07 13:49:42  \n",
       "2 2019-10-07 13:49:42  \n",
       "3 2019-10-07 13:49:42  \n",
       "4 2019-10-07 13:49:42  "
      ]
     },
     "execution_count": 33,
     "metadata": {},
     "output_type": "execute_result"
    }
   ],
   "source": [
    "df = df.merge(df.groupby(['user_id', 'session_id'])\\\n",
    "              .agg(session_start = ('event_time','min')\\\n",
    "                   ,session_end = ('event_time','max') )\\\n",
    "              .reset_index(), on = ['user_id','session_id'], how = 'left')\n",
    "df.head()"
   ]
  },
  {
   "cell_type": "markdown",
   "id": "bb1bac93",
   "metadata": {},
   "source": [
    "Так как приложение не подразумевает обязательного ежедневного использования, то целесообразнее рассматривать удержание пользователей на более продолжительном периоде, чем один день. Возьмем период равный одной неделе."
   ]
  },
  {
   "cell_type": "markdown",
   "id": "797197a2",
   "metadata": {},
   "source": [
    "Выделим из дат номера недель и посчитаем лайфтайм в неделях"
   ]
  },
  {
   "cell_type": "code",
   "execution_count": 34,
   "id": "d89b43bc",
   "metadata": {},
   "outputs": [
    {
     "data": {
      "text/html": [
       "<div>\n",
       "<style scoped>\n",
       "    .dataframe tbody tr th:only-of-type {\n",
       "        vertical-align: middle;\n",
       "    }\n",
       "\n",
       "    .dataframe tbody tr th {\n",
       "        vertical-align: top;\n",
       "    }\n",
       "\n",
       "    .dataframe thead th {\n",
       "        text-align: right;\n",
       "    }\n",
       "</style>\n",
       "<table border=\"1\" class=\"dataframe\">\n",
       "  <thead>\n",
       "    <tr style=\"text-align: right;\">\n",
       "      <th></th>\n",
       "      <th>event_time</th>\n",
       "      <th>event_name</th>\n",
       "      <th>user_id</th>\n",
       "      <th>source</th>\n",
       "      <th>first_ts</th>\n",
       "      <th>dt</th>\n",
       "      <th>session_id</th>\n",
       "      <th>session_start</th>\n",
       "      <th>session_end</th>\n",
       "      <th>first_week</th>\n",
       "      <th>session_week</th>\n",
       "      <th>lifetime_week</th>\n",
       "    </tr>\n",
       "  </thead>\n",
       "  <tbody>\n",
       "    <tr>\n",
       "      <th>0</th>\n",
       "      <td>2019-10-07 13:39:46</td>\n",
       "      <td>tips_show</td>\n",
       "      <td>0001b1d5-b74a-4cbf-aeb0-7df5947bf349</td>\n",
       "      <td>other</td>\n",
       "      <td>2019-10-07 13:39:46</td>\n",
       "      <td>2019-10-07</td>\n",
       "      <td>1</td>\n",
       "      <td>2019-10-07 13:39:46</td>\n",
       "      <td>2019-10-07 13:49:42</td>\n",
       "      <td>41</td>\n",
       "      <td>41</td>\n",
       "      <td>0</td>\n",
       "    </tr>\n",
       "    <tr>\n",
       "      <th>1</th>\n",
       "      <td>2019-10-07 13:40:31</td>\n",
       "      <td>tips_show</td>\n",
       "      <td>0001b1d5-b74a-4cbf-aeb0-7df5947bf349</td>\n",
       "      <td>other</td>\n",
       "      <td>2019-10-07 13:39:46</td>\n",
       "      <td>2019-10-07</td>\n",
       "      <td>1</td>\n",
       "      <td>2019-10-07 13:39:46</td>\n",
       "      <td>2019-10-07 13:49:42</td>\n",
       "      <td>41</td>\n",
       "      <td>41</td>\n",
       "      <td>0</td>\n",
       "    </tr>\n",
       "    <tr>\n",
       "      <th>2</th>\n",
       "      <td>2019-10-07 13:41:06</td>\n",
       "      <td>tips_show</td>\n",
       "      <td>0001b1d5-b74a-4cbf-aeb0-7df5947bf349</td>\n",
       "      <td>other</td>\n",
       "      <td>2019-10-07 13:39:46</td>\n",
       "      <td>2019-10-07</td>\n",
       "      <td>1</td>\n",
       "      <td>2019-10-07 13:39:46</td>\n",
       "      <td>2019-10-07 13:49:42</td>\n",
       "      <td>41</td>\n",
       "      <td>41</td>\n",
       "      <td>0</td>\n",
       "    </tr>\n",
       "    <tr>\n",
       "      <th>3</th>\n",
       "      <td>2019-10-07 13:43:21</td>\n",
       "      <td>tips_show</td>\n",
       "      <td>0001b1d5-b74a-4cbf-aeb0-7df5947bf349</td>\n",
       "      <td>other</td>\n",
       "      <td>2019-10-07 13:39:46</td>\n",
       "      <td>2019-10-07</td>\n",
       "      <td>1</td>\n",
       "      <td>2019-10-07 13:39:46</td>\n",
       "      <td>2019-10-07 13:49:42</td>\n",
       "      <td>41</td>\n",
       "      <td>41</td>\n",
       "      <td>0</td>\n",
       "    </tr>\n",
       "    <tr>\n",
       "      <th>4</th>\n",
       "      <td>2019-10-07 13:45:31</td>\n",
       "      <td>tips_show</td>\n",
       "      <td>0001b1d5-b74a-4cbf-aeb0-7df5947bf349</td>\n",
       "      <td>other</td>\n",
       "      <td>2019-10-07 13:39:46</td>\n",
       "      <td>2019-10-07</td>\n",
       "      <td>1</td>\n",
       "      <td>2019-10-07 13:39:46</td>\n",
       "      <td>2019-10-07 13:49:42</td>\n",
       "      <td>41</td>\n",
       "      <td>41</td>\n",
       "      <td>0</td>\n",
       "    </tr>\n",
       "  </tbody>\n",
       "</table>\n",
       "</div>"
      ],
      "text/plain": [
       "           event_time event_name                               user_id source  \\\n",
       "0 2019-10-07 13:39:46  tips_show  0001b1d5-b74a-4cbf-aeb0-7df5947bf349  other   \n",
       "1 2019-10-07 13:40:31  tips_show  0001b1d5-b74a-4cbf-aeb0-7df5947bf349  other   \n",
       "2 2019-10-07 13:41:06  tips_show  0001b1d5-b74a-4cbf-aeb0-7df5947bf349  other   \n",
       "3 2019-10-07 13:43:21  tips_show  0001b1d5-b74a-4cbf-aeb0-7df5947bf349  other   \n",
       "4 2019-10-07 13:45:31  tips_show  0001b1d5-b74a-4cbf-aeb0-7df5947bf349  other   \n",
       "\n",
       "             first_ts          dt  session_id       session_start  \\\n",
       "0 2019-10-07 13:39:46  2019-10-07           1 2019-10-07 13:39:46   \n",
       "1 2019-10-07 13:39:46  2019-10-07           1 2019-10-07 13:39:46   \n",
       "2 2019-10-07 13:39:46  2019-10-07           1 2019-10-07 13:39:46   \n",
       "3 2019-10-07 13:39:46  2019-10-07           1 2019-10-07 13:39:46   \n",
       "4 2019-10-07 13:39:46  2019-10-07           1 2019-10-07 13:39:46   \n",
       "\n",
       "          session_end  first_week  session_week  lifetime_week  \n",
       "0 2019-10-07 13:49:42          41            41              0  \n",
       "1 2019-10-07 13:49:42          41            41              0  \n",
       "2 2019-10-07 13:49:42          41            41              0  \n",
       "3 2019-10-07 13:49:42          41            41              0  \n",
       "4 2019-10-07 13:49:42          41            41              0  "
      ]
     },
     "execution_count": 34,
     "metadata": {},
     "output_type": "execute_result"
    }
   ],
   "source": [
    "df['first_week'] = df['first_ts'].dt.isocalendar().week\n",
    "df['session_week'] = df['session_start'].dt.isocalendar().week\n",
    "df['lifetime_week'] = (df['session_week'] - df['first_week'])\n",
    "df.head()"
   ]
  },
  {
   "cell_type": "code",
   "execution_count": 35,
   "id": "41f66907",
   "metadata": {},
   "outputs": [
    {
     "data": {
      "text/html": [
       "<div>\n",
       "<style scoped>\n",
       "    .dataframe tbody tr th:only-of-type {\n",
       "        vertical-align: middle;\n",
       "    }\n",
       "\n",
       "    .dataframe tbody tr th {\n",
       "        vertical-align: top;\n",
       "    }\n",
       "\n",
       "    .dataframe thead th {\n",
       "        text-align: right;\n",
       "    }\n",
       "</style>\n",
       "<table border=\"1\" class=\"dataframe\">\n",
       "  <thead>\n",
       "    <tr style=\"text-align: right;\">\n",
       "      <th>lifetime_week</th>\n",
       "      <th>0</th>\n",
       "      <th>1</th>\n",
       "      <th>2</th>\n",
       "      <th>3</th>\n",
       "    </tr>\n",
       "    <tr>\n",
       "      <th>first_week</th>\n",
       "      <th></th>\n",
       "      <th></th>\n",
       "      <th></th>\n",
       "      <th></th>\n",
       "    </tr>\n",
       "  </thead>\n",
       "  <tbody>\n",
       "    <tr>\n",
       "      <th>41</th>\n",
       "      <td>1130.00</td>\n",
       "      <td>271.00</td>\n",
       "      <td>170.00</td>\n",
       "      <td>118.00</td>\n",
       "    </tr>\n",
       "    <tr>\n",
       "      <th>42</th>\n",
       "      <td>1166.00</td>\n",
       "      <td>280.00</td>\n",
       "      <td>155.00</td>\n",
       "      <td>NaN</td>\n",
       "    </tr>\n",
       "    <tr>\n",
       "      <th>43</th>\n",
       "      <td>1094.00</td>\n",
       "      <td>238.00</td>\n",
       "      <td>NaN</td>\n",
       "      <td>NaN</td>\n",
       "    </tr>\n",
       "    <tr>\n",
       "      <th>44</th>\n",
       "      <td>903.00</td>\n",
       "      <td>NaN</td>\n",
       "      <td>NaN</td>\n",
       "      <td>NaN</td>\n",
       "    </tr>\n",
       "  </tbody>\n",
       "</table>\n",
       "</div>"
      ],
      "text/plain": [
       "lifetime_week       0      1      2      3\n",
       "first_week                                \n",
       "41            1130.00 271.00 170.00 118.00\n",
       "42            1166.00 280.00 155.00    NaN\n",
       "43            1094.00 238.00    NaN    NaN\n",
       "44             903.00    NaN    NaN    NaN"
      ]
     },
     "execution_count": 35,
     "metadata": {},
     "output_type": "execute_result"
    }
   ],
   "source": [
    "# строим таблицу удержания по неделям\n",
    "\n",
    "df_week = df.pivot_table(\n",
    "    index=['first_week'], columns='lifetime_week', values='user_id', aggfunc='nunique'\n",
    ")\n",
    "\n",
    "\n",
    "df_week"
   ]
  },
  {
   "cell_type": "code",
   "execution_count": 36,
   "id": "eb7d6305",
   "metadata": {},
   "outputs": [],
   "source": [
    "# вычисляем размеры когорт\n",
    "\n",
    "cohort_sizes_week = (\n",
    "    df.groupby('first_week')\n",
    "    .agg({'user_id': 'nunique'})\n",
    "    .rename(columns={'user_id': 'cohort_size'})\n",
    ")\n",
    "\n",
    "#cohort_sizes_week#.reset_index()"
   ]
  },
  {
   "cell_type": "code",
   "execution_count": 37,
   "id": "02f43bcc",
   "metadata": {},
   "outputs": [
    {
     "data": {
      "text/plain": [
       "4293"
      ]
     },
     "execution_count": 37,
     "metadata": {},
     "output_type": "execute_result"
    }
   ],
   "source": [
    "#проверия общий размер пользователей\n",
    "cohort_sizes_week['cohort_size'].sum()"
   ]
  },
  {
   "cell_type": "code",
   "execution_count": 38,
   "id": "847867b5",
   "metadata": {},
   "outputs": [],
   "source": [
    "# объединяем размеры когорт и таблицу удержания\n",
    "\n",
    "df_week = cohort_sizes_week.merge(\n",
    "   df_week, on='first_week', how='left'\n",
    ")#.fillna(0)\n"
   ]
  },
  {
   "cell_type": "code",
   "execution_count": 39,
   "id": "1dbf4c9e",
   "metadata": {},
   "outputs": [
    {
     "data": {
      "text/html": [
       "<div>\n",
       "<style scoped>\n",
       "    .dataframe tbody tr th:only-of-type {\n",
       "        vertical-align: middle;\n",
       "    }\n",
       "\n",
       "    .dataframe tbody tr th {\n",
       "        vertical-align: top;\n",
       "    }\n",
       "\n",
       "    .dataframe thead th {\n",
       "        text-align: right;\n",
       "    }\n",
       "</style>\n",
       "<table border=\"1\" class=\"dataframe\">\n",
       "  <thead>\n",
       "    <tr style=\"text-align: right;\">\n",
       "      <th></th>\n",
       "      <th>cohort_size</th>\n",
       "      <th>0</th>\n",
       "      <th>1</th>\n",
       "      <th>2</th>\n",
       "      <th>3</th>\n",
       "    </tr>\n",
       "    <tr>\n",
       "      <th>first_week</th>\n",
       "      <th></th>\n",
       "      <th></th>\n",
       "      <th></th>\n",
       "      <th></th>\n",
       "      <th></th>\n",
       "    </tr>\n",
       "  </thead>\n",
       "  <tbody>\n",
       "    <tr>\n",
       "      <th>41</th>\n",
       "      <td>1130</td>\n",
       "      <td>1130.00</td>\n",
       "      <td>271.00</td>\n",
       "      <td>170.00</td>\n",
       "      <td>118.00</td>\n",
       "    </tr>\n",
       "    <tr>\n",
       "      <th>42</th>\n",
       "      <td>1166</td>\n",
       "      <td>1166.00</td>\n",
       "      <td>280.00</td>\n",
       "      <td>155.00</td>\n",
       "      <td>NaN</td>\n",
       "    </tr>\n",
       "    <tr>\n",
       "      <th>43</th>\n",
       "      <td>1094</td>\n",
       "      <td>1094.00</td>\n",
       "      <td>238.00</td>\n",
       "      <td>NaN</td>\n",
       "      <td>NaN</td>\n",
       "    </tr>\n",
       "    <tr>\n",
       "      <th>44</th>\n",
       "      <td>903</td>\n",
       "      <td>903.00</td>\n",
       "      <td>NaN</td>\n",
       "      <td>NaN</td>\n",
       "      <td>NaN</td>\n",
       "    </tr>\n",
       "  </tbody>\n",
       "</table>\n",
       "</div>"
      ],
      "text/plain": [
       "            cohort_size       0      1      2      3\n",
       "first_week                                          \n",
       "41                 1130 1130.00 271.00 170.00 118.00\n",
       "42                 1166 1166.00 280.00 155.00    NaN\n",
       "43                 1094 1094.00 238.00    NaN    NaN\n",
       "44                  903  903.00    NaN    NaN    NaN"
      ]
     },
     "execution_count": 39,
     "metadata": {},
     "output_type": "execute_result"
    }
   ],
   "source": [
    "df_week"
   ]
  },
  {
   "cell_type": "code",
   "execution_count": 40,
   "id": "ac6fa11a",
   "metadata": {},
   "outputs": [
    {
     "data": {
      "text/plain": [
       "first_week\n",
       "41    1130\n",
       "42    1166\n",
       "43    1094\n",
       "44     903\n",
       "Name: cohort_size, dtype: int64"
      ]
     },
     "execution_count": 40,
     "metadata": {},
     "output_type": "execute_result"
    }
   ],
   "source": [
    "df_week['cohort_size']"
   ]
  },
  {
   "cell_type": "code",
   "execution_count": 41,
   "id": "cdf5f07b",
   "metadata": {},
   "outputs": [],
   "source": [
    "# делим данные таблицы удержания на размеры когорт\n",
    "df_week= df_week.div(\n",
    "    df_week['cohort_size'], axis=0\n",
    ").drop(columns=['cohort_size'])#.replace(0, '')\n",
    "\n",
    "\n"
   ]
  },
  {
   "cell_type": "code",
   "execution_count": 42,
   "id": "5debd9a1",
   "metadata": {},
   "outputs": [
    {
     "data": {
      "text/html": [
       "<div>\n",
       "<style scoped>\n",
       "    .dataframe tbody tr th:only-of-type {\n",
       "        vertical-align: middle;\n",
       "    }\n",
       "\n",
       "    .dataframe tbody tr th {\n",
       "        vertical-align: top;\n",
       "    }\n",
       "\n",
       "    .dataframe thead th {\n",
       "        text-align: right;\n",
       "    }\n",
       "</style>\n",
       "<table border=\"1\" class=\"dataframe\">\n",
       "  <thead>\n",
       "    <tr style=\"text-align: right;\">\n",
       "      <th></th>\n",
       "      <th>0</th>\n",
       "      <th>1</th>\n",
       "      <th>2</th>\n",
       "      <th>3</th>\n",
       "    </tr>\n",
       "    <tr>\n",
       "      <th>first_week</th>\n",
       "      <th></th>\n",
       "      <th></th>\n",
       "      <th></th>\n",
       "      <th></th>\n",
       "    </tr>\n",
       "  </thead>\n",
       "  <tbody>\n",
       "    <tr>\n",
       "      <th>41</th>\n",
       "      <td>1.00</td>\n",
       "      <td>0.24</td>\n",
       "      <td>0.15</td>\n",
       "      <td>0.10</td>\n",
       "    </tr>\n",
       "    <tr>\n",
       "      <th>42</th>\n",
       "      <td>1.00</td>\n",
       "      <td>0.24</td>\n",
       "      <td>0.13</td>\n",
       "      <td>NaN</td>\n",
       "    </tr>\n",
       "    <tr>\n",
       "      <th>43</th>\n",
       "      <td>1.00</td>\n",
       "      <td>0.22</td>\n",
       "      <td>NaN</td>\n",
       "      <td>NaN</td>\n",
       "    </tr>\n",
       "    <tr>\n",
       "      <th>44</th>\n",
       "      <td>1.00</td>\n",
       "      <td>NaN</td>\n",
       "      <td>NaN</td>\n",
       "      <td>NaN</td>\n",
       "    </tr>\n",
       "  </tbody>\n",
       "</table>\n",
       "</div>"
      ],
      "text/plain": [
       "              0    1    2    3\n",
       "first_week                    \n",
       "41         1.00 0.24 0.15 0.10\n",
       "42         1.00 0.24 0.13  NaN\n",
       "43         1.00 0.22  NaN  NaN\n",
       "44         1.00  NaN  NaN  NaN"
      ]
     },
     "execution_count": 42,
     "metadata": {},
     "output_type": "execute_result"
    }
   ],
   "source": [
    "df_week"
   ]
  },
  {
   "cell_type": "code",
   "execution_count": 43,
   "id": "98e4774d",
   "metadata": {},
   "outputs": [
    {
     "data": {
      "image/png": "[encoded data removed]",
      "text/plain": [
       "<Figure size 432x288 with 2 Axes>"
      ]
     },
     "metadata": {
      "needs_background": "light"
     },
     "output_type": "display_data"
    }
   ],
   "source": [
    "#построим хитмэп по таблице удержания\n",
    "sns.heatmap(\n",
    "   df_week, annot=True, fmt='.1%', linewidths=1, linecolor='gray', #\n",
    ")  # в первой ячейке таблицы графиков строим тепловую карту\n",
    "plt.yticks(rotation=0)\n",
    "plt.xlabel('Лайфтайм, недели')\n",
    "plt.ylabel('Неделя регистрации пользователей')\n",
    "plt.title('Коэффициент удержания по неделям')\n",
    "plt.show()\n"
   ]
  },
  {
   "cell_type": "markdown",
   "id": "18a715c0",
   "metadata": {},
   "source": [
    "На вторую неделю коэффициент удержания по когортам почти не отличается и изменяется от 21% до 24% пользователей, на третью неделю возвращается от 13% от 15%. В когорте, пользователи которой зарегистрировались больше трех недель назад, в четвертой неделе вернулось - 10% пользователей. \n",
    "Так как приложение не подразумевает ежедневного использвания, то для анализа удержания лучше брать еще болеее длинный период, и смотреть коэффициент удержания месячный."
   ]
  },
  {
   "cell_type": "markdown",
   "id": "3cb169a0",
   "metadata": {},
   "source": [
    "Посмотри удержание пользователей в зависимости от источника"
   ]
  },
  {
   "cell_type": "markdown",
   "id": "c3c800cd",
   "metadata": {},
   "source": [
    "#### удержание пользователей в разрезе источников"
   ]
  },
  {
   "cell_type": "markdown",
   "id": "972da2e2",
   "metadata": {},
   "source": [
    "Посмотрим удержание по типу источника, с которого пришли пользователи"
   ]
  },
  {
   "cell_type": "code",
   "execution_count": 44,
   "id": "ebaf5afd",
   "metadata": {},
   "outputs": [],
   "source": [
    "def test_function(type_source):\n",
    "    #tmp = 'source == ' + type_source\n",
    "    df_week_yandex = df.query('source == ' + type_source).pivot_table(\n",
    "    index=['first_week'], columns='lifetime_week', values='user_id', aggfunc='nunique'\n",
    "   )\n",
    "    # вычисляем размеры когорт\n",
    "\n",
    "    cohort_sizes_week_yandex = (\n",
    "                df.query('source == ' + type_source).groupby('first_week')\n",
    "              .agg({'user_id': 'nunique'})\n",
    "              .rename(columns={'user_id': 'cohort_size'})\n",
    "  )\n",
    "    # объединяем размеры когорт и таблицу удержания\n",
    "\n",
    "    df_week_yandex = cohort_sizes_week_yandex.merge(\n",
    "       df_week_yandex, on='first_week', how='left'\n",
    "    ).fillna(0)\n",
    "    \n",
    "    # делим данные таблицы удержания на размеры когорт\n",
    "    df_week_yandex= df_week_yandex.div(\n",
    "       df_week_yandex['cohort_size'], axis=0\n",
    "   ).drop(columns=['cohort_size'])\n",
    "\n",
    "    return df_week_yandex\n"
   ]
  },
  {
   "cell_type": "markdown",
   "id": "5e2c984f",
   "metadata": {},
   "source": [
    "Посмотрим удержание пользователей, пришедших из источника yandex"
   ]
  },
  {
   "cell_type": "code",
   "execution_count": 45,
   "id": "6580ac83",
   "metadata": {},
   "outputs": [
    {
     "data": {
      "text/html": [
       "<div>\n",
       "<style scoped>\n",
       "    .dataframe tbody tr th:only-of-type {\n",
       "        vertical-align: middle;\n",
       "    }\n",
       "\n",
       "    .dataframe tbody tr th {\n",
       "        vertical-align: top;\n",
       "    }\n",
       "\n",
       "    .dataframe thead th {\n",
       "        text-align: right;\n",
       "    }\n",
       "</style>\n",
       "<table border=\"1\" class=\"dataframe\">\n",
       "  <thead>\n",
       "    <tr style=\"text-align: right;\">\n",
       "      <th></th>\n",
       "      <th>0</th>\n",
       "      <th>1</th>\n",
       "      <th>2</th>\n",
       "      <th>3</th>\n",
       "    </tr>\n",
       "    <tr>\n",
       "      <th>first_week</th>\n",
       "      <th></th>\n",
       "      <th></th>\n",
       "      <th></th>\n",
       "      <th></th>\n",
       "    </tr>\n",
       "  </thead>\n",
       "  <tbody>\n",
       "    <tr>\n",
       "      <th>41</th>\n",
       "      <td>1.00</td>\n",
       "      <td>0.25</td>\n",
       "      <td>0.14</td>\n",
       "      <td>0.09</td>\n",
       "    </tr>\n",
       "    <tr>\n",
       "      <th>42</th>\n",
       "      <td>1.00</td>\n",
       "      <td>0.25</td>\n",
       "      <td>0.13</td>\n",
       "      <td>0.00</td>\n",
       "    </tr>\n",
       "    <tr>\n",
       "      <th>43</th>\n",
       "      <td>1.00</td>\n",
       "      <td>0.22</td>\n",
       "      <td>0.00</td>\n",
       "      <td>0.00</td>\n",
       "    </tr>\n",
       "    <tr>\n",
       "      <th>44</th>\n",
       "      <td>1.00</td>\n",
       "      <td>0.00</td>\n",
       "      <td>0.00</td>\n",
       "      <td>0.00</td>\n",
       "    </tr>\n",
       "  </tbody>\n",
       "</table>\n",
       "</div>"
      ],
      "text/plain": [
       "              0    1    2    3\n",
       "first_week                    \n",
       "41         1.00 0.25 0.14 0.09\n",
       "42         1.00 0.25 0.13 0.00\n",
       "43         1.00 0.22 0.00 0.00\n",
       "44         1.00 0.00 0.00 0.00"
      ]
     },
     "execution_count": 45,
     "metadata": {},
     "output_type": "execute_result"
    }
   ],
   "source": [
    "test_function('\"yandex\"')"
   ]
  },
  {
   "cell_type": "markdown",
   "id": "be8ee340",
   "metadata": {},
   "source": [
    "Посмотрим удержание пользователей, пришедших из источника google"
   ]
  },
  {
   "cell_type": "code",
   "execution_count": 46,
   "id": "a1cc9443",
   "metadata": {},
   "outputs": [
    {
     "data": {
      "text/html": [
       "<div>\n",
       "<style scoped>\n",
       "    .dataframe tbody tr th:only-of-type {\n",
       "        vertical-align: middle;\n",
       "    }\n",
       "\n",
       "    .dataframe tbody tr th {\n",
       "        vertical-align: top;\n",
       "    }\n",
       "\n",
       "    .dataframe thead th {\n",
       "        text-align: right;\n",
       "    }\n",
       "</style>\n",
       "<table border=\"1\" class=\"dataframe\">\n",
       "  <thead>\n",
       "    <tr style=\"text-align: right;\">\n",
       "      <th></th>\n",
       "      <th>0</th>\n",
       "      <th>1</th>\n",
       "      <th>2</th>\n",
       "      <th>3</th>\n",
       "    </tr>\n",
       "    <tr>\n",
       "      <th>first_week</th>\n",
       "      <th></th>\n",
       "      <th></th>\n",
       "      <th></th>\n",
       "      <th></th>\n",
       "    </tr>\n",
       "  </thead>\n",
       "  <tbody>\n",
       "    <tr>\n",
       "      <th>41</th>\n",
       "      <td>1.00</td>\n",
       "      <td>0.21</td>\n",
       "      <td>0.14</td>\n",
       "      <td>0.10</td>\n",
       "    </tr>\n",
       "    <tr>\n",
       "      <th>42</th>\n",
       "      <td>1.00</td>\n",
       "      <td>0.23</td>\n",
       "      <td>0.13</td>\n",
       "      <td>0.00</td>\n",
       "    </tr>\n",
       "    <tr>\n",
       "      <th>43</th>\n",
       "      <td>1.00</td>\n",
       "      <td>0.20</td>\n",
       "      <td>0.00</td>\n",
       "      <td>0.00</td>\n",
       "    </tr>\n",
       "    <tr>\n",
       "      <th>44</th>\n",
       "      <td>1.00</td>\n",
       "      <td>0.00</td>\n",
       "      <td>0.00</td>\n",
       "      <td>0.00</td>\n",
       "    </tr>\n",
       "  </tbody>\n",
       "</table>\n",
       "</div>"
      ],
      "text/plain": [
       "              0    1    2    3\n",
       "first_week                    \n",
       "41         1.00 0.21 0.14 0.10\n",
       "42         1.00 0.23 0.13 0.00\n",
       "43         1.00 0.20 0.00 0.00\n",
       "44         1.00 0.00 0.00 0.00"
      ]
     },
     "execution_count": 46,
     "metadata": {},
     "output_type": "execute_result"
    }
   ],
   "source": [
    "test_function('\"google\"')"
   ]
  },
  {
   "cell_type": "markdown",
   "id": "f21f1fb0",
   "metadata": {},
   "source": [
    "Посмотрим удержание пользователей, пришедших из других источников"
   ]
  },
  {
   "cell_type": "code",
   "execution_count": 47,
   "id": "f3da64a9",
   "metadata": {},
   "outputs": [
    {
     "data": {
      "text/html": [
       "<div>\n",
       "<style scoped>\n",
       "    .dataframe tbody tr th:only-of-type {\n",
       "        vertical-align: middle;\n",
       "    }\n",
       "\n",
       "    .dataframe tbody tr th {\n",
       "        vertical-align: top;\n",
       "    }\n",
       "\n",
       "    .dataframe thead th {\n",
       "        text-align: right;\n",
       "    }\n",
       "</style>\n",
       "<table border=\"1\" class=\"dataframe\">\n",
       "  <thead>\n",
       "    <tr style=\"text-align: right;\">\n",
       "      <th></th>\n",
       "      <th>0</th>\n",
       "      <th>1</th>\n",
       "      <th>2</th>\n",
       "      <th>3</th>\n",
       "    </tr>\n",
       "    <tr>\n",
       "      <th>first_week</th>\n",
       "      <th></th>\n",
       "      <th></th>\n",
       "      <th></th>\n",
       "      <th></th>\n",
       "    </tr>\n",
       "  </thead>\n",
       "  <tbody>\n",
       "    <tr>\n",
       "      <th>41</th>\n",
       "      <td>1.00</td>\n",
       "      <td>0.25</td>\n",
       "      <td>0.18</td>\n",
       "      <td>0.13</td>\n",
       "    </tr>\n",
       "    <tr>\n",
       "      <th>42</th>\n",
       "      <td>1.00</td>\n",
       "      <td>0.24</td>\n",
       "      <td>0.14</td>\n",
       "      <td>0.00</td>\n",
       "    </tr>\n",
       "    <tr>\n",
       "      <th>43</th>\n",
       "      <td>1.00</td>\n",
       "      <td>0.23</td>\n",
       "      <td>0.00</td>\n",
       "      <td>0.00</td>\n",
       "    </tr>\n",
       "    <tr>\n",
       "      <th>44</th>\n",
       "      <td>1.00</td>\n",
       "      <td>0.00</td>\n",
       "      <td>0.00</td>\n",
       "      <td>0.00</td>\n",
       "    </tr>\n",
       "  </tbody>\n",
       "</table>\n",
       "</div>"
      ],
      "text/plain": [
       "              0    1    2    3\n",
       "first_week                    \n",
       "41         1.00 0.25 0.18 0.13\n",
       "42         1.00 0.24 0.14 0.00\n",
       "43         1.00 0.23 0.00 0.00\n",
       "44         1.00 0.00 0.00 0.00"
      ]
     },
     "execution_count": 47,
     "metadata": {},
     "output_type": "execute_result"
    }
   ],
   "source": [
    "test_function('\"other\"')"
   ]
  },
  {
   "cell_type": "markdown",
   "id": "15e16d21",
   "metadata": {},
   "source": [
    "Удержание пользователей в зависимости от источника, с которого пришли пользователи, практически одинаковое. На вторую неделю удержание от 21% до 24%, на третью - около 14%, на четвертую - у пользователей с яндекса и гугл - 9%, у пользователей с других источников - 13%. "
   ]
  },
  {
   "cell_type": "markdown",
   "id": "d9d53dad",
   "metadata": {},
   "source": [
    "Вывод по разделу 3.1.  \n",
    "Так как приложение не подразумевает обязательного ежедневного использования, то для анализа удержания взяли период равный неделе. На вторую неделю коэффициент удержания по когортам почти не отличается и изменяется от 21% до 24% пользователей, на третью неделю возвращается от 13% от 15%. В когорте, пользователи которой зарегистировалаись больше трех недель назад, на четветрую неделе вернулось - 10% пользователей.\n",
    "Удержание пользователей в зависимости от источника, с которого пришли пользователи, практически одинаковое. На вторую неделю удержание от 21% до 24%, на третью - около 14%, на четвертую - у  пользователей с яндекса и гугл - 9%, у пользователей с других источнико - 13%. "
   ]
  },
  {
   "cell_type": "markdown",
   "id": "a774067c",
   "metadata": {},
   "source": [
    "### Время, проведенное в приложении"
   ]
  },
  {
   "cell_type": "markdown",
   "id": "c95019ed",
   "metadata": {},
   "source": [
    "Посмотрим время , котоое пользователи провели в приложении.   \n",
    "Для этого выделим день недели и час из времени начала сессий"
   ]
  },
  {
   "cell_type": "code",
   "execution_count": 48,
   "id": "e8c4b47b",
   "metadata": {},
   "outputs": [
    {
     "data": {
      "text/plain": [
       "1_ПН    11644\n",
       "2_ВТ    11138\n",
       "3_СР    10974\n",
       "4_ЧТ    10783\n",
       "7_ВС    10473\n",
       "5_ПТ     9935\n",
       "6_СБ     9250\n",
       "Name: weekday, dtype: int64"
      ]
     },
     "execution_count": 48,
     "metadata": {},
     "output_type": "execute_result"
    }
   ],
   "source": [
    "df['weekday'] = df['session_start'].dt.weekday\n",
    "#df['weekday'] = df['session_start'].dt.day_name()\n",
    "df['weekday'] = df['weekday'].replace([0,1,2,3,4,5,6], ['1_ПН','2_ВТ', '3_СР', '4_ЧТ' , '5_ПТ', '6_СБ', '7_ВС'])\n",
    "\n",
    "df['hour'] = df['session_start'].dt.hour\n",
    "df['weekday'].value_counts()"
   ]
  },
  {
   "cell_type": "markdown",
   "id": "1afc31eb",
   "metadata": {},
   "source": [
    "Посчитаем продолжительность сессий"
   ]
  },
  {
   "cell_type": "code",
   "execution_count": 49,
   "id": "ecbcefca",
   "metadata": {},
   "outputs": [
    {
     "data": {
      "text/html": [
       "<div>\n",
       "<style scoped>\n",
       "    .dataframe tbody tr th:only-of-type {\n",
       "        vertical-align: middle;\n",
       "    }\n",
       "\n",
       "    .dataframe tbody tr th {\n",
       "        vertical-align: top;\n",
       "    }\n",
       "\n",
       "    .dataframe thead th {\n",
       "        text-align: right;\n",
       "    }\n",
       "</style>\n",
       "<table border=\"1\" class=\"dataframe\">\n",
       "  <thead>\n",
       "    <tr style=\"text-align: right;\">\n",
       "      <th></th>\n",
       "      <th>event_time</th>\n",
       "      <th>event_name</th>\n",
       "      <th>user_id</th>\n",
       "      <th>source</th>\n",
       "      <th>first_ts</th>\n",
       "      <th>dt</th>\n",
       "      <th>session_id</th>\n",
       "      <th>session_start</th>\n",
       "      <th>session_end</th>\n",
       "      <th>first_week</th>\n",
       "      <th>session_week</th>\n",
       "      <th>lifetime_week</th>\n",
       "      <th>weekday</th>\n",
       "      <th>hour</th>\n",
       "      <th>session_duration_min</th>\n",
       "    </tr>\n",
       "  </thead>\n",
       "  <tbody>\n",
       "    <tr>\n",
       "      <th>0</th>\n",
       "      <td>2019-10-07 13:39:46</td>\n",
       "      <td>tips_show</td>\n",
       "      <td>0001b1d5-b74a-4cbf-aeb0-7df5947bf349</td>\n",
       "      <td>other</td>\n",
       "      <td>2019-10-07 13:39:46</td>\n",
       "      <td>2019-10-07</td>\n",
       "      <td>1</td>\n",
       "      <td>2019-10-07 13:39:46</td>\n",
       "      <td>2019-10-07 13:49:42</td>\n",
       "      <td>41</td>\n",
       "      <td>41</td>\n",
       "      <td>0</td>\n",
       "      <td>1_ПН</td>\n",
       "      <td>13</td>\n",
       "      <td>9.93</td>\n",
       "    </tr>\n",
       "    <tr>\n",
       "      <th>1</th>\n",
       "      <td>2019-10-07 13:40:31</td>\n",
       "      <td>tips_show</td>\n",
       "      <td>0001b1d5-b74a-4cbf-aeb0-7df5947bf349</td>\n",
       "      <td>other</td>\n",
       "      <td>2019-10-07 13:39:46</td>\n",
       "      <td>2019-10-07</td>\n",
       "      <td>1</td>\n",
       "      <td>2019-10-07 13:39:46</td>\n",
       "      <td>2019-10-07 13:49:42</td>\n",
       "      <td>41</td>\n",
       "      <td>41</td>\n",
       "      <td>0</td>\n",
       "      <td>1_ПН</td>\n",
       "      <td>13</td>\n",
       "      <td>9.93</td>\n",
       "    </tr>\n",
       "    <tr>\n",
       "      <th>2</th>\n",
       "      <td>2019-10-07 13:41:06</td>\n",
       "      <td>tips_show</td>\n",
       "      <td>0001b1d5-b74a-4cbf-aeb0-7df5947bf349</td>\n",
       "      <td>other</td>\n",
       "      <td>2019-10-07 13:39:46</td>\n",
       "      <td>2019-10-07</td>\n",
       "      <td>1</td>\n",
       "      <td>2019-10-07 13:39:46</td>\n",
       "      <td>2019-10-07 13:49:42</td>\n",
       "      <td>41</td>\n",
       "      <td>41</td>\n",
       "      <td>0</td>\n",
       "      <td>1_ПН</td>\n",
       "      <td>13</td>\n",
       "      <td>9.93</td>\n",
       "    </tr>\n",
       "    <tr>\n",
       "      <th>3</th>\n",
       "      <td>2019-10-07 13:43:21</td>\n",
       "      <td>tips_show</td>\n",
       "      <td>0001b1d5-b74a-4cbf-aeb0-7df5947bf349</td>\n",
       "      <td>other</td>\n",
       "      <td>2019-10-07 13:39:46</td>\n",
       "      <td>2019-10-07</td>\n",
       "      <td>1</td>\n",
       "      <td>2019-10-07 13:39:46</td>\n",
       "      <td>2019-10-07 13:49:42</td>\n",
       "      <td>41</td>\n",
       "      <td>41</td>\n",
       "      <td>0</td>\n",
       "      <td>1_ПН</td>\n",
       "      <td>13</td>\n",
       "      <td>9.93</td>\n",
       "    </tr>\n",
       "    <tr>\n",
       "      <th>4</th>\n",
       "      <td>2019-10-07 13:45:31</td>\n",
       "      <td>tips_show</td>\n",
       "      <td>0001b1d5-b74a-4cbf-aeb0-7df5947bf349</td>\n",
       "      <td>other</td>\n",
       "      <td>2019-10-07 13:39:46</td>\n",
       "      <td>2019-10-07</td>\n",
       "      <td>1</td>\n",
       "      <td>2019-10-07 13:39:46</td>\n",
       "      <td>2019-10-07 13:49:42</td>\n",
       "      <td>41</td>\n",
       "      <td>41</td>\n",
       "      <td>0</td>\n",
       "      <td>1_ПН</td>\n",
       "      <td>13</td>\n",
       "      <td>9.93</td>\n",
       "    </tr>\n",
       "  </tbody>\n",
       "</table>\n",
       "</div>"
      ],
      "text/plain": [
       "           event_time event_name                               user_id source  \\\n",
       "0 2019-10-07 13:39:46  tips_show  0001b1d5-b74a-4cbf-aeb0-7df5947bf349  other   \n",
       "1 2019-10-07 13:40:31  tips_show  0001b1d5-b74a-4cbf-aeb0-7df5947bf349  other   \n",
       "2 2019-10-07 13:41:06  tips_show  0001b1d5-b74a-4cbf-aeb0-7df5947bf349  other   \n",
       "3 2019-10-07 13:43:21  tips_show  0001b1d5-b74a-4cbf-aeb0-7df5947bf349  other   \n",
       "4 2019-10-07 13:45:31  tips_show  0001b1d5-b74a-4cbf-aeb0-7df5947bf349  other   \n",
       "\n",
       "             first_ts          dt  session_id       session_start  \\\n",
       "0 2019-10-07 13:39:46  2019-10-07           1 2019-10-07 13:39:46   \n",
       "1 2019-10-07 13:39:46  2019-10-07           1 2019-10-07 13:39:46   \n",
       "2 2019-10-07 13:39:46  2019-10-07           1 2019-10-07 13:39:46   \n",
       "3 2019-10-07 13:39:46  2019-10-07           1 2019-10-07 13:39:46   \n",
       "4 2019-10-07 13:39:46  2019-10-07           1 2019-10-07 13:39:46   \n",
       "\n",
       "          session_end  first_week  session_week  lifetime_week weekday  hour  \\\n",
       "0 2019-10-07 13:49:42          41            41              0    1_ПН    13   \n",
       "1 2019-10-07 13:49:42          41            41              0    1_ПН    13   \n",
       "2 2019-10-07 13:49:42          41            41              0    1_ПН    13   \n",
       "3 2019-10-07 13:49:42          41            41              0    1_ПН    13   \n",
       "4 2019-10-07 13:49:42          41            41              0    1_ПН    13   \n",
       "\n",
       "   session_duration_min  \n",
       "0                  9.93  \n",
       "1                  9.93  \n",
       "2                  9.93  \n",
       "3                  9.93  \n",
       "4                  9.93  "
      ]
     },
     "execution_count": 49,
     "metadata": {},
     "output_type": "execute_result"
    }
   ],
   "source": [
    "#посчитаем продолжительность в минутах\n",
    "df['session_duration_min'] = (df['session_end'] - df['session_start']).astype('timedelta64[s]')/60\n",
    "\n",
    "df.head()"
   ]
  },
  {
   "cell_type": "markdown",
   "id": "74796e5e",
   "metadata": {},
   "source": [
    "Создадим датафрейм с данными c датой начала, продолжительности и окончанию сессий по каждому пользователю"
   ]
  },
  {
   "cell_type": "code",
   "execution_count": 50,
   "id": "46107ec5",
   "metadata": {},
   "outputs": [
    {
     "data": {
      "text/html": [
       "<div>\n",
       "<style scoped>\n",
       "    .dataframe tbody tr th:only-of-type {\n",
       "        vertical-align: middle;\n",
       "    }\n",
       "\n",
       "    .dataframe tbody tr th {\n",
       "        vertical-align: top;\n",
       "    }\n",
       "\n",
       "    .dataframe thead th {\n",
       "        text-align: right;\n",
       "    }\n",
       "</style>\n",
       "<table border=\"1\" class=\"dataframe\">\n",
       "  <thead>\n",
       "    <tr style=\"text-align: right;\">\n",
       "      <th></th>\n",
       "      <th>user_id</th>\n",
       "      <th>source</th>\n",
       "      <th>first_ts</th>\n",
       "      <th>dt</th>\n",
       "      <th>session_id</th>\n",
       "      <th>session_start</th>\n",
       "      <th>session_end</th>\n",
       "      <th>first_week</th>\n",
       "      <th>session_week</th>\n",
       "      <th>lifetime_week</th>\n",
       "      <th>weekday</th>\n",
       "      <th>hour</th>\n",
       "      <th>session_duration_min</th>\n",
       "    </tr>\n",
       "  </thead>\n",
       "  <tbody>\n",
       "    <tr>\n",
       "      <th>0</th>\n",
       "      <td>0001b1d5-b74a-4cbf-aeb0-7df5947bf349</td>\n",
       "      <td>other</td>\n",
       "      <td>2019-10-07 13:39:46</td>\n",
       "      <td>2019-10-07</td>\n",
       "      <td>1</td>\n",
       "      <td>2019-10-07 13:39:46</td>\n",
       "      <td>2019-10-07 13:49:42</td>\n",
       "      <td>41</td>\n",
       "      <td>41</td>\n",
       "      <td>0</td>\n",
       "      <td>1_ПН</td>\n",
       "      <td>13</td>\n",
       "      <td>9.93</td>\n",
       "    </tr>\n",
       "    <tr>\n",
       "      <th>1</th>\n",
       "      <td>0001b1d5-b74a-4cbf-aeb0-7df5947bf349</td>\n",
       "      <td>other</td>\n",
       "      <td>2019-10-07 13:39:46</td>\n",
       "      <td>2019-10-07</td>\n",
       "      <td>2</td>\n",
       "      <td>2019-10-09 18:33:56</td>\n",
       "      <td>2019-10-09 18:42:23</td>\n",
       "      <td>41</td>\n",
       "      <td>41</td>\n",
       "      <td>0</td>\n",
       "      <td>3_СР</td>\n",
       "      <td>18</td>\n",
       "      <td>8.45</td>\n",
       "    </tr>\n",
       "    <tr>\n",
       "      <th>2</th>\n",
       "      <td>0001b1d5-b74a-4cbf-aeb0-7df5947bf349</td>\n",
       "      <td>other</td>\n",
       "      <td>2019-10-07 13:39:46</td>\n",
       "      <td>2019-10-07</td>\n",
       "      <td>3</td>\n",
       "      <td>2019-10-21 19:52:31</td>\n",
       "      <td>2019-10-21 20:07:30</td>\n",
       "      <td>41</td>\n",
       "      <td>43</td>\n",
       "      <td>2</td>\n",
       "      <td>1_ПН</td>\n",
       "      <td>19</td>\n",
       "      <td>14.98</td>\n",
       "    </tr>\n",
       "    <tr>\n",
       "      <th>3</th>\n",
       "      <td>0001b1d5-b74a-4cbf-aeb0-7df5947bf349</td>\n",
       "      <td>other</td>\n",
       "      <td>2019-10-07 13:39:46</td>\n",
       "      <td>2019-10-07</td>\n",
       "      <td>4</td>\n",
       "      <td>2019-10-22 11:18:15</td>\n",
       "      <td>2019-10-22 11:30:53</td>\n",
       "      <td>41</td>\n",
       "      <td>43</td>\n",
       "      <td>2</td>\n",
       "      <td>2_ВТ</td>\n",
       "      <td>11</td>\n",
       "      <td>12.63</td>\n",
       "    </tr>\n",
       "    <tr>\n",
       "      <th>4</th>\n",
       "      <td>00157779-810c-4498-9e05-a1e9e3cedf93</td>\n",
       "      <td>yandex</td>\n",
       "      <td>2019-10-19 21:34:34</td>\n",
       "      <td>2019-10-19</td>\n",
       "      <td>1</td>\n",
       "      <td>2019-10-19 21:34:34</td>\n",
       "      <td>2019-10-19 21:59:55</td>\n",
       "      <td>42</td>\n",
       "      <td>42</td>\n",
       "      <td>0</td>\n",
       "      <td>6_СБ</td>\n",
       "      <td>21</td>\n",
       "      <td>25.35</td>\n",
       "    </tr>\n",
       "  </tbody>\n",
       "</table>\n",
       "</div>"
      ],
      "text/plain": [
       "                                user_id  source            first_ts  \\\n",
       "0  0001b1d5-b74a-4cbf-aeb0-7df5947bf349   other 2019-10-07 13:39:46   \n",
       "1  0001b1d5-b74a-4cbf-aeb0-7df5947bf349   other 2019-10-07 13:39:46   \n",
       "2  0001b1d5-b74a-4cbf-aeb0-7df5947bf349   other 2019-10-07 13:39:46   \n",
       "3  0001b1d5-b74a-4cbf-aeb0-7df5947bf349   other 2019-10-07 13:39:46   \n",
       "4  00157779-810c-4498-9e05-a1e9e3cedf93  yandex 2019-10-19 21:34:34   \n",
       "\n",
       "           dt  session_id       session_start         session_end  first_week  \\\n",
       "0  2019-10-07           1 2019-10-07 13:39:46 2019-10-07 13:49:42          41   \n",
       "1  2019-10-07           2 2019-10-09 18:33:56 2019-10-09 18:42:23          41   \n",
       "2  2019-10-07           3 2019-10-21 19:52:31 2019-10-21 20:07:30          41   \n",
       "3  2019-10-07           4 2019-10-22 11:18:15 2019-10-22 11:30:53          41   \n",
       "4  2019-10-19           1 2019-10-19 21:34:34 2019-10-19 21:59:55          42   \n",
       "\n",
       "   session_week  lifetime_week weekday  hour  session_duration_min  \n",
       "0            41              0    1_ПН    13                  9.93  \n",
       "1            41              0    3_СР    18                  8.45  \n",
       "2            43              2    1_ПН    19                 14.98  \n",
       "3            43              2    2_ВТ    11                 12.63  \n",
       "4            42              0    6_СБ    21                 25.35  "
      ]
     },
     "execution_count": 50,
     "metadata": {},
     "output_type": "execute_result"
    }
   ],
   "source": [
    "df_sesion = df.drop(columns=['event_name', 'event_time'])\\\n",
    "            .drop_duplicates(subset = ['user_id', 'session_start', 'session_end'], keep = 'first')\\\n",
    "            .reset_index(drop=True)\n",
    "df_sesion.head()"
   ]
  },
  {
   "cell_type": "markdown",
   "id": "974b212b",
   "metadata": {},
   "source": [
    "Посмотрим распределение значений столбца с продолжительностью сессий"
   ]
  },
  {
   "cell_type": "code",
   "execution_count": 51,
   "id": "b45b4974",
   "metadata": {},
   "outputs": [
    {
     "data": {
      "text/html": [
       "<div>\n",
       "<style scoped>\n",
       "    .dataframe tbody tr th:only-of-type {\n",
       "        vertical-align: middle;\n",
       "    }\n",
       "\n",
       "    .dataframe tbody tr th {\n",
       "        vertical-align: top;\n",
       "    }\n",
       "\n",
       "    .dataframe thead th {\n",
       "        text-align: right;\n",
       "    }\n",
       "</style>\n",
       "<table border=\"1\" class=\"dataframe\">\n",
       "  <thead>\n",
       "    <tr style=\"text-align: right;\">\n",
       "      <th></th>\n",
       "      <th>session_duration_min</th>\n",
       "    </tr>\n",
       "  </thead>\n",
       "  <tbody>\n",
       "    <tr>\n",
       "      <th>count</th>\n",
       "      <td>10029.00</td>\n",
       "    </tr>\n",
       "    <tr>\n",
       "      <th>mean</th>\n",
       "      <td>14.48</td>\n",
       "    </tr>\n",
       "    <tr>\n",
       "      <th>std</th>\n",
       "      <td>23.16</td>\n",
       "    </tr>\n",
       "    <tr>\n",
       "      <th>min</th>\n",
       "      <td>0.00</td>\n",
       "    </tr>\n",
       "    <tr>\n",
       "      <th>25%</th>\n",
       "      <td>0.48</td>\n",
       "    </tr>\n",
       "    <tr>\n",
       "      <th>50%</th>\n",
       "      <td>6.02</td>\n",
       "    </tr>\n",
       "    <tr>\n",
       "      <th>75%</th>\n",
       "      <td>19.13</td>\n",
       "    </tr>\n",
       "    <tr>\n",
       "      <th>max</th>\n",
       "      <td>367.60</td>\n",
       "    </tr>\n",
       "  </tbody>\n",
       "</table>\n",
       "</div>"
      ],
      "text/plain": [
       "       session_duration_min\n",
       "count              10029.00\n",
       "mean                  14.48\n",
       "std                   23.16\n",
       "min                    0.00\n",
       "25%                    0.48\n",
       "50%                    6.02\n",
       "75%                   19.13\n",
       "max                  367.60"
      ]
     },
     "execution_count": 51,
     "metadata": {},
     "output_type": "execute_result"
    }
   ],
   "source": [
    "df_sesion[['session_duration_min']].describe()"
   ]
  },
  {
   "cell_type": "markdown",
   "id": "44468293",
   "metadata": {},
   "source": [
    "Медианное значение дилтельности сессий равно 6 минутам. 25% сессий длились меньше 48 секунд, 75% сессий длительностью до 19 минут, есть сессия длительностью до 367 минут. "
   ]
  },
  {
   "cell_type": "markdown",
   "id": "875cb5fe",
   "metadata": {},
   "source": [
    "Посмотрим распределение продолжительности сессий по дням недели"
   ]
  },
  {
   "cell_type": "code",
   "execution_count": 52,
   "id": "05f7408f",
   "metadata": {},
   "outputs": [
    {
     "data": {
      "image/png": "[encoded data removed]",
      "text/plain": [
       "<Figure size 432x288 with 1 Axes>"
      ]
     },
     "metadata": {
      "needs_background": "light"
     },
     "output_type": "display_data"
    }
   ],
   "source": [
    "ax = sns.boxplot(x='weekday',\n",
    "                 y='session_duration_min', \n",
    "                 data=df_sesion,\n",
    "                 order=[\"1_ПН\", \"2_ВТ\", \"3_СР\", \"4_ЧТ\",\"5_ПТ\",\"6_СБ\", \"7_ВС\"  ],\n",
    "                 showfliers=False, )\n",
    "#order=[\"Monday\", \"Tuesday\", \"Wednesday\", \"Thursday\",\"Friday\",\"Sunday\", \"Saturday\"  ]\n",
    "# указываем заголовок графика и подписи осей средствами matplotlib\n",
    "plt.title('Средняя продолжительность сессий по дням недели')\n",
    "plt.xlabel('День недели')\n",
    "plt.ylabel('Продолжительность сессии, мин')\n",
    "# отображаем график на экране\n",
    "plt.show()"
   ]
  },
  {
   "cell_type": "markdown",
   "id": "c3a675f0",
   "metadata": {},
   "source": [
    "В в выходные дни в субботу и воскресенье пользователеи проводят в приложении немного больше времени, чем в другие дни. Самые короткие сессии в четверг. "
   ]
  },
  {
   "cell_type": "markdown",
   "id": "25ae3265",
   "metadata": {},
   "source": [
    "Посмотрим продолжительность сессий по времени суток."
   ]
  },
  {
   "cell_type": "code",
   "execution_count": 53,
   "id": "11368bd3",
   "metadata": {},
   "outputs": [
    {
     "data": {
      "image/png": "[encoded data removed]",
      "text/plain": [
       "<Figure size 432x288 with 1 Axes>"
      ]
     },
     "metadata": {
      "needs_background": "light"
     },
     "output_type": "display_data"
    }
   ],
   "source": [
    "ax = sns.boxplot(x='hour', y='session_duration_min', data=df_sesion, showfliers=False)\n",
    "# указываем заголовок графика и подписи осей средствами matplotlib\n",
    "plt.title('Средняя продолжительность сессий в течение дня')\n",
    "plt.xlabel('Час')\n",
    "plt.ylabel('Продолжительность сессии, мин')\n",
    "# отображаем график на экране\n",
    "plt.show()"
   ]
  },
  {
   "cell_type": "markdown",
   "id": "62e2f829",
   "metadata": {},
   "source": [
    "Самые длинные сессии зафиксированы в два часа ночи, в это время и медианное значение продолжительности сессий выше, чем в другое время. Скорее всего такой скачок объясняется тем, что в это время было мало сессий, но они были длинные. В вечерние часы с 19:00 - 22:00 пользователи проводят в приложении больше, чем в другие часы.  Но в целом , кроме ночных часов, продолжительность сессий отличается не сильно."
   ]
  },
  {
   "cell_type": "markdown",
   "id": "827ae3c0",
   "metadata": {},
   "source": [
    "Посчитаем, сколько в среднем длится сессия одного пользвателя"
   ]
  },
  {
   "cell_type": "code",
   "execution_count": 54,
   "id": "5278c35f",
   "metadata": {},
   "outputs": [
    {
     "data": {
      "text/plain": [
       "count   4293.00\n",
       "mean      15.89\n",
       "std       18.56\n",
       "min        0.00\n",
       "25%        4.28\n",
       "50%       10.00\n",
       "75%       21.02\n",
       "max      222.98\n",
       "Name: session_duration_mean, dtype: float64"
      ]
     },
     "execution_count": 54,
     "metadata": {},
     "output_type": "execute_result"
    }
   ],
   "source": [
    "mean_durashion = df_sesion.groupby('user_id',as_index=False)\\\n",
    "                 .agg(session_duration_mean = ('session_duration_min','mean'))\n",
    "\n",
    "mean_durashion['session_duration_mean'].describe()\n"
   ]
  },
  {
   "cell_type": "code",
   "execution_count": 55,
   "id": "7b8de1b2",
   "metadata": {},
   "outputs": [
    {
     "data": {
      "image/png": "[encoded data removed]",
      "text/plain": [
       "<Figure size 432x288 with 1 Axes>"
      ]
     },
     "metadata": {
      "needs_background": "light"
     },
     "output_type": "display_data"
    }
   ],
   "source": [
    "mean_durashion['session_duration_mean'].hist()\n",
    "plt.title('Средняя продолжительность сессий пользователей')\n",
    "plt.xlabel('Минуты')\n",
    "plt.ylabel('Количество пользователей')\n",
    "plt.xlim(0, 150)\n",
    "#plt.ylabel()\n",
    "# отображаем график на экране\n",
    "plt.show()"
   ]
  },
  {
   "cell_type": "markdown",
   "id": "78a45be2",
   "metadata": {},
   "source": [
    "В среднем пользователь проводит в приложении 10 минут, 75% пользователей проводят в приложении до 21 минуты. "
   ]
  },
  {
   "cell_type": "markdown",
   "id": "4eccd42f",
   "metadata": {},
   "source": [
    "Вывод по разделу 3.2.  \n",
    "В среднем пользователь проводит в приложении 10 минут за сессию, 75% пользователей проводят в приложении до 21 минуты. Медианное значение дилтельности сессий равно 6 минутам. 25% сессий длились меньше 48 секунд, 75% сессий длительностью до 19 минут, максимальная длительность -  367 минут. \n",
    "В в выходные дни в субботу и воскресенье пользователи проводят в приложении немного больше времени, чем в другие дни. Самые короткие сессии в четверг. \n",
    "Самые длинные сессии в два часа ночи, в это время и медианное значение продолжительности сессий выше, чем в другое время. Это связано с тем, что ночью сессий меньше и а те несколько сессий, что,ы были ночью, длиннее средней продолжительности. В вечерние часы с 19:00 - 22:00 пользователи проводят в приложении больше, чем в другие часы. Но в целом ,  продолжительность сессий в течение дня отличается не сильно.\n"
   ]
  },
  {
   "cell_type": "code",
   "execution_count": 56,
   "id": "e8e053b7",
   "metadata": {
    "scrolled": true
   },
   "outputs": [
    {
     "data": {
      "text/plain": [
       "tips_show        824\n",
       "photos_show      551\n",
       "search           363\n",
       "contacts_show    123\n",
       "map               98\n",
       "advert_open       42\n",
       "favorites_add     28\n",
       "tips_click        10\n",
       "Name: event_name, dtype: int64"
      ]
     },
     "execution_count": 56,
     "metadata": {},
     "output_type": "execute_result"
    }
   ],
   "source": [
    "df.query('session_duration_min == 0')['event_name'].value_counts()"
   ]
  },
  {
   "cell_type": "markdown",
   "id": "bc139891",
   "metadata": {},
   "source": [
    "### Частота действий"
   ]
  },
  {
   "cell_type": "code",
   "execution_count": 57,
   "id": "4df31801",
   "metadata": {},
   "outputs": [
    {
     "data": {
      "text/html": [
       "<div>\n",
       "<style scoped>\n",
       "    .dataframe tbody tr th:only-of-type {\n",
       "        vertical-align: middle;\n",
       "    }\n",
       "\n",
       "    .dataframe tbody tr th {\n",
       "        vertical-align: top;\n",
       "    }\n",
       "\n",
       "    .dataframe thead th {\n",
       "        text-align: right;\n",
       "    }\n",
       "</style>\n",
       "<table border=\"1\" class=\"dataframe\">\n",
       "  <thead>\n",
       "    <tr style=\"text-align: right;\">\n",
       "      <th></th>\n",
       "      <th>event_time</th>\n",
       "      <th>event_name</th>\n",
       "      <th>user_id</th>\n",
       "      <th>source</th>\n",
       "      <th>first_ts</th>\n",
       "      <th>dt</th>\n",
       "      <th>session_id</th>\n",
       "      <th>session_start</th>\n",
       "      <th>session_end</th>\n",
       "      <th>first_week</th>\n",
       "      <th>session_week</th>\n",
       "      <th>lifetime_week</th>\n",
       "      <th>weekday</th>\n",
       "      <th>hour</th>\n",
       "      <th>session_duration_min</th>\n",
       "    </tr>\n",
       "  </thead>\n",
       "  <tbody>\n",
       "    <tr>\n",
       "      <th>0</th>\n",
       "      <td>2019-10-07 13:39:46</td>\n",
       "      <td>tips_show</td>\n",
       "      <td>0001b1d5-b74a-4cbf-aeb0-7df5947bf349</td>\n",
       "      <td>other</td>\n",
       "      <td>2019-10-07 13:39:46</td>\n",
       "      <td>2019-10-07</td>\n",
       "      <td>1</td>\n",
       "      <td>2019-10-07 13:39:46</td>\n",
       "      <td>2019-10-07 13:49:42</td>\n",
       "      <td>41</td>\n",
       "      <td>41</td>\n",
       "      <td>0</td>\n",
       "      <td>1_ПН</td>\n",
       "      <td>13</td>\n",
       "      <td>9.93</td>\n",
       "    </tr>\n",
       "    <tr>\n",
       "      <th>1</th>\n",
       "      <td>2019-10-07 13:40:31</td>\n",
       "      <td>tips_show</td>\n",
       "      <td>0001b1d5-b74a-4cbf-aeb0-7df5947bf349</td>\n",
       "      <td>other</td>\n",
       "      <td>2019-10-07 13:39:46</td>\n",
       "      <td>2019-10-07</td>\n",
       "      <td>1</td>\n",
       "      <td>2019-10-07 13:39:46</td>\n",
       "      <td>2019-10-07 13:49:42</td>\n",
       "      <td>41</td>\n",
       "      <td>41</td>\n",
       "      <td>0</td>\n",
       "      <td>1_ПН</td>\n",
       "      <td>13</td>\n",
       "      <td>9.93</td>\n",
       "    </tr>\n",
       "    <tr>\n",
       "      <th>2</th>\n",
       "      <td>2019-10-07 13:41:06</td>\n",
       "      <td>tips_show</td>\n",
       "      <td>0001b1d5-b74a-4cbf-aeb0-7df5947bf349</td>\n",
       "      <td>other</td>\n",
       "      <td>2019-10-07 13:39:46</td>\n",
       "      <td>2019-10-07</td>\n",
       "      <td>1</td>\n",
       "      <td>2019-10-07 13:39:46</td>\n",
       "      <td>2019-10-07 13:49:42</td>\n",
       "      <td>41</td>\n",
       "      <td>41</td>\n",
       "      <td>0</td>\n",
       "      <td>1_ПН</td>\n",
       "      <td>13</td>\n",
       "      <td>9.93</td>\n",
       "    </tr>\n",
       "    <tr>\n",
       "      <th>3</th>\n",
       "      <td>2019-10-07 13:43:21</td>\n",
       "      <td>tips_show</td>\n",
       "      <td>0001b1d5-b74a-4cbf-aeb0-7df5947bf349</td>\n",
       "      <td>other</td>\n",
       "      <td>2019-10-07 13:39:46</td>\n",
       "      <td>2019-10-07</td>\n",
       "      <td>1</td>\n",
       "      <td>2019-10-07 13:39:46</td>\n",
       "      <td>2019-10-07 13:49:42</td>\n",
       "      <td>41</td>\n",
       "      <td>41</td>\n",
       "      <td>0</td>\n",
       "      <td>1_ПН</td>\n",
       "      <td>13</td>\n",
       "      <td>9.93</td>\n",
       "    </tr>\n",
       "    <tr>\n",
       "      <th>4</th>\n",
       "      <td>2019-10-07 13:45:31</td>\n",
       "      <td>tips_show</td>\n",
       "      <td>0001b1d5-b74a-4cbf-aeb0-7df5947bf349</td>\n",
       "      <td>other</td>\n",
       "      <td>2019-10-07 13:39:46</td>\n",
       "      <td>2019-10-07</td>\n",
       "      <td>1</td>\n",
       "      <td>2019-10-07 13:39:46</td>\n",
       "      <td>2019-10-07 13:49:42</td>\n",
       "      <td>41</td>\n",
       "      <td>41</td>\n",
       "      <td>0</td>\n",
       "      <td>1_ПН</td>\n",
       "      <td>13</td>\n",
       "      <td>9.93</td>\n",
       "    </tr>\n",
       "  </tbody>\n",
       "</table>\n",
       "</div>"
      ],
      "text/plain": [
       "           event_time event_name                               user_id source  \\\n",
       "0 2019-10-07 13:39:46  tips_show  0001b1d5-b74a-4cbf-aeb0-7df5947bf349  other   \n",
       "1 2019-10-07 13:40:31  tips_show  0001b1d5-b74a-4cbf-aeb0-7df5947bf349  other   \n",
       "2 2019-10-07 13:41:06  tips_show  0001b1d5-b74a-4cbf-aeb0-7df5947bf349  other   \n",
       "3 2019-10-07 13:43:21  tips_show  0001b1d5-b74a-4cbf-aeb0-7df5947bf349  other   \n",
       "4 2019-10-07 13:45:31  tips_show  0001b1d5-b74a-4cbf-aeb0-7df5947bf349  other   \n",
       "\n",
       "             first_ts          dt  session_id       session_start  \\\n",
       "0 2019-10-07 13:39:46  2019-10-07           1 2019-10-07 13:39:46   \n",
       "1 2019-10-07 13:39:46  2019-10-07           1 2019-10-07 13:39:46   \n",
       "2 2019-10-07 13:39:46  2019-10-07           1 2019-10-07 13:39:46   \n",
       "3 2019-10-07 13:39:46  2019-10-07           1 2019-10-07 13:39:46   \n",
       "4 2019-10-07 13:39:46  2019-10-07           1 2019-10-07 13:39:46   \n",
       "\n",
       "          session_end  first_week  session_week  lifetime_week weekday  hour  \\\n",
       "0 2019-10-07 13:49:42          41            41              0    1_ПН    13   \n",
       "1 2019-10-07 13:49:42          41            41              0    1_ПН    13   \n",
       "2 2019-10-07 13:49:42          41            41              0    1_ПН    13   \n",
       "3 2019-10-07 13:49:42          41            41              0    1_ПН    13   \n",
       "4 2019-10-07 13:49:42          41            41              0    1_ПН    13   \n",
       "\n",
       "   session_duration_min  \n",
       "0                  9.93  \n",
       "1                  9.93  \n",
       "2                  9.93  \n",
       "3                  9.93  \n",
       "4                  9.93  "
      ]
     },
     "execution_count": 57,
     "metadata": {},
     "output_type": "execute_result"
    }
   ],
   "source": [
    "df.head()"
   ]
  },
  {
   "cell_type": "markdown",
   "id": "fa3f2857",
   "metadata": {},
   "source": [
    "#### Анализ количество событий"
   ]
  },
  {
   "cell_type": "markdown",
   "id": "638513ce",
   "metadata": {},
   "source": [
    "Посчитаем количество действий, которые совершают пользователи во время сессии"
   ]
  },
  {
   "cell_type": "code",
   "execution_count": 58,
   "id": "e85b2fd5",
   "metadata": {},
   "outputs": [
    {
     "data": {
      "text/html": [
       "<div>\n",
       "<style scoped>\n",
       "    .dataframe tbody tr th:only-of-type {\n",
       "        vertical-align: middle;\n",
       "    }\n",
       "\n",
       "    .dataframe tbody tr th {\n",
       "        vertical-align: top;\n",
       "    }\n",
       "\n",
       "    .dataframe thead th {\n",
       "        text-align: right;\n",
       "    }\n",
       "</style>\n",
       "<table border=\"1\" class=\"dataframe\">\n",
       "  <thead>\n",
       "    <tr style=\"text-align: right;\">\n",
       "      <th></th>\n",
       "      <th>user_id</th>\n",
       "      <th>session_id</th>\n",
       "      <th>count_event</th>\n",
       "    </tr>\n",
       "  </thead>\n",
       "  <tbody>\n",
       "    <tr>\n",
       "      <th>0</th>\n",
       "      <td>0001b1d5-b74a-4cbf-aeb0-7df5947bf349</td>\n",
       "      <td>1</td>\n",
       "      <td>9</td>\n",
       "    </tr>\n",
       "    <tr>\n",
       "      <th>1</th>\n",
       "      <td>0001b1d5-b74a-4cbf-aeb0-7df5947bf349</td>\n",
       "      <td>2</td>\n",
       "      <td>4</td>\n",
       "    </tr>\n",
       "    <tr>\n",
       "      <th>2</th>\n",
       "      <td>0001b1d5-b74a-4cbf-aeb0-7df5947bf349</td>\n",
       "      <td>3</td>\n",
       "      <td>14</td>\n",
       "    </tr>\n",
       "    <tr>\n",
       "      <th>3</th>\n",
       "      <td>0001b1d5-b74a-4cbf-aeb0-7df5947bf349</td>\n",
       "      <td>4</td>\n",
       "      <td>8</td>\n",
       "    </tr>\n",
       "    <tr>\n",
       "      <th>4</th>\n",
       "      <td>00157779-810c-4498-9e05-a1e9e3cedf93</td>\n",
       "      <td>1</td>\n",
       "      <td>9</td>\n",
       "    </tr>\n",
       "    <tr>\n",
       "      <th>...</th>\n",
       "      <td>...</td>\n",
       "      <td>...</td>\n",
       "      <td>...</td>\n",
       "    </tr>\n",
       "    <tr>\n",
       "      <th>10024</th>\n",
       "      <td>fffb9e79-b927-4dbb-9b48-7fd09b23a62b</td>\n",
       "      <td>26</td>\n",
       "      <td>1</td>\n",
       "    </tr>\n",
       "    <tr>\n",
       "      <th>10025</th>\n",
       "      <td>fffb9e79-b927-4dbb-9b48-7fd09b23a62b</td>\n",
       "      <td>27</td>\n",
       "      <td>2</td>\n",
       "    </tr>\n",
       "    <tr>\n",
       "      <th>10026</th>\n",
       "      <td>fffb9e79-b927-4dbb-9b48-7fd09b23a62b</td>\n",
       "      <td>28</td>\n",
       "      <td>4</td>\n",
       "    </tr>\n",
       "    <tr>\n",
       "      <th>10027</th>\n",
       "      <td>fffb9e79-b927-4dbb-9b48-7fd09b23a62b</td>\n",
       "      <td>29</td>\n",
       "      <td>15</td>\n",
       "    </tr>\n",
       "    <tr>\n",
       "      <th>10028</th>\n",
       "      <td>fffb9e79-b927-4dbb-9b48-7fd09b23a62b</td>\n",
       "      <td>30</td>\n",
       "      <td>14</td>\n",
       "    </tr>\n",
       "  </tbody>\n",
       "</table>\n",
       "<p>10029 rows × 3 columns</p>\n",
       "</div>"
      ],
      "text/plain": [
       "                                    user_id  session_id  count_event\n",
       "0      0001b1d5-b74a-4cbf-aeb0-7df5947bf349           1            9\n",
       "1      0001b1d5-b74a-4cbf-aeb0-7df5947bf349           2            4\n",
       "2      0001b1d5-b74a-4cbf-aeb0-7df5947bf349           3           14\n",
       "3      0001b1d5-b74a-4cbf-aeb0-7df5947bf349           4            8\n",
       "4      00157779-810c-4498-9e05-a1e9e3cedf93           1            9\n",
       "...                                     ...         ...          ...\n",
       "10024  fffb9e79-b927-4dbb-9b48-7fd09b23a62b          26            1\n",
       "10025  fffb9e79-b927-4dbb-9b48-7fd09b23a62b          27            2\n",
       "10026  fffb9e79-b927-4dbb-9b48-7fd09b23a62b          28            4\n",
       "10027  fffb9e79-b927-4dbb-9b48-7fd09b23a62b          29           15\n",
       "10028  fffb9e79-b927-4dbb-9b48-7fd09b23a62b          30           14\n",
       "\n",
       "[10029 rows x 3 columns]"
      ]
     },
     "execution_count": 58,
     "metadata": {},
     "output_type": "execute_result"
    }
   ],
   "source": [
    "df_event = df.groupby(['user_id','session_id']).agg(count_event = ('event_name','count')).reset_index()\n",
    "df_event"
   ]
  },
  {
   "cell_type": "code",
   "execution_count": 59,
   "id": "ea8082a5",
   "metadata": {},
   "outputs": [
    {
     "data": {
      "text/plain": [
       "count   10029.00\n",
       "mean        7.40\n",
       "std        10.18\n",
       "min         1.00\n",
       "25%         2.00\n",
       "50%         4.00\n",
       "75%         9.00\n",
       "max       288.00\n",
       "Name: count_event, dtype: float64"
      ]
     },
     "execution_count": 59,
     "metadata": {},
     "output_type": "execute_result"
    }
   ],
   "source": [
    "df_event['count_event'].describe()"
   ]
  },
  {
   "cell_type": "markdown",
   "id": "cff3dcc2",
   "metadata": {},
   "source": [
    "Медианное значение дилтельности сессий равно 6 минутам. 25% сессий длились меньше 48 секунд, 75% сессий длительностью до 19 минут, есть сессия длительностью 367 минут. "
   ]
  },
  {
   "cell_type": "markdown",
   "id": "29e67497",
   "metadata": {},
   "source": [
    "Псмотрим сколько действий за сессию в среднем совершает каждый пользователь."
   ]
  },
  {
   "cell_type": "code",
   "execution_count": 60,
   "id": "21a5d475",
   "metadata": {
    "scrolled": true
   },
   "outputs": [
    {
     "data": {
      "text/html": [
       "<div>\n",
       "<style scoped>\n",
       "    .dataframe tbody tr th:only-of-type {\n",
       "        vertical-align: middle;\n",
       "    }\n",
       "\n",
       "    .dataframe tbody tr th {\n",
       "        vertical-align: top;\n",
       "    }\n",
       "\n",
       "    .dataframe thead th {\n",
       "        text-align: right;\n",
       "    }\n",
       "</style>\n",
       "<table border=\"1\" class=\"dataframe\">\n",
       "  <thead>\n",
       "    <tr style=\"text-align: right;\">\n",
       "      <th></th>\n",
       "      <th>user_id</th>\n",
       "      <th>count_event</th>\n",
       "    </tr>\n",
       "  </thead>\n",
       "  <tbody>\n",
       "    <tr>\n",
       "      <th>0</th>\n",
       "      <td>0001b1d5-b74a-4cbf-aeb0-7df5947bf349</td>\n",
       "      <td>8.75</td>\n",
       "    </tr>\n",
       "    <tr>\n",
       "      <th>1</th>\n",
       "      <td>00157779-810c-4498-9e05-a1e9e3cedf93</td>\n",
       "      <td>11.83</td>\n",
       "    </tr>\n",
       "    <tr>\n",
       "      <th>2</th>\n",
       "      <td>00463033-5717-4bf1-91b4-09183923b9df</td>\n",
       "      <td>10.00</td>\n",
       "    </tr>\n",
       "    <tr>\n",
       "      <th>3</th>\n",
       "      <td>004690c3-5a84-4bb7-a8af-e0c8f8fca64e</td>\n",
       "      <td>5.33</td>\n",
       "    </tr>\n",
       "    <tr>\n",
       "      <th>4</th>\n",
       "      <td>00551e79-152e-4441-9cf7-565d7eb04090</td>\n",
       "      <td>2.67</td>\n",
       "    </tr>\n",
       "    <tr>\n",
       "      <th>...</th>\n",
       "      <td>...</td>\n",
       "      <td>...</td>\n",
       "    </tr>\n",
       "    <tr>\n",
       "      <th>4288</th>\n",
       "      <td>ffab8d8a-30bb-424a-a3ab-0b63ebbf7b07</td>\n",
       "      <td>8.50</td>\n",
       "    </tr>\n",
       "    <tr>\n",
       "      <th>4289</th>\n",
       "      <td>ffc01466-fdb1-4460-ae94-e800f52eb136</td>\n",
       "      <td>7.00</td>\n",
       "    </tr>\n",
       "    <tr>\n",
       "      <th>4290</th>\n",
       "      <td>ffcf50d9-293c-4254-8243-4890b030b238</td>\n",
       "      <td>2.00</td>\n",
       "    </tr>\n",
       "    <tr>\n",
       "      <th>4291</th>\n",
       "      <td>ffe68f10-e48e-470e-be9b-eeb93128ff1a</td>\n",
       "      <td>4.33</td>\n",
       "    </tr>\n",
       "    <tr>\n",
       "      <th>4292</th>\n",
       "      <td>fffb9e79-b927-4dbb-9b48-7fd09b23a62b</td>\n",
       "      <td>10.10</td>\n",
       "    </tr>\n",
       "  </tbody>\n",
       "</table>\n",
       "<p>4293 rows × 2 columns</p>\n",
       "</div>"
      ],
      "text/plain": [
       "                                   user_id  count_event\n",
       "0     0001b1d5-b74a-4cbf-aeb0-7df5947bf349         8.75\n",
       "1     00157779-810c-4498-9e05-a1e9e3cedf93        11.83\n",
       "2     00463033-5717-4bf1-91b4-09183923b9df        10.00\n",
       "3     004690c3-5a84-4bb7-a8af-e0c8f8fca64e         5.33\n",
       "4     00551e79-152e-4441-9cf7-565d7eb04090         2.67\n",
       "...                                    ...          ...\n",
       "4288  ffab8d8a-30bb-424a-a3ab-0b63ebbf7b07         8.50\n",
       "4289  ffc01466-fdb1-4460-ae94-e800f52eb136         7.00\n",
       "4290  ffcf50d9-293c-4254-8243-4890b030b238         2.00\n",
       "4291  ffe68f10-e48e-470e-be9b-eeb93128ff1a         4.33\n",
       "4292  fffb9e79-b927-4dbb-9b48-7fd09b23a62b        10.10\n",
       "\n",
       "[4293 rows x 2 columns]"
      ]
     },
     "execution_count": 60,
     "metadata": {},
     "output_type": "execute_result"
    }
   ],
   "source": [
    "mean_event = df_event.groupby(['user_id']).agg(count_event = ('count_event','mean')).reset_index()\n",
    "mean_event"
   ]
  },
  {
   "cell_type": "code",
   "execution_count": 61,
   "id": "e07ff3fd",
   "metadata": {},
   "outputs": [
    {
     "data": {
      "text/plain": [
       "count   4293.00\n",
       "mean       8.54\n",
       "std        8.77\n",
       "min        1.00\n",
       "25%        4.00\n",
       "50%        6.00\n",
       "75%       10.00\n",
       "max      104.00\n",
       "Name: count_event, dtype: float64"
      ]
     },
     "execution_count": 61,
     "metadata": {},
     "output_type": "execute_result"
    }
   ],
   "source": [
    "mean_event['count_event'].describe()"
   ]
  },
  {
   "cell_type": "markdown",
   "id": "3307a752",
   "metadata": {},
   "source": [
    "Медианное значение среднего количества действий пользователя за сессию равно 6. В течение 75% сессий пользователи делают до 10 событий."
   ]
  },
  {
   "cell_type": "code",
   "execution_count": 62,
   "id": "72debccf",
   "metadata": {},
   "outputs": [
    {
     "data": {
      "image/png": "[encoded data removed]",
      "text/plain": [
       "<Figure size 432x288 with 1 Axes>"
      ]
     },
     "metadata": {
      "needs_background": "light"
     },
     "output_type": "display_data"
    }
   ],
   "source": [
    "df_event['count_event'].hist(bins=20)\n",
    "plt.xlim(0, 150)\n",
    "plt.title('Распределение сессий по количеству событий')\n",
    "plt.xlabel('Количество событий за сессию')\n",
    "plt.ylabel('Количество сессий')\n",
    "plt.show()"
   ]
  },
  {
   "cell_type": "code",
   "execution_count": 63,
   "id": "c6f08a6b",
   "metadata": {},
   "outputs": [
    {
     "data": {
      "image/png": "[encoded data removed]",
      "text/plain": [
       "<Figure size 432x288 with 1 Axes>"
      ]
     },
     "metadata": {
      "needs_background": "light"
     },
     "output_type": "display_data"
    }
   ],
   "source": [
    "# строим точечную диаграмму количества действий за сессию  пользователей\n",
    "x_values = pd.Series(range(0, len(df_event)))\n",
    "plt.scatter(x_values, df_event['count_event'])\n",
    "plt.title('Распределение количества действий по сессиям')\n",
    "plt.xlabel('Сессии')\n",
    "plt.ylabel('Количество действий за сессию')\n",
    "plt.show()"
   ]
  },
  {
   "cell_type": "markdown",
   "id": "3ee99f5e",
   "metadata": {},
   "source": [
    "В течение большинства сессий пользователями было совершено до 15 событий. Но есть сессии с относительном большим количеством событий  - больше 100 событий за сессию, но и такое количество событий возможно для реального пользователя. "
   ]
  },
  {
   "cell_type": "code",
   "execution_count": 64,
   "id": "73be2d29",
   "metadata": {},
   "outputs": [
    {
     "data": {
      "text/plain": [
       "array([25., 37., 49.])"
      ]
     },
     "execution_count": 64,
     "metadata": {},
     "output_type": "execute_result"
    }
   ],
   "source": [
    "# считаем 95-й и 99-й перцентили \n",
    "np.percentile(df_event['count_event'], [95,98, 99])"
   ]
  },
  {
   "cell_type": "markdown",
   "id": "2172f3c3",
   "metadata": {},
   "source": [
    "Посчитаем, сколько событий происходит в по дням недели"
   ]
  },
  {
   "cell_type": "code",
   "execution_count": 65,
   "id": "d7ca73c5",
   "metadata": {},
   "outputs": [
    {
     "data": {
      "text/html": [
       "<div>\n",
       "<style scoped>\n",
       "    .dataframe tbody tr th:only-of-type {\n",
       "        vertical-align: middle;\n",
       "    }\n",
       "\n",
       "    .dataframe tbody tr th {\n",
       "        vertical-align: top;\n",
       "    }\n",
       "\n",
       "    .dataframe thead th {\n",
       "        text-align: right;\n",
       "    }\n",
       "</style>\n",
       "<table border=\"1\" class=\"dataframe\">\n",
       "  <thead>\n",
       "    <tr style=\"text-align: right;\">\n",
       "      <th></th>\n",
       "      <th>weekday</th>\n",
       "      <th>count_event</th>\n",
       "    </tr>\n",
       "  </thead>\n",
       "  <tbody>\n",
       "    <tr>\n",
       "      <th>0</th>\n",
       "      <td>1_ПН</td>\n",
       "      <td>11644</td>\n",
       "    </tr>\n",
       "    <tr>\n",
       "      <th>1</th>\n",
       "      <td>2_ВТ</td>\n",
       "      <td>11138</td>\n",
       "    </tr>\n",
       "    <tr>\n",
       "      <th>2</th>\n",
       "      <td>3_СР</td>\n",
       "      <td>10974</td>\n",
       "    </tr>\n",
       "    <tr>\n",
       "      <th>3</th>\n",
       "      <td>4_ЧТ</td>\n",
       "      <td>10783</td>\n",
       "    </tr>\n",
       "    <tr>\n",
       "      <th>4</th>\n",
       "      <td>5_ПТ</td>\n",
       "      <td>9935</td>\n",
       "    </tr>\n",
       "    <tr>\n",
       "      <th>5</th>\n",
       "      <td>6_СБ</td>\n",
       "      <td>9250</td>\n",
       "    </tr>\n",
       "    <tr>\n",
       "      <th>6</th>\n",
       "      <td>7_ВС</td>\n",
       "      <td>10473</td>\n",
       "    </tr>\n",
       "  </tbody>\n",
       "</table>\n",
       "</div>"
      ],
      "text/plain": [
       "  weekday  count_event\n",
       "0    1_ПН        11644\n",
       "1    2_ВТ        11138\n",
       "2    3_СР        10974\n",
       "3    4_ЧТ        10783\n",
       "4    5_ПТ         9935\n",
       "5    6_СБ         9250\n",
       "6    7_ВС        10473"
      ]
     },
     "execution_count": 65,
     "metadata": {},
     "output_type": "execute_result"
    }
   ],
   "source": [
    "event_week = df.groupby('weekday').agg(count_event = ('event_name','count')).reset_index()\n",
    "event_week"
   ]
  },
  {
   "cell_type": "code",
   "execution_count": 66,
   "id": "1a20498f",
   "metadata": {},
   "outputs": [
    {
     "data": {
      "image/png": "[encoded data removed]",
      "text/plain": [
       "<Figure size 432x288 with 1 Axes>"
      ]
     },
     "metadata": {
      "needs_background": "light"
     },
     "output_type": "display_data"
    }
   ],
   "source": [
    "sns.barplot(x=event_week['weekday'], y=event_week['count_event'], palette='Greens_d')\n",
    "# поворачиваем подписи значений по оси X на 45 градусов\n",
    "#plt.xticks(rotation=45)\n",
    "plt.title('Распределение событий по дням недели')\n",
    "plt.xlabel('День недели')\n",
    "plt.ylabel('Количество событий')\n",
    "# отображаем график на экране\n",
    "plt.show()"
   ]
  },
  {
   "cell_type": "markdown",
   "id": "5a553bd5",
   "metadata": {},
   "source": [
    "Больше всего событий происходит по понедельникам, меньше всего действий в приложении в субботу и пятницу. В сотальные дни происходит от 10000-11000 событий в приложении."
   ]
  },
  {
   "cell_type": "markdown",
   "id": "f2661684",
   "metadata": {},
   "source": [
    "По времени суток"
   ]
  },
  {
   "cell_type": "code",
   "execution_count": 67,
   "id": "e0ce7d86",
   "metadata": {},
   "outputs": [],
   "source": [
    "event_hour = df.groupby('hour').agg(count_event = ('event_name','count')).reset_index()\n",
    "#event_hour"
   ]
  },
  {
   "cell_type": "code",
   "execution_count": 68,
   "id": "08a2577f",
   "metadata": {},
   "outputs": [
    {
     "data": {
      "image/png": "[encoded data removed]",
      "text/plain": [
       "<Figure size 432x288 with 1 Axes>"
      ]
     },
     "metadata": {
      "needs_background": "light"
     },
     "output_type": "display_data"
    }
   ],
   "source": [
    "sns.barplot(x=event_hour['hour'], y=event_hour['count_event'], palette='Greens_d')\n",
    "# поворачиваем подписи значений по оси X на 45 градусов\n",
    "#plt.xticks(rotation=45)\n",
    "plt.title('Распределение событий по времени суток')\n",
    "plt.xlabel('Время суток')\n",
    "plt.ylabel('Количество событий')\n",
    "# отображаем график на экране\n",
    "plt.show()"
   ]
  },
  {
   "cell_type": "markdown",
   "id": "c59be474",
   "metadata": {},
   "source": [
    "Наблюдается два пиковых по количество действий в приложении периодов времени суток - с 10:00-16:00 и 19:00-22:00. В это время в час происходит от 4000 до 5500 действий."
   ]
  },
  {
   "cell_type": "markdown",
   "id": "6c7b00ce",
   "metadata": {},
   "source": [
    "Медианное значение дилтельности сессий равно 6 минутам. 25% сессий длились меньше 48 секунд, 75% сессий длительностью до 19 минут, есть сессия длительностью 367 минут. "
   ]
  },
  {
   "cell_type": "markdown",
   "id": "5afd9fc3",
   "metadata": {},
   "source": [
    "#### Анализ количества сессий"
   ]
  },
  {
   "cell_type": "markdown",
   "id": "8b5c9ecd",
   "metadata": {},
   "source": [
    "Посмотрим количество сессий по дням недели"
   ]
  },
  {
   "cell_type": "code",
   "execution_count": 69,
   "id": "fdab402d",
   "metadata": {},
   "outputs": [
    {
     "data": {
      "text/plain": [
       "10029"
      ]
     },
     "execution_count": 69,
     "metadata": {},
     "output_type": "execute_result"
    }
   ],
   "source": [
    "session_week = df_sesion.groupby('weekday').agg(count_session = ('session_id','count')).reset_index()\n",
    "session_week['count_session'].sum()"
   ]
  },
  {
   "cell_type": "markdown",
   "id": "00e8c2b1",
   "metadata": {},
   "source": [
    "Всего за анлизируемый период было 10029 сессий"
   ]
  },
  {
   "cell_type": "code",
   "execution_count": 70,
   "id": "d930acd0",
   "metadata": {},
   "outputs": [
    {
     "data": {
      "image/png": "[encoded data removed]",
      "text/plain": [
       "<Figure size 432x288 with 1 Axes>"
      ]
     },
     "metadata": {
      "needs_background": "light"
     },
     "output_type": "display_data"
    }
   ],
   "source": [
    "sns.barplot(x=session_week['weekday'], y=session_week['count_session'], palette='Blues_d')\n",
    "# поворачиваем подписи значений по оси X на 45 градусов\n",
    "#plt.xticks(rotation=45)\n",
    "plt.title('Распределение количества сессий по дням недели')\n",
    "plt.xlabel('День недели')\n",
    "plt.ylabel('Количество сессий')\n",
    "# отображаем график на экране\n",
    "plt.show()"
   ]
  },
  {
   "cell_type": "markdown",
   "id": "7fa7e142",
   "metadata": {},
   "source": [
    "Наибольшая активность в приложении наблюдается в среду и четверг, в субботу и воскресенье количество сессий снижется. "
   ]
  },
  {
   "cell_type": "markdown",
   "id": "f1612763",
   "metadata": {},
   "source": [
    "Сессии по времени суток"
   ]
  },
  {
   "cell_type": "code",
   "execution_count": 71,
   "id": "3c42a6a3",
   "metadata": {},
   "outputs": [
    {
     "data": {
      "text/plain": [
       "10029"
      ]
     },
     "execution_count": 71,
     "metadata": {},
     "output_type": "execute_result"
    }
   ],
   "source": [
    "sesson_hour = df_sesion.groupby('hour').agg(count_session = ('session_id','count')).reset_index()\n",
    "sesson_hour['count_session'].sum()"
   ]
  },
  {
   "cell_type": "code",
   "execution_count": 72,
   "id": "d577490e",
   "metadata": {},
   "outputs": [
    {
     "data": {
      "image/png": "[encoded data removed]",
      "text/plain": [
       "<Figure size 432x288 with 1 Axes>"
      ]
     },
     "metadata": {
      "needs_background": "light"
     },
     "output_type": "display_data"
    }
   ],
   "source": [
    "sns.barplot(x=sesson_hour['hour'], y=sesson_hour['count_session'], palette='Blues_d')\n",
    "# поворачиваем подписи значений по оси X на 45 градусов\n",
    "#plt.xticks(rotation=45)\n",
    "plt.title('Распределение сессий по времени суток')\n",
    "plt.xlabel('Время суток')\n",
    "plt.ylabel('Количество сессий')\n",
    "# отображаем график на экране\n",
    "plt.show()"
   ]
  },
  {
   "cell_type": "markdown",
   "id": "1ec8ad4a",
   "metadata": {},
   "source": [
    "Наибольшая активность в приложении наблюдается в дневные часы - 12:00 - 15:00 и вечерние с 19:00 - 21:00. Ночью наблюдается логичный спад активности. "
   ]
  },
  {
   "cell_type": "markdown",
   "id": "abb31824",
   "metadata": {},
   "source": [
    "Вывод по разделу 3.3.  \n",
    "Всего за анлизируемый период, длиною 4 недели,  было 10029 сессий.\n",
    "Больше всего событий происходит по понедельникам, меньше всего действий в приложении в субботу и пятницу. В понедельник произошло 11644, в другие дни произошло от 10000-11000 событий в приложении, за исключение  пятницы и субботу, когда событий было 9935 и 9250 соотвественно.\n",
    "Наибольшая активность по количеству событий наблюдается в дневные часы - 12:00 - 15:00 и вечерние с 19:00 - 21:00 Ночью наблюдается логичный спад активности.    \n",
    "В течение большинства сессий пользователями было совершено до 15 событий. Но есть сессии с относительном большим количеством событий  - больше 100 событий за сессию, но и такое количество событий возможно для реального пользователя.  \n",
    "Медианное значение среднего количества действий пользователя за сессию равно 6. В течение 75% сессий пользователи делают до 10 событий.  \n",
    "Пол количеству сессий в приложении наблюдается два пиковых и периодов времени суток - с 10:00-16:00 и 19:00-22:00. В это время в час происходит от 4000 до 5500 разных сессий.  \n",
    "Наибольшая активность в приложении по количеству сессий  наблюдается в среду и четверг, в субботу и воскресенье количество сессий снижется. "
   ]
  },
  {
   "cell_type": "markdown",
   "id": "08ed1ce7",
   "metadata": {},
   "source": [
    "### Уникальные пользователели"
   ]
  },
  {
   "cell_type": "code",
   "execution_count": 73,
   "id": "d1b7090e",
   "metadata": {},
   "outputs": [
    {
     "data": {
      "text/plain": [
       "4293"
      ]
     },
     "execution_count": 73,
     "metadata": {},
     "output_type": "execute_result"
    }
   ],
   "source": [
    "df['user_id'].nunique()"
   ]
  },
  {
   "cell_type": "markdown",
   "id": "50992bc5",
   "metadata": {},
   "source": [
    "Всего за анализируемые период было зарегистрировано 4393 пользователя."
   ]
  },
  {
   "cell_type": "markdown",
   "id": "9e7dc52a",
   "metadata": {},
   "source": [
    "Посмотрим количество уникальных пользователей по дням недели"
   ]
  },
  {
   "cell_type": "code",
   "execution_count": 74,
   "id": "96fc8294",
   "metadata": {},
   "outputs": [
    {
     "data": {
      "text/html": [
       "<div>\n",
       "<style scoped>\n",
       "    .dataframe tbody tr th:only-of-type {\n",
       "        vertical-align: middle;\n",
       "    }\n",
       "\n",
       "    .dataframe tbody tr th {\n",
       "        vertical-align: top;\n",
       "    }\n",
       "\n",
       "    .dataframe thead th {\n",
       "        text-align: right;\n",
       "    }\n",
       "</style>\n",
       "<table border=\"1\" class=\"dataframe\">\n",
       "  <thead>\n",
       "    <tr style=\"text-align: right;\">\n",
       "      <th></th>\n",
       "      <th>weekday</th>\n",
       "      <th>count_user</th>\n",
       "    </tr>\n",
       "  </thead>\n",
       "  <tbody>\n",
       "    <tr>\n",
       "      <th>0</th>\n",
       "      <td>1_ПН</td>\n",
       "      <td>1057</td>\n",
       "    </tr>\n",
       "    <tr>\n",
       "      <th>1</th>\n",
       "      <td>2_ВТ</td>\n",
       "      <td>1024</td>\n",
       "    </tr>\n",
       "    <tr>\n",
       "      <th>2</th>\n",
       "      <td>3_СР</td>\n",
       "      <td>1052</td>\n",
       "    </tr>\n",
       "    <tr>\n",
       "      <th>3</th>\n",
       "      <td>4_ЧТ</td>\n",
       "      <td>1073</td>\n",
       "    </tr>\n",
       "    <tr>\n",
       "      <th>4</th>\n",
       "      <td>5_ПТ</td>\n",
       "      <td>968</td>\n",
       "    </tr>\n",
       "    <tr>\n",
       "      <th>5</th>\n",
       "      <td>6_СБ</td>\n",
       "      <td>869</td>\n",
       "    </tr>\n",
       "    <tr>\n",
       "      <th>6</th>\n",
       "      <td>7_ВС</td>\n",
       "      <td>966</td>\n",
       "    </tr>\n",
       "  </tbody>\n",
       "</table>\n",
       "</div>"
      ],
      "text/plain": [
       "  weekday  count_user\n",
       "0    1_ПН        1057\n",
       "1    2_ВТ        1024\n",
       "2    3_СР        1052\n",
       "3    4_ЧТ        1073\n",
       "4    5_ПТ         968\n",
       "5    6_СБ         869\n",
       "6    7_ВС         966"
      ]
     },
     "execution_count": 74,
     "metadata": {},
     "output_type": "execute_result"
    }
   ],
   "source": [
    "user_week = df.groupby('weekday').agg(count_user = ('user_id','nunique')).reset_index()\n",
    "user_week"
   ]
  },
  {
   "cell_type": "code",
   "execution_count": 75,
   "id": "c9758e8f",
   "metadata": {},
   "outputs": [
    {
     "data": {
      "image/png": "[encoded data removed]",
      "text/plain": [
       "<Figure size 432x288 with 1 Axes>"
      ]
     },
     "metadata": {
      "needs_background": "light"
     },
     "output_type": "display_data"
    }
   ],
   "source": [
    "sns.barplot(x=user_week['weekday'], y=user_week['count_user'], palette='Greens_d')\n",
    "# поворачиваем подписи значений по оси X на 45 градусов\n",
    "#plt.xticks(rotation=45)\n",
    "plt.title('Распределение количества  уникальных пользователей по дням недели')\n",
    "plt.xlabel('День недели')\n",
    "plt.ylabel('Количество уникальных пользователей')\n",
    "# отображаем график на экране\n",
    "plt.show()"
   ]
  },
  {
   "cell_type": "markdown",
   "id": "e6569f28",
   "metadata": {},
   "source": [
    "С понедельника по четверг количество уникальных пользователей примерно на одном уровне - от 1024 до 1073 человек.  В субботу количество активных пользователей меньше, чем в другие дни, и равно - 869 пользователя , в пятницу и выходные дни пользователей в приложении меньше, чем в будни, и равно 968 и 966 человек соотвественно."
   ]
  },
  {
   "cell_type": "markdown",
   "id": "bedd48f4",
   "metadata": {},
   "source": [
    "Посмотрим, сколько сессий было у одного пользователя за анализируемый период."
   ]
  },
  {
   "cell_type": "code",
   "execution_count": 76,
   "id": "66377701",
   "metadata": {},
   "outputs": [
    {
     "data": {
      "text/html": [
       "<div>\n",
       "<style scoped>\n",
       "    .dataframe tbody tr th:only-of-type {\n",
       "        vertical-align: middle;\n",
       "    }\n",
       "\n",
       "    .dataframe tbody tr th {\n",
       "        vertical-align: top;\n",
       "    }\n",
       "\n",
       "    .dataframe thead th {\n",
       "        text-align: right;\n",
       "    }\n",
       "</style>\n",
       "<table border=\"1\" class=\"dataframe\">\n",
       "  <thead>\n",
       "    <tr style=\"text-align: right;\">\n",
       "      <th></th>\n",
       "      <th>user_id</th>\n",
       "      <th>count_session_total</th>\n",
       "    </tr>\n",
       "  </thead>\n",
       "  <tbody>\n",
       "    <tr>\n",
       "      <th>0</th>\n",
       "      <td>0001b1d5-b74a-4cbf-aeb0-7df5947bf349</td>\n",
       "      <td>4</td>\n",
       "    </tr>\n",
       "    <tr>\n",
       "      <th>1</th>\n",
       "      <td>00157779-810c-4498-9e05-a1e9e3cedf93</td>\n",
       "      <td>6</td>\n",
       "    </tr>\n",
       "    <tr>\n",
       "      <th>2</th>\n",
       "      <td>00463033-5717-4bf1-91b4-09183923b9df</td>\n",
       "      <td>1</td>\n",
       "    </tr>\n",
       "    <tr>\n",
       "      <th>3</th>\n",
       "      <td>004690c3-5a84-4bb7-a8af-e0c8f8fca64e</td>\n",
       "      <td>6</td>\n",
       "    </tr>\n",
       "    <tr>\n",
       "      <th>4</th>\n",
       "      <td>00551e79-152e-4441-9cf7-565d7eb04090</td>\n",
       "      <td>3</td>\n",
       "    </tr>\n",
       "    <tr>\n",
       "      <th>...</th>\n",
       "      <td>...</td>\n",
       "      <td>...</td>\n",
       "    </tr>\n",
       "    <tr>\n",
       "      <th>4288</th>\n",
       "      <td>ffab8d8a-30bb-424a-a3ab-0b63ebbf7b07</td>\n",
       "      <td>2</td>\n",
       "    </tr>\n",
       "    <tr>\n",
       "      <th>4289</th>\n",
       "      <td>ffc01466-fdb1-4460-ae94-e800f52eb136</td>\n",
       "      <td>1</td>\n",
       "    </tr>\n",
       "    <tr>\n",
       "      <th>4290</th>\n",
       "      <td>ffcf50d9-293c-4254-8243-4890b030b238</td>\n",
       "      <td>1</td>\n",
       "    </tr>\n",
       "    <tr>\n",
       "      <th>4291</th>\n",
       "      <td>ffe68f10-e48e-470e-be9b-eeb93128ff1a</td>\n",
       "      <td>3</td>\n",
       "    </tr>\n",
       "    <tr>\n",
       "      <th>4292</th>\n",
       "      <td>fffb9e79-b927-4dbb-9b48-7fd09b23a62b</td>\n",
       "      <td>30</td>\n",
       "    </tr>\n",
       "  </tbody>\n",
       "</table>\n",
       "<p>4293 rows × 2 columns</p>\n",
       "</div>"
      ],
      "text/plain": [
       "                                   user_id  count_session_total\n",
       "0     0001b1d5-b74a-4cbf-aeb0-7df5947bf349                    4\n",
       "1     00157779-810c-4498-9e05-a1e9e3cedf93                    6\n",
       "2     00463033-5717-4bf1-91b4-09183923b9df                    1\n",
       "3     004690c3-5a84-4bb7-a8af-e0c8f8fca64e                    6\n",
       "4     00551e79-152e-4441-9cf7-565d7eb04090                    3\n",
       "...                                    ...                  ...\n",
       "4288  ffab8d8a-30bb-424a-a3ab-0b63ebbf7b07                    2\n",
       "4289  ffc01466-fdb1-4460-ae94-e800f52eb136                    1\n",
       "4290  ffcf50d9-293c-4254-8243-4890b030b238                    1\n",
       "4291  ffe68f10-e48e-470e-be9b-eeb93128ff1a                    3\n",
       "4292  fffb9e79-b927-4dbb-9b48-7fd09b23a62b                   30\n",
       "\n",
       "[4293 rows x 2 columns]"
      ]
     },
     "execution_count": 76,
     "metadata": {},
     "output_type": "execute_result"
    }
   ],
   "source": [
    "count_session_user = df.groupby(['user_id']).agg(count_session_total = ('session_id','nunique')).reset_index()\n",
    "count_session_user"
   ]
  },
  {
   "cell_type": "code",
   "execution_count": 77,
   "id": "b4f9f9ac",
   "metadata": {},
   "outputs": [
    {
     "data": {
      "text/plain": [
       "count   4293.00\n",
       "mean       2.34\n",
       "std        3.35\n",
       "min        1.00\n",
       "25%        1.00\n",
       "50%        1.00\n",
       "75%        2.00\n",
       "max       93.00\n",
       "Name: count_session_total, dtype: float64"
      ]
     },
     "execution_count": 77,
     "metadata": {},
     "output_type": "execute_result"
    }
   ],
   "source": [
    "count_session_user['count_session_total'].describe()"
   ]
  },
  {
   "cell_type": "code",
   "execution_count": 78,
   "id": "2de2e29f",
   "metadata": {},
   "outputs": [
    {
     "data": {
      "image/png": "[encoded data removed]",
      "text/plain": [
       "<Figure size 432x288 with 1 Axes>"
      ]
     },
     "metadata": {
      "needs_background": "light"
     },
     "output_type": "display_data"
    }
   ],
   "source": [
    "count_session_user['count_session_total'].hist(bins=100) \n",
    "plt.xlim(0, 20)\n",
    "plt.title('Распределение пользователей по количеству сессий')\n",
    "plt.xlabel('Продолжительность сессий, мин')\n",
    "plt.ylabel('Количество пользователей')\n",
    "plt.show()\n"
   ]
  },
  {
   "cell_type": "markdown",
   "id": "b118bd12",
   "metadata": {},
   "source": [
    "У 50% пользователей за анализируемый период была только одна сессий,  у 25% - две сессия, и только 25% пользователей заходили в приложение больше двух раз."
   ]
  },
  {
   "cell_type": "markdown",
   "id": "0d38a0aa",
   "metadata": {},
   "source": [
    "Вывод по разделу 3.4. \n",
    "Всего за анализируемые период было зарегистрировано 4393 пользователя.  \n",
    "С понедельника по четверг количество уникальных пользователей примерно на одном уровне - от 1024 до 1073 человек.  В субботу количество активных пользователей меньше, чем в другие дни, и равно - 869 пользователя , в пятницу и выходные дни пользователей в приложении меньше, чем в будни, и равно 968 и 966 человек соотвественно.\n",
    "У 50% пользователей за анализируемый период была только одна сессий,  у 25% - две сессия, и только 25% пользователей заходили в приложение больше двух раз."
   ]
  },
  {
   "cell_type": "markdown",
   "id": "48710969",
   "metadata": {},
   "source": [
    "### Конверсия в целевое действие - просмотр контактов"
   ]
  },
  {
   "cell_type": "markdown",
   "id": "481d69d7",
   "metadata": {},
   "source": [
    "Посмотрим, сколько всего пользователей в приложении"
   ]
  },
  {
   "cell_type": "code",
   "execution_count": 79,
   "id": "372ab6e7",
   "metadata": {},
   "outputs": [
    {
     "data": {
      "text/plain": [
       "4293"
      ]
     },
     "execution_count": 79,
     "metadata": {},
     "output_type": "execute_result"
    }
   ],
   "source": [
    "df['user_id'].nunique()"
   ]
  },
  {
   "cell_type": "markdown",
   "id": "be3e6f6e",
   "metadata": {},
   "source": [
    "Сколько пользователей совершили целевое действие - просмотр контакта."
   ]
  },
  {
   "cell_type": "code",
   "execution_count": 80,
   "id": "de93ec01",
   "metadata": {
    "scrolled": true
   },
   "outputs": [
    {
     "data": {
      "text/plain": [
       "981"
      ]
     },
     "execution_count": 80,
     "metadata": {},
     "output_type": "execute_result"
    }
   ],
   "source": [
    "df.query('event_name == \"contacts_show\"')['user_id'].nunique()"
   ]
  },
  {
   "cell_type": "markdown",
   "id": "110c3d4d",
   "metadata": {},
   "source": [
    "посчитаем долю пользователей с целевым событием"
   ]
  },
  {
   "cell_type": "code",
   "execution_count": 81,
   "id": "f4a68921",
   "metadata": {},
   "outputs": [
    {
     "name": "stdout",
     "output_type": "stream",
     "text": [
      "Конверсия в целевое действие - просмотр контактов равна 22.9%\n"
     ]
    }
   ],
   "source": [
    "print('Конверсия в целевое действие - просмотр контактов равна', '{0:.1%}'.format(df.query('event_name == \"contacts_show\"')['user_id'].nunique()/df['user_id'].nunique()))"
   ]
  },
  {
   "cell_type": "markdown",
   "id": "6335910c",
   "metadata": {},
   "source": [
    "Посмотрим конверсию в целевое событие в группах пользователей, зарегистрировавшихся в одну неделю"
   ]
  },
  {
   "cell_type": "code",
   "execution_count": 82,
   "id": "fadd1ebf",
   "metadata": {},
   "outputs": [
    {
     "data": {
      "text/html": [
       "<div>\n",
       "<style scoped>\n",
       "    .dataframe tbody tr th:only-of-type {\n",
       "        vertical-align: middle;\n",
       "    }\n",
       "\n",
       "    .dataframe tbody tr th {\n",
       "        vertical-align: top;\n",
       "    }\n",
       "\n",
       "    .dataframe thead th {\n",
       "        text-align: right;\n",
       "    }\n",
       "</style>\n",
       "<table border=\"1\" class=\"dataframe\">\n",
       "  <thead>\n",
       "    <tr style=\"text-align: right;\">\n",
       "      <th></th>\n",
       "      <th>first_week</th>\n",
       "      <th>cohort_size</th>\n",
       "      <th>user_target</th>\n",
       "      <th>conversion</th>\n",
       "    </tr>\n",
       "  </thead>\n",
       "  <tbody>\n",
       "    <tr>\n",
       "      <th>0</th>\n",
       "      <td>41</td>\n",
       "      <td>1130</td>\n",
       "      <td>272</td>\n",
       "      <td>0.24</td>\n",
       "    </tr>\n",
       "    <tr>\n",
       "      <th>1</th>\n",
       "      <td>42</td>\n",
       "      <td>1166</td>\n",
       "      <td>253</td>\n",
       "      <td>0.22</td>\n",
       "    </tr>\n",
       "    <tr>\n",
       "      <th>2</th>\n",
       "      <td>43</td>\n",
       "      <td>1094</td>\n",
       "      <td>268</td>\n",
       "      <td>0.24</td>\n",
       "    </tr>\n",
       "    <tr>\n",
       "      <th>3</th>\n",
       "      <td>44</td>\n",
       "      <td>903</td>\n",
       "      <td>188</td>\n",
       "      <td>0.21</td>\n",
       "    </tr>\n",
       "  </tbody>\n",
       "</table>\n",
       "</div>"
      ],
      "text/plain": [
       "   first_week  cohort_size  user_target  conversion\n",
       "0          41         1130          272        0.24\n",
       "1          42         1166          253        0.22\n",
       "2          43         1094          268        0.24\n",
       "3          44          903          188        0.21"
      ]
     },
     "execution_count": 82,
     "metadata": {},
     "output_type": "execute_result"
    }
   ],
   "source": [
    "conversion_week = cohort_sizes_week.reset_index()\\\n",
    "                  .merge(df.query('event_name == \"contacts_show\"')\\\n",
    "                         .groupby(['first_week']).agg(user_target = ('user_id','nunique')).reset_index()\\\n",
    "                         , on = 'first_week', how = 'left')\n",
    "conversion_week['conversion'] = conversion_week['user_target'] / conversion_week['cohort_size']\n",
    "conversion_week"
   ]
  },
  {
   "cell_type": "markdown",
   "id": "bda22257",
   "metadata": {},
   "source": [
    "Конверсия в целевое действие почти не отличается в зависимости от даты регистрации пользователя и изменяется от 21% до 24%"
   ]
  },
  {
   "cell_type": "markdown",
   "id": "550e034d",
   "metadata": {},
   "source": [
    "Посмотрим, сколько целевых событий делают пользователи в разные дни недели."
   ]
  },
  {
   "cell_type": "code",
   "execution_count": 83,
   "id": "adfc43fd",
   "metadata": {},
   "outputs": [
    {
     "data": {
      "text/html": [
       "<div>\n",
       "<style scoped>\n",
       "    .dataframe tbody tr th:only-of-type {\n",
       "        vertical-align: middle;\n",
       "    }\n",
       "\n",
       "    .dataframe tbody tr th {\n",
       "        vertical-align: top;\n",
       "    }\n",
       "\n",
       "    .dataframe thead th {\n",
       "        text-align: right;\n",
       "    }\n",
       "</style>\n",
       "<table border=\"1\" class=\"dataframe\">\n",
       "  <thead>\n",
       "    <tr style=\"text-align: right;\">\n",
       "      <th></th>\n",
       "      <th>weekday</th>\n",
       "      <th>count_target</th>\n",
       "    </tr>\n",
       "  </thead>\n",
       "  <tbody>\n",
       "    <tr>\n",
       "      <th>0</th>\n",
       "      <td>1_ПН</td>\n",
       "      <td>648</td>\n",
       "    </tr>\n",
       "    <tr>\n",
       "      <th>1</th>\n",
       "      <td>2_ВТ</td>\n",
       "      <td>706</td>\n",
       "    </tr>\n",
       "    <tr>\n",
       "      <th>2</th>\n",
       "      <td>3_СР</td>\n",
       "      <td>715</td>\n",
       "    </tr>\n",
       "    <tr>\n",
       "      <th>3</th>\n",
       "      <td>4_ЧТ</td>\n",
       "      <td>830</td>\n",
       "    </tr>\n",
       "    <tr>\n",
       "      <th>4</th>\n",
       "      <td>5_ПТ</td>\n",
       "      <td>660</td>\n",
       "    </tr>\n",
       "    <tr>\n",
       "      <th>5</th>\n",
       "      <td>6_СБ</td>\n",
       "      <td>447</td>\n",
       "    </tr>\n",
       "    <tr>\n",
       "      <th>6</th>\n",
       "      <td>7_ВС</td>\n",
       "      <td>523</td>\n",
       "    </tr>\n",
       "  </tbody>\n",
       "</table>\n",
       "</div>"
      ],
      "text/plain": [
       "  weekday  count_target\n",
       "0    1_ПН           648\n",
       "1    2_ВТ           706\n",
       "2    3_СР           715\n",
       "3    4_ЧТ           830\n",
       "4    5_ПТ           660\n",
       "5    6_СБ           447\n",
       "6    7_ВС           523"
      ]
     },
     "execution_count": 83,
     "metadata": {},
     "output_type": "execute_result"
    }
   ],
   "source": [
    "target_week = df.query('event_name == \"contacts_show\"').groupby('weekday').agg(count_target = ('event_name','count')).reset_index()\n",
    "target_week"
   ]
  },
  {
   "cell_type": "code",
   "execution_count": 84,
   "id": "ffa6da45",
   "metadata": {},
   "outputs": [
    {
     "data": {
      "image/png": "[encoded data removed]",
      "text/plain": [
       "<Figure size 432x288 with 1 Axes>"
      ]
     },
     "metadata": {
      "needs_background": "light"
     },
     "output_type": "display_data"
    }
   ],
   "source": [
    "sns.barplot(x=target_week['weekday'], y=target_week['count_target'], palette='Blues_d')\n",
    "# поворачиваем подписи значений по оси X на 45 градусов\n",
    "#plt.xticks(rotation=45)\n",
    "plt.title('Количество целевых событий - просмотр контакта в зависимости от дня недели')\n",
    "plt.xlabel('День недели')\n",
    "plt.ylabel('Количество уникальных пользователей')\n",
    "# отображаем график на экране\n",
    "plt.show()"
   ]
  },
  {
   "cell_type": "markdown",
   "id": "de4d4bfe",
   "metadata": {},
   "source": [
    "Больше всего целевых событий - просмотр контакта сделано в четверг и равно 830 событий.В выходные пользователи реже просматривают контакты, но в выходные и сессий меньше."
   ]
  },
  {
   "cell_type": "code",
   "execution_count": 85,
   "id": "a4e50b98",
   "metadata": {},
   "outputs": [
    {
     "data": {
      "text/plain": [
       "4529"
      ]
     },
     "execution_count": 85,
     "metadata": {},
     "output_type": "execute_result"
    }
   ],
   "source": [
    "target_hour = df.query('event_name == \"contacts_show\"').groupby('hour').agg(target_session = ('event_name','count')).reset_index()\n",
    "target_hour ['target_session'].sum()"
   ]
  },
  {
   "cell_type": "code",
   "execution_count": 86,
   "id": "6007268c",
   "metadata": {},
   "outputs": [
    {
     "data": {
      "image/png": "[encoded data removed]",
      "text/plain": [
       "<Figure size 432x288 with 1 Axes>"
      ]
     },
     "metadata": {
      "needs_background": "light"
     },
     "output_type": "display_data"
    }
   ],
   "source": [
    "sns.barplot(x=target_hour['hour'], y=target_hour['target_session'], palette='Blues_d')\n",
    "# поворачиваем подписи значений по оси X на 45 градусов\n",
    "#plt.xticks(rotation=45)\n",
    "plt.title('Распределение целевых событий - просмотр контакта по времени дня')\n",
    "plt.xlabel('Время суток')\n",
    "plt.ylabel('Количество сессий')\n",
    "# отображаем график на экране\n",
    "plt.show()"
   ]
  },
  {
   "cell_type": "markdown",
   "id": "d7de3343",
   "metadata": {},
   "source": [
    "в 13:00 - 14:00 и с 10:00 - 11:00 пользователи чаще всего просмотривают совершают целевое действие - просмотр контакта. в 17:00-19:00 наблюдается спад в целевом событии, что может быть связано с окончанием рабочего дня и тем, что в это время непринято звонить людям, так как они могут быть в дороге."
   ]
  },
  {
   "cell_type": "markdown",
   "id": "1ed71b35",
   "metadata": {},
   "source": [
    "Вывод по разделу 3.5.\n",
    "Конверсия в целевое действие - просмотр контактов равна 22.9%  \n",
    "Больше всего целевых событий - просмотр контакта сделано в четверг и равно 830 событий.В выходные пользователи реже просматривают контакты, что и логично, потому что в выходные меньше сессий.  \n",
    "в 13:00 - 14:00 и с 10:00 - 11:00 пользователи чаще всего просмотривают совершают целевое действие - просмотр контакта. С 17:00-19:00 наблюдается спад в количество целевого события, что может быть связано с окончанием рабочего дня и тем, что в это время непринято звонить людям, так как они могут быть в дороге."
   ]
  },
  {
   "cell_type": "markdown",
   "id": "c155b9db",
   "metadata": {},
   "source": [
    "Вывод по 3 разделу:  \n",
    "Так как приложение не подразумевает обязательного ежедневного использования, то для анализа удержания взяли период равный неделе. На вторую неделю коэффициент удержания по когортам почти не отличается и изменяется от 21% до 24% пользователей, на третью неделю возвращается от 13% от 15%. В когорте, пользователи которой зарегистировались больше трех недель назад, на четвертую неделе вернулось - 10% пользователей. Удержание пользователей в зависимости от источника, с которого пришли пользователи, практически одинаковое. На вторую неделю удержание от 21% до 24%, на третью - около 14%, на четвертую - у пользователей с яндекса и гугл - 9%, у пользователей с других источников - 13%.\n",
    "В среднем пользователь проводит в приложении 10 минут за сессию, 75% пользователей проводят в приложении до 21 минуты. Медианное значение длительности сессий равно 6 минутам. 25% сессий длились меньше 48 секунд, 75% сессий длительностью до 19 минут, максимальная длительность - 367 минут. В в выходные дни в субботу и воскресенье пользователи проводят в приложении немного больше времени, чем в другие дни. Самые короткие сессии в четверг. При этом медианное время различаются незначительно по дням недели. Самые длинные сессии в два часа ночи, в это время и медианное значение продолжительности сессий выше, чем в другое время. Это связано с тем, что ночью сессий меньше и а те несколько сессий, чтобы были ночью, длиннее средней продолжительности. В вечерние часы с 19:00 - 22:00 пользователи проводят в приложении больше, чем в другие часы. Но в целом, продолжительность сессий в течение дня отличается не сильно.\n",
    "Всего за анализируемый период, длиною 4 недели, было 10029 сессий. Больше всего событий происходит по понедельникам, меньше всего действий в приложении в субботу и пятницу. В понедельник произошло 11644, в другие дни произошло от 10000-11000 событий в приложении, за исключение пятницы и субботу, когда событий было 9935 и 9250 соответственно. Наибольшая активность по количеству событий наблюдается в дневные часы - 12:00 - 15:00 и вечерние с 19:00 - 21:00 Ночью наблюдается логичный спад активности.\n",
    "В течение большинства сессий пользователями было совершено до 15 событий. Но есть сессии с относительном большим количеством событий - больше 100 событий за сессию, но и такое количество событий возможно для реального пользователя.\n",
    "Медианное значение среднего количества действий пользователя за сессию равно 6. В течение 75% сессий пользователи делают до 10 событий.\n",
    "Пол количеству сессий в приложении наблюдается два пиковых и периодов времени суток - с 10:00-16:00 и 19:00-22:00. В это время в час происходит от 4000 до 5500 разных сессий.\n",
    "Наибольшая активность в приложении по количеству сессий наблюдается в среду и четверг, в субботу и воскресенье количество сессий снижется.\n",
    "Всего за анализируемые период было зарегистрировано 4393 пользователя.\n",
    "С понедельника по четверг количество уникальных пользователей примерно на одном уровне - от 1024 до 1073 человек. В субботу количество активных пользователей меньше, чем в другие дни, и равно - 869 пользователя , в пятницу и выходные дни пользователей в приложении меньше, чем в будни, и равно 968 и 966 человек соответственно. У 50% пользователей за анализируемый период была только одна сессий, у 25% - две сессия, и только 25% пользователей заходили в приложение больше двух раз.\n",
    "Конверсия в целевое действие - просмотр контактов равна 22.9%\n",
    "Больше всего целевых событий - просмотр контакта сделано в четверг и равно 830 событий. В выходные пользователи реже просматривают контакты, что и логично, потому что в выходные меньше сессий.\n",
    "в 13:00 - 14:00 и с 10:00 - 11:00 пользователи чаще всего просматривают совершают целевое действие - просмотр контакта. С 17:00-19:00 наблюдается спад в количество целевого события, что может быть связано с окончанием рабочего дня и тем, что в это время непринято звонить людям, так как они могут быть в дороге."
   ]
  },
  {
   "cell_type": "markdown",
   "id": "05c87fd1",
   "metadata": {},
   "source": [
    "## Сегментация пользователей"
   ]
  },
  {
   "cell_type": "markdown",
   "id": "20e8a91c",
   "metadata": {},
   "source": [
    "Так как пользователи пользуются приложением очень неравномерно, для деления на группы пользователей возьмем метрику - частота действия. \n",
    "Первая группа, у которых была одна сессия за период, вторая группа - 2 сессии, третья группа от 3 д 5 сессий, четвертая группа 6 и более сессий (активные пользователи)."
   ]
  },
  {
   "cell_type": "code",
   "execution_count": 87,
   "id": "64f21498",
   "metadata": {},
   "outputs": [
    {
     "data": {
      "text/html": [
       "<div>\n",
       "<style scoped>\n",
       "    .dataframe tbody tr th:only-of-type {\n",
       "        vertical-align: middle;\n",
       "    }\n",
       "\n",
       "    .dataframe tbody tr th {\n",
       "        vertical-align: top;\n",
       "    }\n",
       "\n",
       "    .dataframe thead th {\n",
       "        text-align: right;\n",
       "    }\n",
       "</style>\n",
       "<table border=\"1\" class=\"dataframe\">\n",
       "  <thead>\n",
       "    <tr style=\"text-align: right;\">\n",
       "      <th></th>\n",
       "      <th>user_id</th>\n",
       "      <th>count_session_total</th>\n",
       "    </tr>\n",
       "  </thead>\n",
       "  <tbody>\n",
       "    <tr>\n",
       "      <th>0</th>\n",
       "      <td>0001b1d5-b74a-4cbf-aeb0-7df5947bf349</td>\n",
       "      <td>4</td>\n",
       "    </tr>\n",
       "    <tr>\n",
       "      <th>1</th>\n",
       "      <td>00157779-810c-4498-9e05-a1e9e3cedf93</td>\n",
       "      <td>6</td>\n",
       "    </tr>\n",
       "    <tr>\n",
       "      <th>2</th>\n",
       "      <td>00463033-5717-4bf1-91b4-09183923b9df</td>\n",
       "      <td>1</td>\n",
       "    </tr>\n",
       "    <tr>\n",
       "      <th>3</th>\n",
       "      <td>004690c3-5a84-4bb7-a8af-e0c8f8fca64e</td>\n",
       "      <td>6</td>\n",
       "    </tr>\n",
       "    <tr>\n",
       "      <th>4</th>\n",
       "      <td>00551e79-152e-4441-9cf7-565d7eb04090</td>\n",
       "      <td>3</td>\n",
       "    </tr>\n",
       "  </tbody>\n",
       "</table>\n",
       "</div>"
      ],
      "text/plain": [
       "                                user_id  count_session_total\n",
       "0  0001b1d5-b74a-4cbf-aeb0-7df5947bf349                    4\n",
       "1  00157779-810c-4498-9e05-a1e9e3cedf93                    6\n",
       "2  00463033-5717-4bf1-91b4-09183923b9df                    1\n",
       "3  004690c3-5a84-4bb7-a8af-e0c8f8fca64e                    6\n",
       "4  00551e79-152e-4441-9cf7-565d7eb04090                    3"
      ]
     },
     "execution_count": 87,
     "metadata": {},
     "output_type": "execute_result"
    }
   ],
   "source": [
    "count_session_user.head()"
   ]
  },
  {
   "cell_type": "markdown",
   "id": "b732ac78",
   "metadata": {},
   "source": [
    "Добавим в основной датасат df информацию по количеству сессий пользователей"
   ]
  },
  {
   "cell_type": "code",
   "execution_count": 88,
   "id": "309e0347",
   "metadata": {},
   "outputs": [
    {
     "data": {
      "text/html": [
       "<div>\n",
       "<style scoped>\n",
       "    .dataframe tbody tr th:only-of-type {\n",
       "        vertical-align: middle;\n",
       "    }\n",
       "\n",
       "    .dataframe tbody tr th {\n",
       "        vertical-align: top;\n",
       "    }\n",
       "\n",
       "    .dataframe thead th {\n",
       "        text-align: right;\n",
       "    }\n",
       "</style>\n",
       "<table border=\"1\" class=\"dataframe\">\n",
       "  <thead>\n",
       "    <tr style=\"text-align: right;\">\n",
       "      <th></th>\n",
       "      <th>event_time</th>\n",
       "      <th>event_name</th>\n",
       "      <th>user_id</th>\n",
       "      <th>source</th>\n",
       "      <th>first_ts</th>\n",
       "      <th>dt</th>\n",
       "      <th>session_id</th>\n",
       "      <th>session_start</th>\n",
       "      <th>session_end</th>\n",
       "      <th>first_week</th>\n",
       "      <th>session_week</th>\n",
       "      <th>lifetime_week</th>\n",
       "      <th>weekday</th>\n",
       "      <th>hour</th>\n",
       "      <th>session_duration_min</th>\n",
       "      <th>count_session_total</th>\n",
       "    </tr>\n",
       "  </thead>\n",
       "  <tbody>\n",
       "    <tr>\n",
       "      <th>0</th>\n",
       "      <td>2019-10-07 13:39:46</td>\n",
       "      <td>tips_show</td>\n",
       "      <td>0001b1d5-b74a-4cbf-aeb0-7df5947bf349</td>\n",
       "      <td>other</td>\n",
       "      <td>2019-10-07 13:39:46</td>\n",
       "      <td>2019-10-07</td>\n",
       "      <td>1</td>\n",
       "      <td>2019-10-07 13:39:46</td>\n",
       "      <td>2019-10-07 13:49:42</td>\n",
       "      <td>41</td>\n",
       "      <td>41</td>\n",
       "      <td>0</td>\n",
       "      <td>1_ПН</td>\n",
       "      <td>13</td>\n",
       "      <td>9.93</td>\n",
       "      <td>4</td>\n",
       "    </tr>\n",
       "    <tr>\n",
       "      <th>1</th>\n",
       "      <td>2019-10-07 13:40:31</td>\n",
       "      <td>tips_show</td>\n",
       "      <td>0001b1d5-b74a-4cbf-aeb0-7df5947bf349</td>\n",
       "      <td>other</td>\n",
       "      <td>2019-10-07 13:39:46</td>\n",
       "      <td>2019-10-07</td>\n",
       "      <td>1</td>\n",
       "      <td>2019-10-07 13:39:46</td>\n",
       "      <td>2019-10-07 13:49:42</td>\n",
       "      <td>41</td>\n",
       "      <td>41</td>\n",
       "      <td>0</td>\n",
       "      <td>1_ПН</td>\n",
       "      <td>13</td>\n",
       "      <td>9.93</td>\n",
       "      <td>4</td>\n",
       "    </tr>\n",
       "    <tr>\n",
       "      <th>2</th>\n",
       "      <td>2019-10-07 13:41:06</td>\n",
       "      <td>tips_show</td>\n",
       "      <td>0001b1d5-b74a-4cbf-aeb0-7df5947bf349</td>\n",
       "      <td>other</td>\n",
       "      <td>2019-10-07 13:39:46</td>\n",
       "      <td>2019-10-07</td>\n",
       "      <td>1</td>\n",
       "      <td>2019-10-07 13:39:46</td>\n",
       "      <td>2019-10-07 13:49:42</td>\n",
       "      <td>41</td>\n",
       "      <td>41</td>\n",
       "      <td>0</td>\n",
       "      <td>1_ПН</td>\n",
       "      <td>13</td>\n",
       "      <td>9.93</td>\n",
       "      <td>4</td>\n",
       "    </tr>\n",
       "    <tr>\n",
       "      <th>3</th>\n",
       "      <td>2019-10-07 13:43:21</td>\n",
       "      <td>tips_show</td>\n",
       "      <td>0001b1d5-b74a-4cbf-aeb0-7df5947bf349</td>\n",
       "      <td>other</td>\n",
       "      <td>2019-10-07 13:39:46</td>\n",
       "      <td>2019-10-07</td>\n",
       "      <td>1</td>\n",
       "      <td>2019-10-07 13:39:46</td>\n",
       "      <td>2019-10-07 13:49:42</td>\n",
       "      <td>41</td>\n",
       "      <td>41</td>\n",
       "      <td>0</td>\n",
       "      <td>1_ПН</td>\n",
       "      <td>13</td>\n",
       "      <td>9.93</td>\n",
       "      <td>4</td>\n",
       "    </tr>\n",
       "    <tr>\n",
       "      <th>4</th>\n",
       "      <td>2019-10-07 13:45:31</td>\n",
       "      <td>tips_show</td>\n",
       "      <td>0001b1d5-b74a-4cbf-aeb0-7df5947bf349</td>\n",
       "      <td>other</td>\n",
       "      <td>2019-10-07 13:39:46</td>\n",
       "      <td>2019-10-07</td>\n",
       "      <td>1</td>\n",
       "      <td>2019-10-07 13:39:46</td>\n",
       "      <td>2019-10-07 13:49:42</td>\n",
       "      <td>41</td>\n",
       "      <td>41</td>\n",
       "      <td>0</td>\n",
       "      <td>1_ПН</td>\n",
       "      <td>13</td>\n",
       "      <td>9.93</td>\n",
       "      <td>4</td>\n",
       "    </tr>\n",
       "  </tbody>\n",
       "</table>\n",
       "</div>"
      ],
      "text/plain": [
       "           event_time event_name                               user_id source  \\\n",
       "0 2019-10-07 13:39:46  tips_show  0001b1d5-b74a-4cbf-aeb0-7df5947bf349  other   \n",
       "1 2019-10-07 13:40:31  tips_show  0001b1d5-b74a-4cbf-aeb0-7df5947bf349  other   \n",
       "2 2019-10-07 13:41:06  tips_show  0001b1d5-b74a-4cbf-aeb0-7df5947bf349  other   \n",
       "3 2019-10-07 13:43:21  tips_show  0001b1d5-b74a-4cbf-aeb0-7df5947bf349  other   \n",
       "4 2019-10-07 13:45:31  tips_show  0001b1d5-b74a-4cbf-aeb0-7df5947bf349  other   \n",
       "\n",
       "             first_ts          dt  session_id       session_start  \\\n",
       "0 2019-10-07 13:39:46  2019-10-07           1 2019-10-07 13:39:46   \n",
       "1 2019-10-07 13:39:46  2019-10-07           1 2019-10-07 13:39:46   \n",
       "2 2019-10-07 13:39:46  2019-10-07           1 2019-10-07 13:39:46   \n",
       "3 2019-10-07 13:39:46  2019-10-07           1 2019-10-07 13:39:46   \n",
       "4 2019-10-07 13:39:46  2019-10-07           1 2019-10-07 13:39:46   \n",
       "\n",
       "          session_end  first_week  session_week  lifetime_week weekday  hour  \\\n",
       "0 2019-10-07 13:49:42          41            41              0    1_ПН    13   \n",
       "1 2019-10-07 13:49:42          41            41              0    1_ПН    13   \n",
       "2 2019-10-07 13:49:42          41            41              0    1_ПН    13   \n",
       "3 2019-10-07 13:49:42          41            41              0    1_ПН    13   \n",
       "4 2019-10-07 13:49:42          41            41              0    1_ПН    13   \n",
       "\n",
       "   session_duration_min  count_session_total  \n",
       "0                  9.93                    4  \n",
       "1                  9.93                    4  \n",
       "2                  9.93                    4  \n",
       "3                  9.93                    4  \n",
       "4                  9.93                    4  "
      ]
     },
     "execution_count": 88,
     "metadata": {},
     "output_type": "execute_result"
    }
   ],
   "source": [
    "df = df.merge(\n",
    "   count_session_user, on='user_id', how='left'\n",
    ")\n",
    "df.head()"
   ]
  },
  {
   "cell_type": "markdown",
   "id": "8123e520",
   "metadata": {},
   "source": [
    "В результате анализа поведения пользователей выявлены следующие проблемы:\n",
    "- низкое удержание пользователей,\n",
    "- больше половины пользователей заходили в приложение один раз,\n",
    "- невысокая конвесряи в целевое действие. \n",
    "\n",
    "Основной источник взаимодействия с пользователеями приложений это рассылка (пуш-уведомления, сообщения, письма), и чтобы сделать эту рассылку адресной, направленной, необходимо разделить пользователей на группы в зависимости от частоты действий.\n",
    "\n",
    "Предлаю выдлить следующие группы:\n",
    "- первая группа, у которых была одна сессия за период,\n",
    "- вторая группа - 2 сессии, \n",
    "- третья группа от 3 д 5 сессий, \n",
    "- четвертая группа 6 и более сессий (активные пользователи).\n",
    "\n",
    "Предположительно, с ростом числа сессий растет и конверсия в целевое действие . Поэтому и рассылка для групп должна быть разной. \n",
    "Для пользователей, которые заходили один раз, можно отправлять сообщение с напоминанием о приложении,с целью вернуть их в приложение.\n",
    "Пользователи, которые зашли в приложение два раза, возможно не смогли разобраться с функционалом приложения, и рассылка для этих пользователей может быть с интересными функциями приложения, обучения по работе с приложением.\n",
    "Для пользователей, редко пользующихся приложением, можно отправлять интересные предложения, побуждая пользоваться приложением чаще, увеличивая конверсию.\n",
    " "
   ]
  },
  {
   "cell_type": "markdown",
   "id": "658ae64b",
   "metadata": {},
   "source": [
    "Присвоим номера групп, в зависимости от общего количества сессий в приложении.   \n",
    "Группа_1 - 1 сессия,  \n",
    "группа_2 - 2 сессии,  \n",
    "группа_3 - от 3 до 5 сессий,  \n",
    "группа 4 - от 6 и больше сессий."
   ]
  },
  {
   "cell_type": "markdown",
   "id": "2e22bca1",
   "metadata": {},
   "source": [
    "div class=\"alert alert-block alert-info\">\n",
    "<b>КОММЕНТАРИЙ ОТ УЧЕНИКА:</b> "
   ]
  },
  {
   "cell_type": "code",
   "execution_count": 89,
   "id": "aeccad06",
   "metadata": {},
   "outputs": [],
   "source": [
    "def categorize_users(row):\n",
    "    try:\n",
    "        if row == 1:\n",
    "            return 'группа_1'\n",
    "        elif row == 2:\n",
    "            return 'группа_2'\n",
    "        elif 3 <= row < 6:\n",
    "            return 'группа_3'\n",
    "        elif row >= 6:\n",
    "            return 'группа_4'\n",
    "    except:\n",
    "        return 'нет категории'"
   ]
  },
  {
   "cell_type": "code",
   "execution_count": 90,
   "id": "63e84885",
   "metadata": {},
   "outputs": [
    {
     "data": {
      "text/html": [
       "<div>\n",
       "<style scoped>\n",
       "    .dataframe tbody tr th:only-of-type {\n",
       "        vertical-align: middle;\n",
       "    }\n",
       "\n",
       "    .dataframe tbody tr th {\n",
       "        vertical-align: top;\n",
       "    }\n",
       "\n",
       "    .dataframe thead th {\n",
       "        text-align: right;\n",
       "    }\n",
       "</style>\n",
       "<table border=\"1\" class=\"dataframe\">\n",
       "  <thead>\n",
       "    <tr style=\"text-align: right;\">\n",
       "      <th></th>\n",
       "      <th>event_time</th>\n",
       "      <th>event_name</th>\n",
       "      <th>user_id</th>\n",
       "      <th>source</th>\n",
       "      <th>first_ts</th>\n",
       "      <th>dt</th>\n",
       "      <th>session_id</th>\n",
       "      <th>session_start</th>\n",
       "      <th>session_end</th>\n",
       "      <th>first_week</th>\n",
       "      <th>session_week</th>\n",
       "      <th>lifetime_week</th>\n",
       "      <th>weekday</th>\n",
       "      <th>hour</th>\n",
       "      <th>session_duration_min</th>\n",
       "      <th>count_session_total</th>\n",
       "      <th>users_category</th>\n",
       "    </tr>\n",
       "  </thead>\n",
       "  <tbody>\n",
       "    <tr>\n",
       "      <th>0</th>\n",
       "      <td>2019-10-07 13:39:46</td>\n",
       "      <td>tips_show</td>\n",
       "      <td>0001b1d5-b74a-4cbf-aeb0-7df5947bf349</td>\n",
       "      <td>other</td>\n",
       "      <td>2019-10-07 13:39:46</td>\n",
       "      <td>2019-10-07</td>\n",
       "      <td>1</td>\n",
       "      <td>2019-10-07 13:39:46</td>\n",
       "      <td>2019-10-07 13:49:42</td>\n",
       "      <td>41</td>\n",
       "      <td>41</td>\n",
       "      <td>0</td>\n",
       "      <td>1_ПН</td>\n",
       "      <td>13</td>\n",
       "      <td>9.93</td>\n",
       "      <td>4</td>\n",
       "      <td>группа_3</td>\n",
       "    </tr>\n",
       "    <tr>\n",
       "      <th>1</th>\n",
       "      <td>2019-10-07 13:40:31</td>\n",
       "      <td>tips_show</td>\n",
       "      <td>0001b1d5-b74a-4cbf-aeb0-7df5947bf349</td>\n",
       "      <td>other</td>\n",
       "      <td>2019-10-07 13:39:46</td>\n",
       "      <td>2019-10-07</td>\n",
       "      <td>1</td>\n",
       "      <td>2019-10-07 13:39:46</td>\n",
       "      <td>2019-10-07 13:49:42</td>\n",
       "      <td>41</td>\n",
       "      <td>41</td>\n",
       "      <td>0</td>\n",
       "      <td>1_ПН</td>\n",
       "      <td>13</td>\n",
       "      <td>9.93</td>\n",
       "      <td>4</td>\n",
       "      <td>группа_3</td>\n",
       "    </tr>\n",
       "    <tr>\n",
       "      <th>2</th>\n",
       "      <td>2019-10-07 13:41:06</td>\n",
       "      <td>tips_show</td>\n",
       "      <td>0001b1d5-b74a-4cbf-aeb0-7df5947bf349</td>\n",
       "      <td>other</td>\n",
       "      <td>2019-10-07 13:39:46</td>\n",
       "      <td>2019-10-07</td>\n",
       "      <td>1</td>\n",
       "      <td>2019-10-07 13:39:46</td>\n",
       "      <td>2019-10-07 13:49:42</td>\n",
       "      <td>41</td>\n",
       "      <td>41</td>\n",
       "      <td>0</td>\n",
       "      <td>1_ПН</td>\n",
       "      <td>13</td>\n",
       "      <td>9.93</td>\n",
       "      <td>4</td>\n",
       "      <td>группа_3</td>\n",
       "    </tr>\n",
       "    <tr>\n",
       "      <th>3</th>\n",
       "      <td>2019-10-07 13:43:21</td>\n",
       "      <td>tips_show</td>\n",
       "      <td>0001b1d5-b74a-4cbf-aeb0-7df5947bf349</td>\n",
       "      <td>other</td>\n",
       "      <td>2019-10-07 13:39:46</td>\n",
       "      <td>2019-10-07</td>\n",
       "      <td>1</td>\n",
       "      <td>2019-10-07 13:39:46</td>\n",
       "      <td>2019-10-07 13:49:42</td>\n",
       "      <td>41</td>\n",
       "      <td>41</td>\n",
       "      <td>0</td>\n",
       "      <td>1_ПН</td>\n",
       "      <td>13</td>\n",
       "      <td>9.93</td>\n",
       "      <td>4</td>\n",
       "      <td>группа_3</td>\n",
       "    </tr>\n",
       "    <tr>\n",
       "      <th>4</th>\n",
       "      <td>2019-10-07 13:45:31</td>\n",
       "      <td>tips_show</td>\n",
       "      <td>0001b1d5-b74a-4cbf-aeb0-7df5947bf349</td>\n",
       "      <td>other</td>\n",
       "      <td>2019-10-07 13:39:46</td>\n",
       "      <td>2019-10-07</td>\n",
       "      <td>1</td>\n",
       "      <td>2019-10-07 13:39:46</td>\n",
       "      <td>2019-10-07 13:49:42</td>\n",
       "      <td>41</td>\n",
       "      <td>41</td>\n",
       "      <td>0</td>\n",
       "      <td>1_ПН</td>\n",
       "      <td>13</td>\n",
       "      <td>9.93</td>\n",
       "      <td>4</td>\n",
       "      <td>группа_3</td>\n",
       "    </tr>\n",
       "  </tbody>\n",
       "</table>\n",
       "</div>"
      ],
      "text/plain": [
       "           event_time event_name                               user_id source  \\\n",
       "0 2019-10-07 13:39:46  tips_show  0001b1d5-b74a-4cbf-aeb0-7df5947bf349  other   \n",
       "1 2019-10-07 13:40:31  tips_show  0001b1d5-b74a-4cbf-aeb0-7df5947bf349  other   \n",
       "2 2019-10-07 13:41:06  tips_show  0001b1d5-b74a-4cbf-aeb0-7df5947bf349  other   \n",
       "3 2019-10-07 13:43:21  tips_show  0001b1d5-b74a-4cbf-aeb0-7df5947bf349  other   \n",
       "4 2019-10-07 13:45:31  tips_show  0001b1d5-b74a-4cbf-aeb0-7df5947bf349  other   \n",
       "\n",
       "             first_ts          dt  session_id       session_start  \\\n",
       "0 2019-10-07 13:39:46  2019-10-07           1 2019-10-07 13:39:46   \n",
       "1 2019-10-07 13:39:46  2019-10-07           1 2019-10-07 13:39:46   \n",
       "2 2019-10-07 13:39:46  2019-10-07           1 2019-10-07 13:39:46   \n",
       "3 2019-10-07 13:39:46  2019-10-07           1 2019-10-07 13:39:46   \n",
       "4 2019-10-07 13:39:46  2019-10-07           1 2019-10-07 13:39:46   \n",
       "\n",
       "          session_end  first_week  session_week  lifetime_week weekday  hour  \\\n",
       "0 2019-10-07 13:49:42          41            41              0    1_ПН    13   \n",
       "1 2019-10-07 13:49:42          41            41              0    1_ПН    13   \n",
       "2 2019-10-07 13:49:42          41            41              0    1_ПН    13   \n",
       "3 2019-10-07 13:49:42          41            41              0    1_ПН    13   \n",
       "4 2019-10-07 13:49:42          41            41              0    1_ПН    13   \n",
       "\n",
       "   session_duration_min  count_session_total users_category  \n",
       "0                  9.93                    4       группа_3  \n",
       "1                  9.93                    4       группа_3  \n",
       "2                  9.93                    4       группа_3  \n",
       "3                  9.93                    4       группа_3  \n",
       "4                  9.93                    4       группа_3  "
      ]
     },
     "execution_count": 90,
     "metadata": {},
     "output_type": "execute_result"
    }
   ],
   "source": [
    "df['users_category'] = df['count_session_total'].apply(categorize_users)\n",
    "df.head()"
   ]
  },
  {
   "cell_type": "markdown",
   "id": "ac73ff92",
   "metadata": {},
   "source": [
    "Для анализа признаков по группам пользователей создадим датасет с данными по пользователю, удалив события"
   ]
  },
  {
   "cell_type": "code",
   "execution_count": 91,
   "id": "39c2f5be",
   "metadata": {},
   "outputs": [
    {
     "data": {
      "text/html": [
       "<div>\n",
       "<style scoped>\n",
       "    .dataframe tbody tr th:only-of-type {\n",
       "        vertical-align: middle;\n",
       "    }\n",
       "\n",
       "    .dataframe tbody tr th {\n",
       "        vertical-align: top;\n",
       "    }\n",
       "\n",
       "    .dataframe thead th {\n",
       "        text-align: right;\n",
       "    }\n",
       "</style>\n",
       "<table border=\"1\" class=\"dataframe\">\n",
       "  <thead>\n",
       "    <tr style=\"text-align: right;\">\n",
       "      <th></th>\n",
       "      <th>user_id</th>\n",
       "      <th>source</th>\n",
       "      <th>first_ts</th>\n",
       "      <th>dt</th>\n",
       "      <th>session_id</th>\n",
       "      <th>session_start</th>\n",
       "      <th>session_end</th>\n",
       "      <th>first_week</th>\n",
       "      <th>session_week</th>\n",
       "      <th>lifetime_week</th>\n",
       "      <th>weekday</th>\n",
       "      <th>hour</th>\n",
       "      <th>session_duration_min</th>\n",
       "      <th>count_session_total</th>\n",
       "      <th>users_category</th>\n",
       "    </tr>\n",
       "  </thead>\n",
       "  <tbody>\n",
       "    <tr>\n",
       "      <th>0</th>\n",
       "      <td>0001b1d5-b74a-4cbf-aeb0-7df5947bf349</td>\n",
       "      <td>other</td>\n",
       "      <td>2019-10-07 13:39:46</td>\n",
       "      <td>2019-10-07</td>\n",
       "      <td>1</td>\n",
       "      <td>2019-10-07 13:39:46</td>\n",
       "      <td>2019-10-07 13:49:42</td>\n",
       "      <td>41</td>\n",
       "      <td>41</td>\n",
       "      <td>0</td>\n",
       "      <td>1_ПН</td>\n",
       "      <td>13</td>\n",
       "      <td>9.93</td>\n",
       "      <td>4</td>\n",
       "      <td>группа_3</td>\n",
       "    </tr>\n",
       "    <tr>\n",
       "      <th>1</th>\n",
       "      <td>0001b1d5-b74a-4cbf-aeb0-7df5947bf349</td>\n",
       "      <td>other</td>\n",
       "      <td>2019-10-07 13:39:46</td>\n",
       "      <td>2019-10-07</td>\n",
       "      <td>2</td>\n",
       "      <td>2019-10-09 18:33:56</td>\n",
       "      <td>2019-10-09 18:42:23</td>\n",
       "      <td>41</td>\n",
       "      <td>41</td>\n",
       "      <td>0</td>\n",
       "      <td>3_СР</td>\n",
       "      <td>18</td>\n",
       "      <td>8.45</td>\n",
       "      <td>4</td>\n",
       "      <td>группа_3</td>\n",
       "    </tr>\n",
       "    <tr>\n",
       "      <th>2</th>\n",
       "      <td>0001b1d5-b74a-4cbf-aeb0-7df5947bf349</td>\n",
       "      <td>other</td>\n",
       "      <td>2019-10-07 13:39:46</td>\n",
       "      <td>2019-10-07</td>\n",
       "      <td>3</td>\n",
       "      <td>2019-10-21 19:52:31</td>\n",
       "      <td>2019-10-21 20:07:30</td>\n",
       "      <td>41</td>\n",
       "      <td>43</td>\n",
       "      <td>2</td>\n",
       "      <td>1_ПН</td>\n",
       "      <td>19</td>\n",
       "      <td>14.98</td>\n",
       "      <td>4</td>\n",
       "      <td>группа_3</td>\n",
       "    </tr>\n",
       "    <tr>\n",
       "      <th>3</th>\n",
       "      <td>0001b1d5-b74a-4cbf-aeb0-7df5947bf349</td>\n",
       "      <td>other</td>\n",
       "      <td>2019-10-07 13:39:46</td>\n",
       "      <td>2019-10-07</td>\n",
       "      <td>4</td>\n",
       "      <td>2019-10-22 11:18:15</td>\n",
       "      <td>2019-10-22 11:30:53</td>\n",
       "      <td>41</td>\n",
       "      <td>43</td>\n",
       "      <td>2</td>\n",
       "      <td>2_ВТ</td>\n",
       "      <td>11</td>\n",
       "      <td>12.63</td>\n",
       "      <td>4</td>\n",
       "      <td>группа_3</td>\n",
       "    </tr>\n",
       "    <tr>\n",
       "      <th>4</th>\n",
       "      <td>00157779-810c-4498-9e05-a1e9e3cedf93</td>\n",
       "      <td>yandex</td>\n",
       "      <td>2019-10-19 21:34:34</td>\n",
       "      <td>2019-10-19</td>\n",
       "      <td>1</td>\n",
       "      <td>2019-10-19 21:34:34</td>\n",
       "      <td>2019-10-19 21:59:55</td>\n",
       "      <td>42</td>\n",
       "      <td>42</td>\n",
       "      <td>0</td>\n",
       "      <td>6_СБ</td>\n",
       "      <td>21</td>\n",
       "      <td>25.35</td>\n",
       "      <td>6</td>\n",
       "      <td>группа_4</td>\n",
       "    </tr>\n",
       "  </tbody>\n",
       "</table>\n",
       "</div>"
      ],
      "text/plain": [
       "                                user_id  source            first_ts  \\\n",
       "0  0001b1d5-b74a-4cbf-aeb0-7df5947bf349   other 2019-10-07 13:39:46   \n",
       "1  0001b1d5-b74a-4cbf-aeb0-7df5947bf349   other 2019-10-07 13:39:46   \n",
       "2  0001b1d5-b74a-4cbf-aeb0-7df5947bf349   other 2019-10-07 13:39:46   \n",
       "3  0001b1d5-b74a-4cbf-aeb0-7df5947bf349   other 2019-10-07 13:39:46   \n",
       "4  00157779-810c-4498-9e05-a1e9e3cedf93  yandex 2019-10-19 21:34:34   \n",
       "\n",
       "           dt  session_id       session_start         session_end  first_week  \\\n",
       "0  2019-10-07           1 2019-10-07 13:39:46 2019-10-07 13:49:42          41   \n",
       "1  2019-10-07           2 2019-10-09 18:33:56 2019-10-09 18:42:23          41   \n",
       "2  2019-10-07           3 2019-10-21 19:52:31 2019-10-21 20:07:30          41   \n",
       "3  2019-10-07           4 2019-10-22 11:18:15 2019-10-22 11:30:53          41   \n",
       "4  2019-10-19           1 2019-10-19 21:34:34 2019-10-19 21:59:55          42   \n",
       "\n",
       "   session_week  lifetime_week weekday  hour  session_duration_min  \\\n",
       "0            41              0    1_ПН    13                  9.93   \n",
       "1            41              0    3_СР    18                  8.45   \n",
       "2            43              2    1_ПН    19                 14.98   \n",
       "3            43              2    2_ВТ    11                 12.63   \n",
       "4            42              0    6_СБ    21                 25.35   \n",
       "\n",
       "   count_session_total users_category  \n",
       "0                    4       группа_3  \n",
       "1                    4       группа_3  \n",
       "2                    4       группа_3  \n",
       "3                    4       группа_3  \n",
       "4                    6       группа_4  "
      ]
     },
     "execution_count": 91,
     "metadata": {},
     "output_type": "execute_result"
    }
   ],
   "source": [
    "df_group = df.drop(columns=['event_name', 'event_time']).drop_duplicates(subset = ['user_id', 'session_start', 'session_end'], keep = 'first')\\\n",
    "            .reset_index(drop=True)\n",
    "df_group.head()"
   ]
  },
  {
   "cell_type": "markdown",
   "id": "461b4310",
   "metadata": {},
   "source": [
    "Посчитаем количество пользователей в группах"
   ]
  },
  {
   "cell_type": "code",
   "execution_count": 92,
   "id": "4fbfd895",
   "metadata": {},
   "outputs": [
    {
     "data": {
      "text/plain": [
       "users_category\n",
       "группа_1    2379\n",
       "группа_2     854\n",
       "группа_3     773\n",
       "группа_4     287\n",
       "Name: user_id, dtype: int64"
      ]
     },
     "execution_count": 92,
     "metadata": {},
     "output_type": "execute_result"
    }
   ],
   "source": [
    "df_group.groupby('users_category')['user_id'].nunique()"
   ]
  },
  {
   "cell_type": "markdown",
   "id": "d4b61d3d",
   "metadata": {},
   "source": [
    "Посчитаем долю каждой группы от общего количества пользователей"
   ]
  },
  {
   "cell_type": "code",
   "execution_count": 93,
   "id": "92fee3c1",
   "metadata": {},
   "outputs": [
    {
     "data": {
      "text/plain": [
       "users_category\n",
       "группа_1   0.55\n",
       "группа_2   0.20\n",
       "группа_3   0.18\n",
       "группа_4   0.07\n",
       "Name: user_id, dtype: float64"
      ]
     },
     "execution_count": 93,
     "metadata": {},
     "output_type": "execute_result"
    }
   ],
   "source": [
    "df_group.groupby('users_category')['user_id'].nunique() / df_group['user_id'].nunique()"
   ]
  },
  {
   "cell_type": "markdown",
   "id": "cb23dac2",
   "metadata": {},
   "source": [
    "Выведем статистику по средним значениям признаков по кластеру"
   ]
  },
  {
   "cell_type": "code",
   "execution_count": 94,
   "id": "dab62de0",
   "metadata": {},
   "outputs": [
    {
     "data": {
      "text/html": [
       "<div>\n",
       "<style scoped>\n",
       "    .dataframe tbody tr th:only-of-type {\n",
       "        vertical-align: middle;\n",
       "    }\n",
       "\n",
       "    .dataframe tbody tr th {\n",
       "        vertical-align: top;\n",
       "    }\n",
       "\n",
       "    .dataframe thead th {\n",
       "        text-align: right;\n",
       "    }\n",
       "</style>\n",
       "<table border=\"1\" class=\"dataframe\">\n",
       "  <thead>\n",
       "    <tr style=\"text-align: right;\">\n",
       "      <th></th>\n",
       "      <th>count_session_total</th>\n",
       "      <th>session_duration_min</th>\n",
       "    </tr>\n",
       "    <tr>\n",
       "      <th>users_category</th>\n",
       "      <th></th>\n",
       "      <th></th>\n",
       "    </tr>\n",
       "  </thead>\n",
       "  <tbody>\n",
       "    <tr>\n",
       "      <th>группа_1</th>\n",
       "      <td>1</td>\n",
       "      <td>11.20</td>\n",
       "    </tr>\n",
       "    <tr>\n",
       "      <th>группа_2</th>\n",
       "      <td>2</td>\n",
       "      <td>5.33</td>\n",
       "    </tr>\n",
       "    <tr>\n",
       "      <th>группа_3</th>\n",
       "      <td>4</td>\n",
       "      <td>3.77</td>\n",
       "    </tr>\n",
       "    <tr>\n",
       "      <th>группа_4</th>\n",
       "      <td>12</td>\n",
       "      <td>3.48</td>\n",
       "    </tr>\n",
       "  </tbody>\n",
       "</table>\n",
       "</div>"
      ],
      "text/plain": [
       "                count_session_total  session_duration_min\n",
       "users_category                                           \n",
       "группа_1                          1                 11.20\n",
       "группа_2                          2                  5.33\n",
       "группа_3                          4                  3.77\n",
       "группа_4                         12                  3.48"
      ]
     },
     "execution_count": 94,
     "metadata": {},
     "output_type": "execute_result"
    }
   ],
   "source": [
    "\n",
    "df_group.groupby('users_category')[['count_session_total','session_duration_min' ]].median()\n"
   ]
  },
  {
   "cell_type": "markdown",
   "id": "c65442a8",
   "metadata": {},
   "source": [
    "Самая большая получилась первая группа, пользователи, которые пользовались приложением один раз. В этой групее 55% пользователей, медианная продолжительность сессий в этой группе - 11,2 минуты. Во второй группе пользователей 20 %, у пользователей второй группы было две сессий за период, медианное время которых - 5,33 минуты. В тертьей группе - 18% пользователей, в этой группе от 3 до 5 сессий за 4 недели, продолжительностью 3,77 минуты. Четвертая группа, группа активных польователей с количеством сессии от 6 и выше, самая малочисленная - всего 7% от всех пользователей. В этой группе средняя продолжительность сессий равна 3.48 минуты. "
   ]
  },
  {
   "cell_type": "markdown",
   "id": "9336351c",
   "metadata": {},
   "source": [
    "Посмотрим в группах удержания и конверсию"
   ]
  },
  {
   "cell_type": "markdown",
   "id": "ac07c18d",
   "metadata": {},
   "source": [
    "Посчитаем, сколько пользователей из группы совершили целевое действие"
   ]
  },
  {
   "cell_type": "code",
   "execution_count": 95,
   "id": "5c69e4c5",
   "metadata": {},
   "outputs": [
    {
     "data": {
      "text/html": [
       "<div>\n",
       "<style scoped>\n",
       "    .dataframe tbody tr th:only-of-type {\n",
       "        vertical-align: middle;\n",
       "    }\n",
       "\n",
       "    .dataframe tbody tr th {\n",
       "        vertical-align: top;\n",
       "    }\n",
       "\n",
       "    .dataframe thead th {\n",
       "        text-align: right;\n",
       "    }\n",
       "</style>\n",
       "<table border=\"1\" class=\"dataframe\">\n",
       "  <thead>\n",
       "    <tr style=\"text-align: right;\">\n",
       "      <th></th>\n",
       "      <th>users_category</th>\n",
       "      <th>user_target</th>\n",
       "    </tr>\n",
       "  </thead>\n",
       "  <tbody>\n",
       "    <tr>\n",
       "      <th>0</th>\n",
       "      <td>группа_1</td>\n",
       "      <td>360</td>\n",
       "    </tr>\n",
       "    <tr>\n",
       "      <th>1</th>\n",
       "      <td>группа_2</td>\n",
       "      <td>193</td>\n",
       "    </tr>\n",
       "    <tr>\n",
       "      <th>2</th>\n",
       "      <td>группа_3</td>\n",
       "      <td>270</td>\n",
       "    </tr>\n",
       "    <tr>\n",
       "      <th>3</th>\n",
       "      <td>группа_4</td>\n",
       "      <td>158</td>\n",
       "    </tr>\n",
       "  </tbody>\n",
       "</table>\n",
       "</div>"
      ],
      "text/plain": [
       "  users_category  user_target\n",
       "0       группа_1          360\n",
       "1       группа_2          193\n",
       "2       группа_3          270\n",
       "3       группа_4          158"
      ]
     },
     "execution_count": 95,
     "metadata": {},
     "output_type": "execute_result"
    }
   ],
   "source": [
    "df.query('event_name == \"contacts_show\"').groupby(['users_category']).agg(user_target = ('user_id','nunique')).reset_index()"
   ]
  },
  {
   "cell_type": "markdown",
   "id": "51f09f5a",
   "metadata": {},
   "source": [
    "соединяем информацию с размерами групп и количеством пользователей, совершивших целевое действие."
   ]
  },
  {
   "cell_type": "code",
   "execution_count": 96,
   "id": "fb299fc6",
   "metadata": {},
   "outputs": [
    {
     "data": {
      "text/html": [
       "<div>\n",
       "<style scoped>\n",
       "    .dataframe tbody tr th:only-of-type {\n",
       "        vertical-align: middle;\n",
       "    }\n",
       "\n",
       "    .dataframe tbody tr th {\n",
       "        vertical-align: top;\n",
       "    }\n",
       "\n",
       "    .dataframe thead th {\n",
       "        text-align: right;\n",
       "    }\n",
       "</style>\n",
       "<table border=\"1\" class=\"dataframe\">\n",
       "  <thead>\n",
       "    <tr style=\"text-align: right;\">\n",
       "      <th></th>\n",
       "      <th>users_category</th>\n",
       "      <th>user_id</th>\n",
       "      <th>user_target</th>\n",
       "      <th>conversion</th>\n",
       "    </tr>\n",
       "  </thead>\n",
       "  <tbody>\n",
       "    <tr>\n",
       "      <th>0</th>\n",
       "      <td>группа_1</td>\n",
       "      <td>2379</td>\n",
       "      <td>360</td>\n",
       "      <td>0.15</td>\n",
       "    </tr>\n",
       "    <tr>\n",
       "      <th>1</th>\n",
       "      <td>группа_2</td>\n",
       "      <td>854</td>\n",
       "      <td>193</td>\n",
       "      <td>0.23</td>\n",
       "    </tr>\n",
       "    <tr>\n",
       "      <th>2</th>\n",
       "      <td>группа_3</td>\n",
       "      <td>773</td>\n",
       "      <td>270</td>\n",
       "      <td>0.35</td>\n",
       "    </tr>\n",
       "    <tr>\n",
       "      <th>3</th>\n",
       "      <td>группа_4</td>\n",
       "      <td>287</td>\n",
       "      <td>158</td>\n",
       "      <td>0.55</td>\n",
       "    </tr>\n",
       "  </tbody>\n",
       "</table>\n",
       "</div>"
      ],
      "text/plain": [
       "  users_category  user_id  user_target  conversion\n",
       "0       группа_1     2379          360        0.15\n",
       "1       группа_2      854          193        0.23\n",
       "2       группа_3      773          270        0.35\n",
       "3       группа_4      287          158        0.55"
      ]
     },
     "execution_count": 96,
     "metadata": {},
     "output_type": "execute_result"
    }
   ],
   "source": [
    "conversion_group = (df.groupby('users_category')['user_id'].nunique().reset_index())\\\n",
    "                    .merge(df.query('event_name == \"contacts_show\"').groupby(['users_category'])\\\n",
    "                           .agg(user_target = ('user_id','nunique')).reset_index(),\\\n",
    "                    on='users_category', how='left'\n",
    ")\n",
    "conversion_group['conversion'] = conversion_group['user_target'] / conversion_group['user_id']\n",
    "conversion_group"
   ]
  },
  {
   "cell_type": "markdown",
   "id": "6a9a3b7e",
   "metadata": {},
   "source": [
    "Как и ожидалось, с числом сессий пользователей растет и конверсия в целеове действие. В первой группе, у которых была  одна сессия в приложении, самая маленькая конверсия - 15%.  Во второй группе, у которых было две сессии за анализируемый период, конверсия выше и равна 23%. В третьей группе, у которых было от 3 до 5 сессий - конверсия - 35%, в четвертой группе , в группе активных пользователй с счислом сессий от 6 и больше, конверсия самая высокая и равна 55%"
   ]
  },
  {
   "cell_type": "markdown",
   "id": "7dff7636",
   "metadata": {},
   "source": [
    "Посмотрим удержание пользователей каждой группы по неделям. "
   ]
  },
  {
   "cell_type": "markdown",
   "id": "42db97a8",
   "metadata": {},
   "source": [
    "В первой группе, у которой была одна сессия, в этой группе нулевое удержание, так как была всего одна сессия. Посмотрим распределние пользователей по неделям регистрации. Возможно большая часть этой группы пришла в последнюю неделю и не успела еще совершить повторные действия в приложении"
   ]
  },
  {
   "cell_type": "code",
   "execution_count": 97,
   "id": "3e54c236",
   "metadata": {},
   "outputs": [
    {
     "data": {
      "text/html": [
       "<div>\n",
       "<style scoped>\n",
       "    .dataframe tbody tr th:only-of-type {\n",
       "        vertical-align: middle;\n",
       "    }\n",
       "\n",
       "    .dataframe tbody tr th {\n",
       "        vertical-align: top;\n",
       "    }\n",
       "\n",
       "    .dataframe thead th {\n",
       "        text-align: right;\n",
       "    }\n",
       "</style>\n",
       "<table border=\"1\" class=\"dataframe\">\n",
       "  <thead>\n",
       "    <tr style=\"text-align: right;\">\n",
       "      <th>lifetime_week</th>\n",
       "      <th>0</th>\n",
       "    </tr>\n",
       "    <tr>\n",
       "      <th>first_week</th>\n",
       "      <th></th>\n",
       "    </tr>\n",
       "  </thead>\n",
       "  <tbody>\n",
       "    <tr>\n",
       "      <th>41</th>\n",
       "      <td>544</td>\n",
       "    </tr>\n",
       "    <tr>\n",
       "      <th>42</th>\n",
       "      <td>599</td>\n",
       "    </tr>\n",
       "    <tr>\n",
       "      <th>43</th>\n",
       "      <td>613</td>\n",
       "    </tr>\n",
       "    <tr>\n",
       "      <th>44</th>\n",
       "      <td>623</td>\n",
       "    </tr>\n",
       "  </tbody>\n",
       "</table>\n",
       "</div>"
      ],
      "text/plain": [
       "lifetime_week    0\n",
       "first_week        \n",
       "41             544\n",
       "42             599\n",
       "43             613\n",
       "44             623"
      ]
     },
     "execution_count": 97,
     "metadata": {},
     "output_type": "execute_result"
    }
   ],
   "source": [
    "df_week_group = df.query('users_category == \"группа_1\"').pivot_table(\n",
    "    index=['first_week'], columns='lifetime_week', values='user_id', aggfunc='nunique'\n",
    "    )\n",
    "df_week_group"
   ]
  },
  {
   "cell_type": "markdown",
   "id": "f6383ead",
   "metadata": {},
   "source": [
    "Пользователи превой группы распределы равномерно по неделям анализируемого периода. Значит предположение, что не успели воспользоваться повторно, неверно. Возможно, пуш-уведомления с напоминанием о приложении и его возможностях поможет вернуть часть пользователей этой группы в приложение."
   ]
  },
  {
   "cell_type": "markdown",
   "id": "530f19cd",
   "metadata": {},
   "source": [
    "Посмотрим остальные группы."
   ]
  },
  {
   "cell_type": "code",
   "execution_count": 98,
   "id": "2e71aa85",
   "metadata": {},
   "outputs": [],
   "source": [
    "# зададим функцию для расчета удержания по группам\n",
    "def retention_week(number_group):\n",
    "    \n",
    "    df_week_group = df.query('users_category == ' + number_group).pivot_table(\n",
    "    index=['first_week'], columns='lifetime_week', values='user_id', aggfunc='nunique'\n",
    "    )\n",
    "\n",
    "    df_week_group['cohort_size'] = df_week_group[0]\n",
    "    df_week_group = df_week_group.div(\n",
    "        df_week_group['cohort_size'], axis=0\n",
    "    ).drop(columns=['cohort_size'])\n",
    "    \n",
    "    return df_week_group"
   ]
  },
  {
   "cell_type": "markdown",
   "id": "8a3cf7eb",
   "metadata": {},
   "source": [
    "Удержание во второй группе:"
   ]
  },
  {
   "cell_type": "code",
   "execution_count": 99,
   "id": "cd4f954e",
   "metadata": {},
   "outputs": [
    {
     "data": {
      "text/html": [
       "<div>\n",
       "<style scoped>\n",
       "    .dataframe tbody tr th:only-of-type {\n",
       "        vertical-align: middle;\n",
       "    }\n",
       "\n",
       "    .dataframe tbody tr th {\n",
       "        vertical-align: top;\n",
       "    }\n",
       "\n",
       "    .dataframe thead th {\n",
       "        text-align: right;\n",
       "    }\n",
       "</style>\n",
       "<table border=\"1\" class=\"dataframe\">\n",
       "  <thead>\n",
       "    <tr style=\"text-align: right;\">\n",
       "      <th>lifetime_week</th>\n",
       "      <th>0</th>\n",
       "      <th>1</th>\n",
       "      <th>2</th>\n",
       "      <th>3</th>\n",
       "    </tr>\n",
       "    <tr>\n",
       "      <th>first_week</th>\n",
       "      <th></th>\n",
       "      <th></th>\n",
       "      <th></th>\n",
       "      <th></th>\n",
       "    </tr>\n",
       "  </thead>\n",
       "  <tbody>\n",
       "    <tr>\n",
       "      <th>41</th>\n",
       "      <td>1.00</td>\n",
       "      <td>0.24</td>\n",
       "      <td>0.11</td>\n",
       "      <td>0.07</td>\n",
       "    </tr>\n",
       "    <tr>\n",
       "      <th>42</th>\n",
       "      <td>1.00</td>\n",
       "      <td>0.27</td>\n",
       "      <td>0.12</td>\n",
       "      <td>NaN</td>\n",
       "    </tr>\n",
       "    <tr>\n",
       "      <th>43</th>\n",
       "      <td>1.00</td>\n",
       "      <td>0.28</td>\n",
       "      <td>NaN</td>\n",
       "      <td>NaN</td>\n",
       "    </tr>\n",
       "    <tr>\n",
       "      <th>44</th>\n",
       "      <td>1.00</td>\n",
       "      <td>NaN</td>\n",
       "      <td>NaN</td>\n",
       "      <td>NaN</td>\n",
       "    </tr>\n",
       "  </tbody>\n",
       "</table>\n",
       "</div>"
      ],
      "text/plain": [
       "lifetime_week    0    1    2    3\n",
       "first_week                       \n",
       "41            1.00 0.24 0.11 0.07\n",
       "42            1.00 0.27 0.12  NaN\n",
       "43            1.00 0.28  NaN  NaN\n",
       "44            1.00  NaN  NaN  NaN"
      ]
     },
     "execution_count": 99,
     "metadata": {},
     "output_type": "execute_result"
    }
   ],
   "source": [
    "retention_week('\"группа_2\"')"
   ]
  },
  {
   "cell_type": "markdown",
   "id": "a3d19b03",
   "metadata": {},
   "source": [
    "Удержание в третьей группе"
   ]
  },
  {
   "cell_type": "code",
   "execution_count": 100,
   "id": "5fb3df9e",
   "metadata": {},
   "outputs": [
    {
     "data": {
      "text/html": [
       "<div>\n",
       "<style scoped>\n",
       "    .dataframe tbody tr th:only-of-type {\n",
       "        vertical-align: middle;\n",
       "    }\n",
       "\n",
       "    .dataframe tbody tr th {\n",
       "        vertical-align: top;\n",
       "    }\n",
       "\n",
       "    .dataframe thead th {\n",
       "        text-align: right;\n",
       "    }\n",
       "</style>\n",
       "<table border=\"1\" class=\"dataframe\">\n",
       "  <thead>\n",
       "    <tr style=\"text-align: right;\">\n",
       "      <th>lifetime_week</th>\n",
       "      <th>0</th>\n",
       "      <th>1</th>\n",
       "      <th>2</th>\n",
       "      <th>3</th>\n",
       "    </tr>\n",
       "    <tr>\n",
       "      <th>first_week</th>\n",
       "      <th></th>\n",
       "      <th></th>\n",
       "      <th></th>\n",
       "      <th></th>\n",
       "    </tr>\n",
       "  </thead>\n",
       "  <tbody>\n",
       "    <tr>\n",
       "      <th>41</th>\n",
       "      <td>1.00</td>\n",
       "      <td>0.49</td>\n",
       "      <td>0.30</td>\n",
       "      <td>0.18</td>\n",
       "    </tr>\n",
       "    <tr>\n",
       "      <th>42</th>\n",
       "      <td>1.00</td>\n",
       "      <td>0.55</td>\n",
       "      <td>0.27</td>\n",
       "      <td>NaN</td>\n",
       "    </tr>\n",
       "    <tr>\n",
       "      <th>43</th>\n",
       "      <td>1.00</td>\n",
       "      <td>0.62</td>\n",
       "      <td>NaN</td>\n",
       "      <td>NaN</td>\n",
       "    </tr>\n",
       "    <tr>\n",
       "      <th>44</th>\n",
       "      <td>1.00</td>\n",
       "      <td>NaN</td>\n",
       "      <td>NaN</td>\n",
       "      <td>NaN</td>\n",
       "    </tr>\n",
       "  </tbody>\n",
       "</table>\n",
       "</div>"
      ],
      "text/plain": [
       "lifetime_week    0    1    2    3\n",
       "first_week                       \n",
       "41            1.00 0.49 0.30 0.18\n",
       "42            1.00 0.55 0.27  NaN\n",
       "43            1.00 0.62  NaN  NaN\n",
       "44            1.00  NaN  NaN  NaN"
      ]
     },
     "execution_count": 100,
     "metadata": {},
     "output_type": "execute_result"
    }
   ],
   "source": [
    "retention_week('\"группа_3\"')"
   ]
  },
  {
   "cell_type": "markdown",
   "id": "353fb637",
   "metadata": {},
   "source": [
    "Удержание в четвертой группе"
   ]
  },
  {
   "cell_type": "code",
   "execution_count": 101,
   "id": "78633920",
   "metadata": {},
   "outputs": [
    {
     "data": {
      "text/html": [
       "<div>\n",
       "<style scoped>\n",
       "    .dataframe tbody tr th:only-of-type {\n",
       "        vertical-align: middle;\n",
       "    }\n",
       "\n",
       "    .dataframe tbody tr th {\n",
       "        vertical-align: top;\n",
       "    }\n",
       "\n",
       "    .dataframe thead th {\n",
       "        text-align: right;\n",
       "    }\n",
       "</style>\n",
       "<table border=\"1\" class=\"dataframe\">\n",
       "  <thead>\n",
       "    <tr style=\"text-align: right;\">\n",
       "      <th>lifetime_week</th>\n",
       "      <th>0</th>\n",
       "      <th>1</th>\n",
       "      <th>2</th>\n",
       "      <th>3</th>\n",
       "    </tr>\n",
       "    <tr>\n",
       "      <th>first_week</th>\n",
       "      <th></th>\n",
       "      <th></th>\n",
       "      <th></th>\n",
       "      <th></th>\n",
       "    </tr>\n",
       "  </thead>\n",
       "  <tbody>\n",
       "    <tr>\n",
       "      <th>41</th>\n",
       "      <td>1.00</td>\n",
       "      <td>0.89</td>\n",
       "      <td>0.67</td>\n",
       "      <td>0.54</td>\n",
       "    </tr>\n",
       "    <tr>\n",
       "      <th>42</th>\n",
       "      <td>1.00</td>\n",
       "      <td>0.90</td>\n",
       "      <td>0.66</td>\n",
       "      <td>NaN</td>\n",
       "    </tr>\n",
       "    <tr>\n",
       "      <th>43</th>\n",
       "      <td>1.00</td>\n",
       "      <td>0.90</td>\n",
       "      <td>NaN</td>\n",
       "      <td>NaN</td>\n",
       "    </tr>\n",
       "    <tr>\n",
       "      <th>44</th>\n",
       "      <td>1.00</td>\n",
       "      <td>NaN</td>\n",
       "      <td>NaN</td>\n",
       "      <td>NaN</td>\n",
       "    </tr>\n",
       "  </tbody>\n",
       "</table>\n",
       "</div>"
      ],
      "text/plain": [
       "lifetime_week    0    1    2    3\n",
       "first_week                       \n",
       "41            1.00 0.89 0.67 0.54\n",
       "42            1.00 0.90 0.66  NaN\n",
       "43            1.00 0.90  NaN  NaN\n",
       "44            1.00  NaN  NaN  NaN"
      ]
     },
     "execution_count": 101,
     "metadata": {},
     "output_type": "execute_result"
    }
   ],
   "source": [
    "retention_week('\"группа_4\"')"
   ]
  },
  {
   "cell_type": "markdown",
   "id": "022f2d43",
   "metadata": {},
   "source": [
    "Retention rate в группе, у котрых было две сессии, во вторую неделю от 24% до 28%, в третью -11% - 12%, в четвертую 7%. В третьей группе , с количеством сессий от 3 до 5, - Retention rate во вторую неделю от 49% до 62 %. В третью от 27% до 30%. В четвертую - 18%. В группе активных пользователей очень высокий Retention rate по неделям, во вторую неделю около 90%, в третью 66%, в четвертую неделю - 54%. "
   ]
  },
  {
   "cell_type": "markdown",
   "id": "e1489df8",
   "metadata": {},
   "source": [
    "Вывод по разделу 4.  \n",
    "\n",
    "Самая большая первая группа - пользователи, которые пользовались приложением один раз. В этой групее 55% пользователей, медианная продолжительность сессий в этой группе - 11,2 минуты. Во второй группе пользователей 20 %, у пользователей второй группы было две сессий за период, медианное время которых - 5,33 минуты. В тертьей группе - 18% пользователей, в этой группе от 3 до 5 сессий за 4 недели, продолжительностью 3,77 минуты. Четвертая группа, группа активных польователей с количеством сессии от 6 и выше, самая малочисленная - всего 7% от всех пользователей. В этой группе средняя продолжительность сессий равна 3.48 минуты.  \n",
    "\n",
    "\n",
    "В первой группе, у которых была  одна сессия в приложении, самая маленькая конверсия - 15%.  Во второй группе, у которых было две сессии за анализируемый период, конверсия выше и равна 23%. В третьей группе, у которых было от 3 до 5 сессий - конверсия - 35%, в четвертой группе , в группе активных пользователй с счислом сессий от 6 и больше, конверсия самая высокая и равна 55%\n",
    "\n",
    "Retention rate в группе, у котрых было две сессии, во вторую неделю от 24% до 28%, в третью -11% - 12%, в четвертую 7%. В третьей группе , с количеством сессий от 3 до 5, - Retention rate во вторую неделю от 49% до 62 %. В третью от 27% до 30%. В четвертую - 18%. В группе активных пользователей очень высокий Retention rate по неделям, во вторую неделю около 90%, в третью 66%, в четвертую неделю - 54%. \n",
    "\n",
    "\n",
    "Чем больше сессий у пользователя, тем чаще он совершет целевое событие.  Необходимо увеличивать количество посещений приложения пользователями через пуш-уведомления-напоминания. "
   ]
  },
  {
   "cell_type": "markdown",
   "id": "da771401",
   "metadata": {},
   "source": [
    "## Проверка статистических гипотез"
   ]
  },
  {
   "cell_type": "markdown",
   "id": "9eb7a11a",
   "metadata": {},
   "source": [
    "### Проверка гипотезы: две группы пользователей, одна группа установила приложение по ссылке из yandex , другая - из google, демонстируют разную конверсию в просмотры контактов."
   ]
  },
  {
   "cell_type": "markdown",
   "id": "214b3f4d",
   "metadata": {},
   "source": [
    "Сформулируем гипотезы:\n",
    "\n",
    "Н0 - нет различий между конверсиями в просмотры контактов,\n",
    "Н1 - есть различия в конверсии в просмотры контактов.\n",
    "\n",
    "Зададим уровень значимости в 5% (alpha = 0.05). \n",
    "Таким образом, если в результате минимальный уровень значимости p-value будет меньше установленного уровня значимости, \n",
    "то нулевая гипотеза отвергается в пользу альтернативной, а если минимальный уровень значимости будет больше установленного\n",
    "уровня значимости в 5%, то тогда отвергнуть нулевую гипотезу не получится.\n",
    "\n",
    "Для проверки уровня статистической значимости между долями групп будем использовать z-тест пропорций."
   ]
  },
  {
   "cell_type": "markdown",
   "id": "f7248d58",
   "metadata": {},
   "source": [
    "Посчитаем конверсию в группах"
   ]
  },
  {
   "cell_type": "code",
   "execution_count": 102,
   "id": "31b9aae7",
   "metadata": {},
   "outputs": [
    {
     "data": {
      "text/plain": [
       "source\n",
       "google   0.24\n",
       "yandex   0.25\n",
       "Name: user_id, dtype: float64"
      ]
     },
     "execution_count": 102,
     "metadata": {},
     "output_type": "execute_result"
    }
   ],
   "source": [
    "df.query('(event_name == \"contacts_show\") and (source != \"other\")').groupby('source')['user_id'].nunique() / \\\n",
    "df.query('source != \"other\"').groupby('source')['user_id'].nunique()"
   ]
  },
  {
   "cell_type": "markdown",
   "id": "119676e0",
   "metadata": {},
   "source": [
    "конверсия в группах почти не отличается, но проверим уровень статисчтическую значимости между долями группы."
   ]
  },
  {
   "cell_type": "code",
   "execution_count": 103,
   "id": "7a555075",
   "metadata": {},
   "outputs": [
    {
     "data": {
      "text/plain": [
       "source\n",
       "google   0.24\n",
       "yandex   0.25\n",
       "Name: user_id, dtype: float64"
      ]
     },
     "execution_count": 103,
     "metadata": {},
     "output_type": "execute_result"
    }
   ],
   "source": [
    "df.query('(event_name == \"contacts_show\") and (source != \"other\")').groupby('source')['user_id'].nunique() / \\\n",
    "df.query('source != \"other\"').groupby('source')['user_id'].nunique()"
   ]
  },
  {
   "cell_type": "markdown",
   "id": "6089ab9d",
   "metadata": {},
   "source": [
    "конверсия в группах почти не отличается, но проверим уровень статисчтическую значимости между долями группы."
   ]
  },
  {
   "cell_type": "code",
   "execution_count": 104,
   "id": "25089a5b",
   "metadata": {},
   "outputs": [
    {
     "name": "stdout",
     "output_type": "stream",
     "text": [
      "p-значение:  0.8244316027993777\n",
      "Не получилось отвергнуть нулевую гипотезу, нет оснований считать доли разными\n"
     ]
    }
   ],
   "source": [
    "alpha = 0.5  # критический уровень статистической значимости\n",
    "\n",
    "purchases = df.query('(event_name == \"contacts_show\") and (source != \"other\")')\\\n",
    "            .groupby('source')['user_id'].nunique()\n",
    "\n",
    "leads = df.query('source != \"other\"').groupby('source')['user_id'].nunique()\n",
    "\n",
    "\n",
    "#пропорция заказов в первой группе\n",
    "p1 = purchases[0] / leads[0]\n",
    "\n",
    "#пропорция заказов в первой группе\n",
    "p2 = purchases[1] / leads[1]\n",
    "\n",
    "# пропорция заказов в комбинированном датасете\n",
    "p_combined = (purchases[0] + purchases[1]) / (leads[0] + leads[1])\n",
    "\n",
    "#разницв пропорций в датасетах\n",
    "\n",
    "difference = p1 - p2\n",
    "\n",
    "#считаем статистику в ст.отклонениях стандартного нормального распределения\n",
    "z_value = difference / mth.sqrt(p_combined * (1 - p_combined) * (1/leads[0] + 1/leads[1]))\n",
    "\n",
    "#задаем стандратное нормальное распределение (среднее 0, ст.отклонение 1)\n",
    "distr = st.norm(0,1)\n",
    "p_value = (1 - distr.cdf(abs(z_value))) * 2#  ваш код\n",
    "\n",
    "print('p-значение: ', p_value)\n",
    "if (p_value < alpha):\n",
    "    print('Отвергаем нулевую гипотезу: между долями есть значимая разница')\n",
    "else:\n",
    "    print(\n",
    "            'Не получилось отвергнуть нулевую гипотезу, нет оснований считать доли разными'\n",
    "    )"
   ]
  },
  {
   "cell_type": "markdown",
   "id": "8b44e858",
   "metadata": {},
   "source": [
    "Между группами пользователей, которые установила приложение по ссылке из yandex и из google, нет статистически значимых различий между долями группы, p-value больше критического уровня статистической значимости, а значит нет оснований отвергнуть нулевую гипотезу, а значит пользователи этих групп демонстрируют одинаковую конверсию в просмотры контактов."
   ]
  },
  {
   "cell_type": "markdown",
   "id": "0de02716",
   "metadata": {},
   "source": [
    "### Проверка гипотезы:проверить гипотезу, что группы пользователей, добавляющие объявления в избранное и не добавляющие в избранное, демонстриуют разную конверсию в просмотры контактов"
   ]
  },
  {
   "cell_type": "markdown",
   "id": "7a540572",
   "metadata": {},
   "source": [
    "Сформулируем гипотезы:\n",
    "\n",
    "Н0 - нет различий между конверсиями в просмотры контактов между группами пользователей, добавляющие объявления в избранное и не добавляющие в избранное,  \n",
    "Н1 - есть различия в конверсии в просмотры контактов между группами.\n",
    "\n",
    "Зададим уровень значимости в 5% (alpha = 0.05). \n",
    "Таким образом, если в результате минимальный уровень значимости p-value будет меньше установленного уровня значимости, \n",
    "то нулевая гипотеза отвергается в пользу альтернативной, а если минимальный уровень значимости будет больше установленного\n",
    "уровня значимости в 5%, то тогда отвергнуть нулевую гипотезу не получится.\n",
    "\n",
    "Для проверки уровня статистической значимости между долями групп будем использовать z-тест пропорций."
   ]
  },
  {
   "cell_type": "markdown",
   "id": "dd960862",
   "metadata": {},
   "source": [
    "Сформируем список пользователей, которые добавляют объявление в избранное."
   ]
  },
  {
   "cell_type": "code",
   "execution_count": 105,
   "id": "e4a47902",
   "metadata": {},
   "outputs": [],
   "source": [
    "users_f = list(df.query('event_name == \"favorites_add\"')['user_id'].unique())"
   ]
  },
  {
   "cell_type": "markdown",
   "id": "79195380",
   "metadata": {},
   "source": [
    "Создадим новый столбцев с признаком пользователя, добавляющий товар в избранное или нет."
   ]
  },
  {
   "cell_type": "code",
   "execution_count": 106,
   "id": "07f278ae",
   "metadata": {},
   "outputs": [],
   "source": [
    "def categorize_users(row):\n",
    "    try:\n",
    "        if row in users_f:\n",
    "            return 'use_favorites'\n",
    "        else:\n",
    "            return 'not_use'\n",
    "       \n",
    "    except:\n",
    "        return 'нет категории'"
   ]
  },
  {
   "cell_type": "code",
   "execution_count": 107,
   "id": "3b1d7ad3",
   "metadata": {},
   "outputs": [
    {
     "data": {
      "text/html": [
       "<div>\n",
       "<style scoped>\n",
       "    .dataframe tbody tr th:only-of-type {\n",
       "        vertical-align: middle;\n",
       "    }\n",
       "\n",
       "    .dataframe tbody tr th {\n",
       "        vertical-align: top;\n",
       "    }\n",
       "\n",
       "    .dataframe thead th {\n",
       "        text-align: right;\n",
       "    }\n",
       "</style>\n",
       "<table border=\"1\" class=\"dataframe\">\n",
       "  <thead>\n",
       "    <tr style=\"text-align: right;\">\n",
       "      <th></th>\n",
       "      <th>event_time</th>\n",
       "      <th>event_name</th>\n",
       "      <th>user_id</th>\n",
       "      <th>source</th>\n",
       "      <th>first_ts</th>\n",
       "      <th>dt</th>\n",
       "      <th>session_id</th>\n",
       "      <th>session_start</th>\n",
       "      <th>session_end</th>\n",
       "      <th>first_week</th>\n",
       "      <th>session_week</th>\n",
       "      <th>lifetime_week</th>\n",
       "      <th>weekday</th>\n",
       "      <th>hour</th>\n",
       "      <th>session_duration_min</th>\n",
       "      <th>count_session_total</th>\n",
       "      <th>users_category</th>\n",
       "      <th>use_favorites</th>\n",
       "    </tr>\n",
       "  </thead>\n",
       "  <tbody>\n",
       "    <tr>\n",
       "      <th>0</th>\n",
       "      <td>2019-10-07 13:39:46</td>\n",
       "      <td>tips_show</td>\n",
       "      <td>0001b1d5-b74a-4cbf-aeb0-7df5947bf349</td>\n",
       "      <td>other</td>\n",
       "      <td>2019-10-07 13:39:46</td>\n",
       "      <td>2019-10-07</td>\n",
       "      <td>1</td>\n",
       "      <td>2019-10-07 13:39:46</td>\n",
       "      <td>2019-10-07 13:49:42</td>\n",
       "      <td>41</td>\n",
       "      <td>41</td>\n",
       "      <td>0</td>\n",
       "      <td>1_ПН</td>\n",
       "      <td>13</td>\n",
       "      <td>9.93</td>\n",
       "      <td>4</td>\n",
       "      <td>группа_3</td>\n",
       "      <td>not_use</td>\n",
       "    </tr>\n",
       "    <tr>\n",
       "      <th>1</th>\n",
       "      <td>2019-10-07 13:40:31</td>\n",
       "      <td>tips_show</td>\n",
       "      <td>0001b1d5-b74a-4cbf-aeb0-7df5947bf349</td>\n",
       "      <td>other</td>\n",
       "      <td>2019-10-07 13:39:46</td>\n",
       "      <td>2019-10-07</td>\n",
       "      <td>1</td>\n",
       "      <td>2019-10-07 13:39:46</td>\n",
       "      <td>2019-10-07 13:49:42</td>\n",
       "      <td>41</td>\n",
       "      <td>41</td>\n",
       "      <td>0</td>\n",
       "      <td>1_ПН</td>\n",
       "      <td>13</td>\n",
       "      <td>9.93</td>\n",
       "      <td>4</td>\n",
       "      <td>группа_3</td>\n",
       "      <td>not_use</td>\n",
       "    </tr>\n",
       "    <tr>\n",
       "      <th>2</th>\n",
       "      <td>2019-10-07 13:41:06</td>\n",
       "      <td>tips_show</td>\n",
       "      <td>0001b1d5-b74a-4cbf-aeb0-7df5947bf349</td>\n",
       "      <td>other</td>\n",
       "      <td>2019-10-07 13:39:46</td>\n",
       "      <td>2019-10-07</td>\n",
       "      <td>1</td>\n",
       "      <td>2019-10-07 13:39:46</td>\n",
       "      <td>2019-10-07 13:49:42</td>\n",
       "      <td>41</td>\n",
       "      <td>41</td>\n",
       "      <td>0</td>\n",
       "      <td>1_ПН</td>\n",
       "      <td>13</td>\n",
       "      <td>9.93</td>\n",
       "      <td>4</td>\n",
       "      <td>группа_3</td>\n",
       "      <td>not_use</td>\n",
       "    </tr>\n",
       "    <tr>\n",
       "      <th>3</th>\n",
       "      <td>2019-10-07 13:43:21</td>\n",
       "      <td>tips_show</td>\n",
       "      <td>0001b1d5-b74a-4cbf-aeb0-7df5947bf349</td>\n",
       "      <td>other</td>\n",
       "      <td>2019-10-07 13:39:46</td>\n",
       "      <td>2019-10-07</td>\n",
       "      <td>1</td>\n",
       "      <td>2019-10-07 13:39:46</td>\n",
       "      <td>2019-10-07 13:49:42</td>\n",
       "      <td>41</td>\n",
       "      <td>41</td>\n",
       "      <td>0</td>\n",
       "      <td>1_ПН</td>\n",
       "      <td>13</td>\n",
       "      <td>9.93</td>\n",
       "      <td>4</td>\n",
       "      <td>группа_3</td>\n",
       "      <td>not_use</td>\n",
       "    </tr>\n",
       "    <tr>\n",
       "      <th>4</th>\n",
       "      <td>2019-10-07 13:45:31</td>\n",
       "      <td>tips_show</td>\n",
       "      <td>0001b1d5-b74a-4cbf-aeb0-7df5947bf349</td>\n",
       "      <td>other</td>\n",
       "      <td>2019-10-07 13:39:46</td>\n",
       "      <td>2019-10-07</td>\n",
       "      <td>1</td>\n",
       "      <td>2019-10-07 13:39:46</td>\n",
       "      <td>2019-10-07 13:49:42</td>\n",
       "      <td>41</td>\n",
       "      <td>41</td>\n",
       "      <td>0</td>\n",
       "      <td>1_ПН</td>\n",
       "      <td>13</td>\n",
       "      <td>9.93</td>\n",
       "      <td>4</td>\n",
       "      <td>группа_3</td>\n",
       "      <td>not_use</td>\n",
       "    </tr>\n",
       "  </tbody>\n",
       "</table>\n",
       "</div>"
      ],
      "text/plain": [
       "           event_time event_name                               user_id source  \\\n",
       "0 2019-10-07 13:39:46  tips_show  0001b1d5-b74a-4cbf-aeb0-7df5947bf349  other   \n",
       "1 2019-10-07 13:40:31  tips_show  0001b1d5-b74a-4cbf-aeb0-7df5947bf349  other   \n",
       "2 2019-10-07 13:41:06  tips_show  0001b1d5-b74a-4cbf-aeb0-7df5947bf349  other   \n",
       "3 2019-10-07 13:43:21  tips_show  0001b1d5-b74a-4cbf-aeb0-7df5947bf349  other   \n",
       "4 2019-10-07 13:45:31  tips_show  0001b1d5-b74a-4cbf-aeb0-7df5947bf349  other   \n",
       "\n",
       "             first_ts          dt  session_id       session_start  \\\n",
       "0 2019-10-07 13:39:46  2019-10-07           1 2019-10-07 13:39:46   \n",
       "1 2019-10-07 13:39:46  2019-10-07           1 2019-10-07 13:39:46   \n",
       "2 2019-10-07 13:39:46  2019-10-07           1 2019-10-07 13:39:46   \n",
       "3 2019-10-07 13:39:46  2019-10-07           1 2019-10-07 13:39:46   \n",
       "4 2019-10-07 13:39:46  2019-10-07           1 2019-10-07 13:39:46   \n",
       "\n",
       "          session_end  first_week  session_week  lifetime_week weekday  hour  \\\n",
       "0 2019-10-07 13:49:42          41            41              0    1_ПН    13   \n",
       "1 2019-10-07 13:49:42          41            41              0    1_ПН    13   \n",
       "2 2019-10-07 13:49:42          41            41              0    1_ПН    13   \n",
       "3 2019-10-07 13:49:42          41            41              0    1_ПН    13   \n",
       "4 2019-10-07 13:49:42          41            41              0    1_ПН    13   \n",
       "\n",
       "   session_duration_min  count_session_total users_category use_favorites  \n",
       "0                  9.93                    4       группа_3       not_use  \n",
       "1                  9.93                    4       группа_3       not_use  \n",
       "2                  9.93                    4       группа_3       not_use  \n",
       "3                  9.93                    4       группа_3       not_use  \n",
       "4                  9.93                    4       группа_3       not_use  "
      ]
     },
     "execution_count": 107,
     "metadata": {},
     "output_type": "execute_result"
    }
   ],
   "source": [
    "df['use_favorites'] = df['user_id'].apply(categorize_users)\n",
    "df.head()"
   ]
  },
  {
   "cell_type": "markdown",
   "id": "b3a5ffe8",
   "metadata": {},
   "source": [
    "посчитаем количество пользователей в группах"
   ]
  },
  {
   "cell_type": "code",
   "execution_count": 108,
   "id": "f30a0137",
   "metadata": {},
   "outputs": [
    {
     "data": {
      "text/plain": [
       "use_favorites\n",
       "not_use          3942\n",
       "use_favorites     351\n",
       "Name: user_id, dtype: int64"
      ]
     },
     "execution_count": 108,
     "metadata": {},
     "output_type": "execute_result"
    }
   ],
   "source": [
    "leads = df.groupby('use_favorites')['user_id'].nunique()\n",
    "leads"
   ]
  },
  {
   "cell_type": "markdown",
   "id": "f23d712a",
   "metadata": {},
   "source": [
    "Посчитаем количество пользователей в группах, выполнивших целевое действие"
   ]
  },
  {
   "cell_type": "code",
   "execution_count": 109,
   "id": "8b91e562",
   "metadata": {},
   "outputs": [
    {
     "data": {
      "text/plain": [
       "use_favorites\n",
       "not_use          845\n",
       "use_favorites    136\n",
       "Name: user_id, dtype: int64"
      ]
     },
     "execution_count": 109,
     "metadata": {},
     "output_type": "execute_result"
    }
   ],
   "source": [
    "purchases = df.query('event_name == \"contacts_show\"').groupby('use_favorites')['user_id'].nunique()\n",
    "purchases"
   ]
  },
  {
   "cell_type": "markdown",
   "id": "8e326421",
   "metadata": {},
   "source": [
    "Посчитаем конверсию в группах"
   ]
  },
  {
   "cell_type": "code",
   "execution_count": 110,
   "id": "6b129e27",
   "metadata": {},
   "outputs": [
    {
     "data": {
      "text/plain": [
       "use_favorites\n",
       "not_use         0.21\n",
       "use_favorites   0.39\n",
       "Name: user_id, dtype: float64"
      ]
     },
     "execution_count": 110,
     "metadata": {},
     "output_type": "execute_result"
    }
   ],
   "source": [
    "purchases / leads"
   ]
  },
  {
   "cell_type": "markdown",
   "id": "5258c87a",
   "metadata": {},
   "source": [
    "Конверсия в целевое действие в  группе, добавляющей товар в избранное, равна 39%, в группе , не добавляющей товар в избранное, - 22%"
   ]
  },
  {
   "cell_type": "markdown",
   "id": "caa2272d",
   "metadata": {},
   "source": [
    "Посчитаем конверсия в целевое действие в целом по всем пользователям"
   ]
  },
  {
   "cell_type": "code",
   "execution_count": 111,
   "id": "5ebaba93",
   "metadata": {},
   "outputs": [
    {
     "name": "stdout",
     "output_type": "stream",
     "text": [
      "Конверсия в целевое действие в целом по всем пользователям равна - 22.9%\n"
     ]
    }
   ],
   "source": [
    "p_combined = (purchases[0] + purchases[1]) / (leads[0] + leads[1])\n",
    "print('Конверсия в целевое действие в целом по всем пользователям равна -', \"{0:.1%}\".format(p_combined))"
   ]
  },
  {
   "cell_type": "markdown",
   "id": "fff12c28",
   "metadata": {},
   "source": [
    "Проверим уровень статистическую значимости между долями групп"
   ]
  },
  {
   "cell_type": "code",
   "execution_count": 112,
   "id": "2392b674",
   "metadata": {},
   "outputs": [
    {
     "name": "stdout",
     "output_type": "stream",
     "text": [
      "p-значение:  1.3455903058456897e-13\n",
      "Отвергаем нулевую гипотезу: между долями есть значимая разница\n"
     ]
    }
   ],
   "source": [
    "alpha = 0.5  # критический уровень статистической значимости\n",
    "\n",
    "\n",
    "#пропорция заказов в первой группе\n",
    "p1 = purchases[0] / leads[0]\n",
    "\n",
    "#пропорция заказов в первой группе\n",
    "p2 = purchases[1] / leads[1]\n",
    "\n",
    "# пропорция заказов в комбинированном датасете\n",
    "p_combined = (purchases[0] + purchases[1]) / (leads[0] + leads[1])\n",
    "\n",
    "#разницв пропорций в датасетах\n",
    "\n",
    "difference = p1 - p2\n",
    "\n",
    "#считаем статистику в ст.отклонениях стандартного нормального распределения\n",
    "z_value = difference / mth.sqrt(p_combined * (1 - p_combined) * (1/leads[0] + 1/leads[1]))\n",
    "\n",
    "#задаем стандратное нормальное распределение (среднее 0, ст.отклонение 1)\n",
    "distr = st.norm(0,1)\n",
    "p_value = (1 - distr.cdf(abs(z_value))) * 2#  ваш код\n",
    "\n",
    "print('p-значение: ', p_value)\n",
    "if (p_value < alpha):\n",
    "    print('Отвергаем нулевую гипотезу: между долями есть значимая разница')\n",
    "else:\n",
    "    print(\n",
    "            'Не получилось отвергнуть нулевую гипотезу, нет оснований считать доли разными'\n",
    "    )"
   ]
  },
  {
   "cell_type": "markdown",
   "id": "6886b2bf",
   "metadata": {},
   "source": [
    "Между группами пользователей, которые пользуются разделом избранное и не пользующиеся разделом избранное , есть статистически значимые различия между долями группы, p-value меньше критического уровеня статистической значимости, а значит  отвергаем нулевую гипотезу. Пользователи групп демонстрируют разную конверсию в просмотры контактов, Пользователи, добавляющие объявление в избранное, чаще выполняют целевое действие - просмотр контакта. \n",
    "Можно сделать рассылку группе, не пользующейся разделом избранное, о данном разделе с описанием , как работать с этим разделом и его преимуществами."
   ]
  },
  {
   "cell_type": "markdown",
   "id": "87b7ee2f",
   "metadata": {},
   "source": [
    "Вывод по разделу 5. \n",
    "Между группами пользователей, которые установила приложение по ссылке из yandex и из google, нет статистической значимости различий между долями групп,  пользователи этих групп демонстируют одинаковую конверсию в просмотры контактов.\n",
    "А между группами пользователей, которые пользуются разделом избранное и не пользующиеся разделом избранное , есть статистическая значимость различий между долями группы. Пользователи групп демонстируют разную конверсию в просмотры контактов, Пользователи, добавляющие объявление в избранное, чаще выполняют целевое действие - просмотр контакта. Можно сделать рассылку группе, не пользующейся разделом избранное, о данном разделе с описанием , как работать с этим разделом и его преимуществами. \n"
   ]
  },
  {
   "cell_type": "markdown",
   "id": "009434d3",
   "metadata": {},
   "source": [
    "## Общий вывод по исследованию"
   ]
  },
  {
   "cell_type": "markdown",
   "id": "abbed198",
   "metadata": {},
   "source": [
    "В ходе работы были проанализировано поведение пользователей приложения \"Ненужные вещи\".Данные представлены за период  с 7 октября 2019 года по 3 ноября 2019 года (4 недели), уникальных пользователей - 4293, которые установили приложение из трех источников - yandex, google и other. \n",
    "Были проанализрованы следующие метрики поведения пользователей: retention rate, время проведенное в приложении, частота действия, количество уникальных пользователей, конверсия в целевое действие - просмотр контакта. \n",
    "\n",
    "Retention rate на вторую неделю после регистраци в приложении изменяется от 21% до 24%, на третью неделю возвращается от 13% от 15%, на четвертую неделе вернулось - 10% пользователей. Удержание пользователей в зависимости от источника, с которого пришли пользователи, существенно не отличается. В среднем пользователь проводит в приложении 10 минут за сессию. В в выходные дни в субботу и воскресенье пользователи проводят в приложении немного больше времени, чем в другие дни, но при этом количество активных пользователей и сессий в выходные дни снижается. Больше всего событий в приложении происходит по понедельникам, меньше всего действий в приложении в субботу и пятницу.Наибольшая активность по количеству событий наблюдается в дневные часы - 12:00 - 15:00 и вечерние с 19:00 - 21:00.\n",
    "\n",
    "Всего за анализируемые период было зарегистрировано 4393 пользователя. С понедельника по четверг количество уникальных пользователей примерно на одном уровне - от 1024 до 1073 человек. В субботу количество активных пользователей меньше, чем в другие дни, и равно - 869 пользователя , в пятницу и выходные дни пользователей в приложении меньше, чем в будни, и равно 968 и 966 человек соответственно. У 50% пользователей за анализируемый период была только одна сессий, у 25% - две сессия, и только 25% пользователей заходили в приложение больше двух раз.\n",
    "\n",
    "Конверсия в целевое действие - просмотр контактов равна 22.9%. С 13:00 - 14:00 и с 10:00 - 11:00 пользователи чаще всего просматривают совершают целевое действие - просмотр контакта. С 17:00-19:00 наблюдается спад в количество целевого события, что может быть связано с окончанием рабочего дня и тем, что в это время непринято звонить людям, так как они могут быть в дороге.\n",
    "\n",
    "Так как пользователи пользуются приложением очень неравномерно, для деления на группы пользователей взята метрику - частота действия. Первая группа, у которых была одна сессия за период, вторая группа - 2 сессии, третья группа от 3 д 5 сессий, четвертая группа 6 и более сессий (активные пользователи).\n",
    "\n",
    "В первой группе, у которых была  одна сессия в приложении, самая маленькая конверсия - 15%.  Во второй группе, у которых было две сессии за анализируемый период, конверсия выше и равна 23%. В третьей группе, у которых было от 3 до 5 сессий - конверсия - 35%, в четвертой группе , в группе активных пользователй с счислом сессий от 6 и больше, конверсия самая высокая и равна 55%\n",
    "Retention rate в группе, у которых было две сессии, во вторую неделю от 24% до 28%, в третью -11% - 12%, в четвертую 7%. В третьей группе , с количеством сессий от 3 до 5, - Retention rate во вторую неделю от 49% до 62 %. В третью от 27% до 30%. В четвертую - 18%. В группе активных пользователей очень высокий Retention rate по неделям, во вторую неделю около 90%, в третью 66%, в четвертую неделю - 54%. \n",
    "\n",
    "Из анализа поведения групп пользователей можно сделать вывод, что:\n",
    "- чем больше сессий у пользователя, тем чаще он совершает целевое событие,  \n",
    "\n",
    "а также выявлена проблема:\n",
    "- что больше половины пользователей, пришедших в этот период, пользовались приложением один раз.\n",
    "\n",
    "В ходе работы были проверены две гипотезы. \n",
    "Первая гипотеза - две группы пользователей, одна группа установила приложение по ссылке из yandex , другая - из google, демонстируют разную конверсию в просмотры контактов. Результы теста статистической значимости различий между долями групп показали, что статистически значимых различий между группами нет,  пользователи этих групп демонстируют одинаковую конверсию в просмотры контактов. Вторая гипотеза -  группы пользователей, которые пользуются разделом избранное и не пользующиеся разделом избранное, демонстируют разную конверсию в просмотры контактов.  Результы теста статистической значимости различий между долями групп показали, что есть статистически значимые различия между долями группы. Пользователи групп демонстируют разную конверсию в просмотры контактов, Пользователи, добавляющие объявление в избранное, чаще выполняют целевое действие - просмотр контакта. \n",
    "\n",
    "\n",
    "\n",
    "В связи с этим, для увеличения числа активных пользователейи и увеличения количества просмотров контактов можно порекомендовать следующие действия:\n",
    "- пересмотреть рекламную компанию, возможна выбрана не та целевая аудитория;\n",
    "- для увеличение количество посещений приложения пользователям, редко пользующимся приложением, через пуш-уведомления рассылать напоминания о приложении с интересными предложениями;\n",
    "\n",
    "\n",
    "\n",
    "- сделать рассылку группе, не пользующейся разделом избранное, о данном разделе с описанием , как работать с этим разделом и его преимуществами."
   ]
  }
 ],
 "metadata": {
  "ExecuteTimeLog": [
   {
    "duration": 4206,
    "start_time": "2023-03-26T20:42:10.636Z"
   },
   {
    "duration": 7,
    "start_time": "2023-03-26T20:42:14.844Z"
   },
   {
    "duration": 490,
    "start_time": "2023-03-26T20:42:14.852Z"
   },
   {
    "duration": 95,
    "start_time": "2023-03-26T20:42:15.345Z"
   },
   {
    "duration": 38,
    "start_time": "2023-03-26T20:42:15.441Z"
   },
   {
    "duration": 43,
    "start_time": "2023-03-26T20:42:15.490Z"
   },
   {
    "duration": 10,
    "start_time": "2023-03-26T20:42:15.534Z"
   },
   {
    "duration": 36,
    "start_time": "2023-03-26T20:42:15.547Z"
   },
   {
    "duration": 37,
    "start_time": "2023-03-26T20:42:15.586Z"
   },
   {
    "duration": 6,
    "start_time": "2023-03-26T20:42:15.626Z"
   },
   {
    "duration": 27,
    "start_time": "2023-03-26T20:42:15.634Z"
   },
   {
    "duration": 34,
    "start_time": "2023-03-26T20:42:15.672Z"
   },
   {
    "duration": 15,
    "start_time": "2023-03-26T20:42:15.709Z"
   },
   {
    "duration": 9,
    "start_time": "2023-03-26T20:42:15.726Z"
   },
   {
    "duration": 9,
    "start_time": "2023-03-26T20:42:15.736Z"
   },
   {
    "duration": 42,
    "start_time": "2023-03-26T20:42:15.747Z"
   },
   {
    "duration": 12,
    "start_time": "2023-03-26T20:42:15.797Z"
   },
   {
    "duration": 4,
    "start_time": "2023-03-26T20:42:15.811Z"
   },
   {
    "duration": 8,
    "start_time": "2023-03-26T20:42:15.817Z"
   },
   {
    "duration": 56,
    "start_time": "2023-03-26T20:42:15.827Z"
   },
   {
    "duration": 33,
    "start_time": "2023-03-26T20:42:15.888Z"
   },
   {
    "duration": 25,
    "start_time": "2023-03-26T20:42:15.923Z"
   },
   {
    "duration": 23,
    "start_time": "2023-03-26T20:42:15.957Z"
   },
   {
    "duration": 56,
    "start_time": "2023-03-26T20:42:15.989Z"
   },
   {
    "duration": 96,
    "start_time": "2023-03-26T20:42:16.046Z"
   },
   {
    "duration": 885,
    "start_time": "2023-03-26T20:42:16.143Z"
   },
   {
    "duration": 13,
    "start_time": "2023-03-26T20:42:17.030Z"
   },
   {
    "duration": 76,
    "start_time": "2023-03-26T20:42:17.049Z"
   },
   {
    "duration": 5,
    "start_time": "2023-03-26T20:42:17.127Z"
   },
   {
    "duration": 11,
    "start_time": "2023-03-26T20:42:17.134Z"
   },
   {
    "duration": 46,
    "start_time": "2023-03-26T20:42:17.147Z"
   },
   {
    "duration": 75,
    "start_time": "2023-03-26T20:42:17.195Z"
   },
   {
    "duration": 38,
    "start_time": "2023-03-26T20:42:17.272Z"
   },
   {
    "duration": 55,
    "start_time": "2023-03-26T20:42:17.312Z"
   },
   {
    "duration": 25,
    "start_time": "2023-03-26T20:42:17.384Z"
   },
   {
    "duration": 5,
    "start_time": "2023-03-26T20:42:17.411Z"
   },
   {
    "duration": 15,
    "start_time": "2023-03-26T20:42:17.418Z"
   },
   {
    "duration": 64,
    "start_time": "2023-03-26T20:42:17.436Z"
   },
   {
    "duration": 15,
    "start_time": "2023-03-26T20:42:17.502Z"
   },
   {
    "duration": 13,
    "start_time": "2023-03-26T20:42:17.519Z"
   },
   {
    "duration": 434,
    "start_time": "2023-03-26T20:42:17.534Z"
   },
   {
    "duration": 6,
    "start_time": "2023-03-26T20:42:17.979Z"
   },
   {
    "duration": 54,
    "start_time": "2023-03-26T20:42:17.987Z"
   },
   {
    "duration": 71,
    "start_time": "2023-03-26T20:42:18.043Z"
   },
   {
    "duration": 55,
    "start_time": "2023-03-26T20:42:18.116Z"
   },
   {
    "duration": 33,
    "start_time": "2023-03-26T20:42:18.172Z"
   },
   {
    "duration": 26,
    "start_time": "2023-03-26T20:42:18.207Z"
   },
   {
    "duration": 82,
    "start_time": "2023-03-26T20:42:18.236Z"
   },
   {
    "duration": 15,
    "start_time": "2023-03-26T20:42:18.319Z"
   },
   {
    "duration": 231,
    "start_time": "2023-03-26T20:42:18.336Z"
   },
   {
    "duration": 468,
    "start_time": "2023-03-26T20:42:18.571Z"
   },
   {
    "duration": 52,
    "start_time": "2023-03-26T20:42:19.040Z"
   },
   {
    "duration": 27,
    "start_time": "2023-03-26T20:42:19.094Z"
   },
   {
    "duration": 55,
    "start_time": "2023-03-26T20:42:19.122Z"
   },
   {
    "duration": 21,
    "start_time": "2023-03-26T20:42:19.178Z"
   },
   {
    "duration": 29,
    "start_time": "2023-03-26T20:42:19.201Z"
   },
   {
    "duration": 7,
    "start_time": "2023-03-26T20:42:19.232Z"
   },
   {
    "duration": 191,
    "start_time": "2023-03-26T20:42:19.240Z"
   },
   {
    "duration": 5,
    "start_time": "2023-03-26T20:42:19.432Z"
   },
   {
    "duration": 52,
    "start_time": "2023-03-26T20:42:19.439Z"
   },
   {
    "duration": 156,
    "start_time": "2023-03-26T20:42:19.493Z"
   },
   {
    "duration": 18,
    "start_time": "2023-03-26T20:42:19.650Z"
   },
   {
    "duration": 314,
    "start_time": "2023-03-26T20:42:19.670Z"
   },
   {
    "duration": 14,
    "start_time": "2023-03-26T20:42:19.986Z"
   },
   {
    "duration": 186,
    "start_time": "2023-03-26T20:42:20.001Z"
   },
   {
    "duration": 18,
    "start_time": "2023-03-26T20:42:20.188Z"
   },
   {
    "duration": 302,
    "start_time": "2023-03-26T20:42:20.207Z"
   },
   {
    "duration": 14,
    "start_time": "2023-03-26T20:42:20.511Z"
   },
   {
    "duration": 72,
    "start_time": "2023-03-26T20:42:20.527Z"
   },
   {
    "duration": 180,
    "start_time": "2023-03-26T20:42:20.602Z"
   },
   {
    "duration": 37,
    "start_time": "2023-03-26T20:42:20.784Z"
   },
   {
    "duration": 7,
    "start_time": "2023-03-26T20:42:20.823Z"
   },
   {
    "duration": 43,
    "start_time": "2023-03-26T20:42:20.832Z"
   },
   {
    "duration": 16,
    "start_time": "2023-03-26T20:42:20.876Z"
   },
   {
    "duration": 27,
    "start_time": "2023-03-26T20:42:20.894Z"
   },
   {
    "duration": 23,
    "start_time": "2023-03-26T20:42:20.923Z"
   },
   {
    "duration": 36,
    "start_time": "2023-03-26T20:42:20.947Z"
   },
   {
    "duration": 193,
    "start_time": "2023-03-26T20:42:20.984Z"
   },
   {
    "duration": 19,
    "start_time": "2023-03-26T20:42:21.178Z"
   },
   {
    "duration": 356,
    "start_time": "2023-03-26T20:42:21.199Z"
   },
   {
    "duration": 11,
    "start_time": "2023-03-26T20:42:21.556Z"
   },
   {
    "duration": 63,
    "start_time": "2023-03-26T20:42:21.572Z"
   },
   {
    "duration": 4,
    "start_time": "2023-03-26T20:42:21.636Z"
   },
   {
    "duration": 49,
    "start_time": "2023-03-26T20:42:21.642Z"
   },
   {
    "duration": 47,
    "start_time": "2023-03-26T20:42:21.693Z"
   },
   {
    "duration": 16,
    "start_time": "2023-03-26T20:42:21.754Z"
   },
   {
    "duration": 23,
    "start_time": "2023-03-26T20:42:21.785Z"
   },
   {
    "duration": 19,
    "start_time": "2023-03-26T20:42:21.810Z"
   },
   {
    "duration": 35,
    "start_time": "2023-03-26T20:42:21.830Z"
   },
   {
    "duration": 36,
    "start_time": "2023-03-26T20:42:21.876Z"
   },
   {
    "duration": 23,
    "start_time": "2023-03-26T20:42:21.914Z"
   },
   {
    "duration": 4,
    "start_time": "2023-03-26T20:42:21.939Z"
   },
   {
    "duration": 63,
    "start_time": "2023-03-26T20:42:21.944Z"
   },
   {
    "duration": 22,
    "start_time": "2023-03-26T20:42:22.008Z"
   },
   {
    "duration": 30,
    "start_time": "2023-03-26T20:42:22.032Z"
   },
   {
    "duration": 36,
    "start_time": "2023-03-26T20:42:22.064Z"
   },
   {
    "duration": 44,
    "start_time": "2023-03-26T20:42:22.101Z"
   },
   {
    "duration": 47,
    "start_time": "2023-03-26T20:42:22.159Z"
   },
   {
    "duration": 9,
    "start_time": "2023-03-26T20:42:22.207Z"
   },
   {
    "duration": 3,
    "start_time": "2023-03-26T20:42:22.218Z"
   },
   {
    "duration": 374,
    "start_time": "2023-03-26T20:42:22.223Z"
   },
   {
    "duration": 19,
    "start_time": "2023-03-26T20:42:22.598Z"
   },
   {
    "duration": 24,
    "start_time": "2023-03-26T20:42:22.618Z"
   },
   {
    "duration": 13,
    "start_time": "2023-03-26T20:42:22.660Z"
   },
   {
    "duration": 26,
    "start_time": "2023-03-26T20:42:22.674Z"
   },
   {
    "duration": 15,
    "start_time": "2023-03-26T20:42:22.701Z"
   },
   {
    "duration": 22,
    "start_time": "2023-03-26T20:45:38.985Z"
   },
   {
    "duration": 3563,
    "start_time": "2023-03-30T15:31:38.635Z"
   },
   {
    "duration": 3,
    "start_time": "2023-03-30T15:31:42.200Z"
   },
   {
    "duration": 303,
    "start_time": "2023-03-30T15:31:42.204Z"
   },
   {
    "duration": 123,
    "start_time": "2023-03-30T15:31:42.509Z"
   },
   {
    "duration": 6,
    "start_time": "2023-03-30T15:31:42.634Z"
   },
   {
    "duration": 29,
    "start_time": "2023-03-30T15:31:42.642Z"
   },
   {
    "duration": 54,
    "start_time": "2023-03-30T15:31:42.673Z"
   },
   {
    "duration": 25,
    "start_time": "2023-03-30T15:31:42.729Z"
   },
   {
    "duration": 17,
    "start_time": "2023-03-30T15:31:42.756Z"
   },
   {
    "duration": 7,
    "start_time": "2023-03-30T15:31:42.778Z"
   },
   {
    "duration": 61,
    "start_time": "2023-03-30T15:31:42.787Z"
   },
   {
    "duration": 15,
    "start_time": "2023-03-30T15:31:42.851Z"
   },
   {
    "duration": 12,
    "start_time": "2023-03-30T15:31:42.868Z"
   },
   {
    "duration": 12,
    "start_time": "2023-03-30T15:31:42.881Z"
   },
   {
    "duration": 35,
    "start_time": "2023-03-30T15:31:42.894Z"
   },
   {
    "duration": 24,
    "start_time": "2023-03-30T15:31:42.930Z"
   },
   {
    "duration": 6,
    "start_time": "2023-03-30T15:31:42.956Z"
   },
   {
    "duration": 10,
    "start_time": "2023-03-30T15:31:42.963Z"
   },
   {
    "duration": 7,
    "start_time": "2023-03-30T15:31:42.974Z"
   },
   {
    "duration": 49,
    "start_time": "2023-03-30T15:31:42.983Z"
   },
   {
    "duration": 90,
    "start_time": "2023-03-30T15:31:43.034Z"
   },
   {
    "duration": 28,
    "start_time": "2023-03-30T15:31:43.127Z"
   },
   {
    "duration": 883,
    "start_time": "2023-03-30T15:31:43.157Z"
   },
   {
    "duration": 10,
    "start_time": "2023-03-30T15:31:44.042Z"
   },
   {
    "duration": 46,
    "start_time": "2023-03-30T15:31:44.054Z"
   },
   {
    "duration": 76,
    "start_time": "2023-03-30T15:31:44.102Z"
   },
   {
    "duration": 812,
    "start_time": "2023-03-30T15:31:44.180Z"
   },
   {
    "duration": 4,
    "start_time": "2023-03-30T15:31:44.997Z"
   },
   {
    "duration": 51,
    "start_time": "2023-03-30T15:31:45.002Z"
   },
   {
    "duration": 5,
    "start_time": "2023-03-30T15:31:45.055Z"
   },
   {
    "duration": 14,
    "start_time": "2023-03-30T15:31:45.061Z"
   },
   {
    "duration": 27,
    "start_time": "2023-03-30T15:31:45.077Z"
   },
   {
    "duration": 72,
    "start_time": "2023-03-30T15:31:45.106Z"
   },
   {
    "duration": 59,
    "start_time": "2023-03-30T15:31:45.180Z"
   },
   {
    "duration": 62,
    "start_time": "2023-03-30T15:31:45.242Z"
   },
   {
    "duration": 38,
    "start_time": "2023-03-30T15:31:45.306Z"
   },
   {
    "duration": 6,
    "start_time": "2023-03-30T15:31:45.346Z"
   },
   {
    "duration": 14,
    "start_time": "2023-03-30T15:31:45.354Z"
   },
   {
    "duration": 11,
    "start_time": "2023-03-30T15:31:45.371Z"
   },
   {
    "duration": 9,
    "start_time": "2023-03-30T15:31:45.385Z"
   },
   {
    "duration": 27,
    "start_time": "2023-03-30T15:31:45.396Z"
   },
   {
    "duration": 10,
    "start_time": "2023-03-30T15:31:45.426Z"
   },
   {
    "duration": 348,
    "start_time": "2023-03-30T15:31:45.438Z"
   },
   {
    "duration": 4,
    "start_time": "2023-03-30T15:31:45.788Z"
   },
   {
    "duration": 65,
    "start_time": "2023-03-30T15:31:45.794Z"
   },
   {
    "duration": 42,
    "start_time": "2023-03-30T15:31:45.861Z"
   },
   {
    "duration": 55,
    "start_time": "2023-03-30T15:31:45.905Z"
   },
   {
    "duration": 32,
    "start_time": "2023-03-30T15:31:45.961Z"
   },
   {
    "duration": 37,
    "start_time": "2023-03-30T15:31:45.995Z"
   },
   {
    "duration": 54,
    "start_time": "2023-03-30T15:31:46.034Z"
   },
   {
    "duration": 36,
    "start_time": "2023-03-30T15:31:46.089Z"
   },
   {
    "duration": 202,
    "start_time": "2023-03-30T15:31:46.127Z"
   },
   {
    "duration": 510,
    "start_time": "2023-03-30T15:31:46.330Z"
   },
   {
    "duration": 18,
    "start_time": "2023-03-30T15:31:46.841Z"
   },
   {
    "duration": 179,
    "start_time": "2023-03-30T15:31:46.861Z"
   },
   {
    "duration": 12,
    "start_time": "2023-03-30T15:31:47.041Z"
   },
   {
    "duration": 16,
    "start_time": "2023-03-30T15:31:47.055Z"
   },
   {
    "duration": 57,
    "start_time": "2023-03-30T15:31:47.072Z"
   },
   {
    "duration": 9,
    "start_time": "2023-03-30T15:31:47.131Z"
   },
   {
    "duration": 20,
    "start_time": "2023-03-30T15:31:47.142Z"
   },
   {
    "duration": 9,
    "start_time": "2023-03-30T15:31:47.164Z"
   },
   {
    "duration": 201,
    "start_time": "2023-03-30T15:31:47.177Z"
   },
   {
    "duration": 185,
    "start_time": "2023-03-30T15:31:47.380Z"
   },
   {
    "duration": 6,
    "start_time": "2023-03-30T15:31:47.567Z"
   },
   {
    "duration": 41,
    "start_time": "2023-03-30T15:31:47.574Z"
   },
   {
    "duration": 170,
    "start_time": "2023-03-30T15:31:47.617Z"
   },
   {
    "duration": 15,
    "start_time": "2023-03-30T15:31:47.789Z"
   },
   {
    "duration": 399,
    "start_time": "2023-03-30T15:31:47.806Z"
   },
   {
    "duration": 24,
    "start_time": "2023-03-30T15:31:48.207Z"
   },
   {
    "duration": 184,
    "start_time": "2023-03-30T15:31:48.233Z"
   },
   {
    "duration": 13,
    "start_time": "2023-03-30T15:31:48.423Z"
   },
   {
    "duration": 301,
    "start_time": "2023-03-30T15:31:48.438Z"
   },
   {
    "duration": 17,
    "start_time": "2023-03-30T15:31:48.742Z"
   },
   {
    "duration": 35,
    "start_time": "2023-03-30T15:31:48.762Z"
   },
   {
    "duration": 190,
    "start_time": "2023-03-30T15:31:48.799Z"
   },
   {
    "duration": 44,
    "start_time": "2023-03-30T15:31:48.991Z"
   },
   {
    "duration": 10,
    "start_time": "2023-03-30T15:31:49.037Z"
   },
   {
    "duration": 394,
    "start_time": "2023-03-30T15:31:49.049Z"
   },
   {
    "duration": 15,
    "start_time": "2023-03-30T15:31:49.445Z"
   },
   {
    "duration": 14,
    "start_time": "2023-03-30T15:31:49.462Z"
   },
   {
    "duration": 55,
    "start_time": "2023-03-30T15:31:49.477Z"
   },
   {
    "duration": 34,
    "start_time": "2023-03-30T15:31:49.538Z"
   },
   {
    "duration": 22,
    "start_time": "2023-03-30T15:31:49.574Z"
   },
   {
    "duration": 191,
    "start_time": "2023-03-30T15:31:49.599Z"
   },
   {
    "duration": 32,
    "start_time": "2023-03-30T15:31:49.792Z"
   },
   {
    "duration": 281,
    "start_time": "2023-03-30T15:31:49.827Z"
   },
   {
    "duration": 7,
    "start_time": "2023-03-30T15:31:50.110Z"
   },
   {
    "duration": 52,
    "start_time": "2023-03-30T15:31:50.124Z"
   },
   {
    "duration": 4,
    "start_time": "2023-03-30T15:31:50.178Z"
   },
   {
    "duration": 62,
    "start_time": "2023-03-30T15:31:50.183Z"
   },
   {
    "duration": 89,
    "start_time": "2023-03-30T15:31:50.247Z"
   },
   {
    "duration": 12,
    "start_time": "2023-03-30T15:31:50.338Z"
   },
   {
    "duration": 21,
    "start_time": "2023-03-30T15:31:50.352Z"
   },
   {
    "duration": 22,
    "start_time": "2023-03-30T15:31:50.375Z"
   },
   {
    "duration": 44,
    "start_time": "2023-03-30T15:31:50.400Z"
   },
   {
    "duration": 55,
    "start_time": "2023-03-30T15:31:50.446Z"
   },
   {
    "duration": 56,
    "start_time": "2023-03-30T15:31:50.503Z"
   },
   {
    "duration": 5,
    "start_time": "2023-03-30T15:31:50.561Z"
   },
   {
    "duration": 48,
    "start_time": "2023-03-30T15:31:50.568Z"
   },
   {
    "duration": 34,
    "start_time": "2023-03-30T15:31:50.624Z"
   },
   {
    "duration": 29,
    "start_time": "2023-03-30T15:31:50.660Z"
   },
   {
    "duration": 63,
    "start_time": "2023-03-30T15:31:50.691Z"
   },
   {
    "duration": 41,
    "start_time": "2023-03-30T15:31:50.756Z"
   },
   {
    "duration": 59,
    "start_time": "2023-03-30T15:31:50.799Z"
   },
   {
    "duration": 9,
    "start_time": "2023-03-30T15:31:50.860Z"
   },
   {
    "duration": 6,
    "start_time": "2023-03-30T15:31:50.871Z"
   },
   {
    "duration": 341,
    "start_time": "2023-03-30T15:31:50.878Z"
   },
   {
    "duration": 21,
    "start_time": "2023-03-30T15:31:51.223Z"
   },
   {
    "duration": 27,
    "start_time": "2023-03-30T15:31:51.246Z"
   },
   {
    "duration": 6,
    "start_time": "2023-03-30T15:31:51.275Z"
   },
   {
    "duration": 13,
    "start_time": "2023-03-30T15:31:51.283Z"
   },
   {
    "duration": 8,
    "start_time": "2023-03-30T15:31:51.323Z"
   }
  ],
  "kernelspec": {
   "display_name": "Python 3 (ipykernel)",
   "language": "python",
   "name": "python3"
  },
  "language_info": {
   "codemirror_mode": {
    "name": "ipython",
    "version": 3
   },
   "file_extension": ".py",
   "mimetype": "text/x-python",
   "name": "python",
   "nbconvert_exporter": "python",
   "pygments_lexer": "ipython3",
   "version": "3.9.13"
  },
  "toc": {
   "base_numbering": 1,
   "nav_menu": {},
   "number_sections": true,
   "sideBar": true,
   "skip_h1_title": true,
   "title_cell": "Table of Contents",
   "title_sidebar": "Contents",
   "toc_cell": true,
   "toc_position": {
    "height": "calc(100% - 180px)",
    "left": "10px",
    "top": "150px",
    "width": "281px"
   },
   "toc_section_display": true,
   "toc_window_display": true
  }
 },
 "nbformat": 4,
 "nbformat_minor": 5
}
